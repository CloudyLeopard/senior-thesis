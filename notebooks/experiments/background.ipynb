{
 "cells": [
  {
   "cell_type": "markdown",
   "metadata": {},
   "source": [
    "# Background Research Experiment"
   ]
  },
  {
   "cell_type": "code",
   "execution_count": 1,
   "metadata": {},
   "outputs": [],
   "source": [
    "from kruppe.llm import OpenAILLM\n",
    "from kruppe.prompts.background import (\n",
    "    RESEARCH_STANDARD_SYSTEM,\n",
    "    ANALYZE_QUERY_USER_CHAIN,\n",
    "    ASSIGN_TOOL_USER,\n",
    ")\n",
    "\n",
    "llm = OpenAILLM()"
   ]
  },
  {
   "cell_type": "markdown",
   "metadata": {},
   "source": [
    "## Analyze Query"
   ]
  },
  {
   "cell_type": "code",
   "execution_count": 4,
   "metadata": {},
   "outputs": [],
   "source": [
    "query = \"How will Nvidia’s recent GTC Conference announcements—specifically its new AI products and strategies—impact its competitive positioning and long-term growth in the evolving AI and data center markets?\""
   ]
  },
  {
   "cell_type": "code",
   "execution_count": 5,
   "metadata": {},
   "outputs": [
    {
     "name": "stdout",
     "output_type": "stream",
     "text": [
      "(entity|Nvidia|firm|Nvidia is the main subject of the query, as the question focuses on its announcements and performance in the market.)\n",
      "(entity|GTC Conference|event|The GTC Conference is a specific event where Nvidia made announcements; understanding this event is crucial for context regarding the announcements made.)\n",
      "(entity|AI products|terminology|The new AI products mentioned are a primary focus that needs to be explored further to understand their features and potential impact.)\n",
      "(entity|strategies|terminology|The strategies that Nvidia is employing are central to evaluating how they might influence competitive positioning and growth, necessitating deeper insight into them.)\n",
      "(entity|competitive positioning|terminology|Competitive positioning is essential to the query as it assesses Nvidia's market standing relative to its competitors, requiring further understanding of market dynamics.)\n",
      "(entity|long-term growth|terminology|Long-term growth is a major concern of the inquiry, highlighting the need to analyze Nvidia’s sustainability and scalability in the market.)\n",
      "(entity|evolving AI market|industry|The evolving AI market represents the broader context influencing Nvidia's potential success and impacts, therefore understanding its trends and players is necessary.)\n",
      "(entity|data center market|industry|The data center market is another critical area in which Nvidia operates; insights into this market will help gauge its strategic importance for future growth.)\n",
      "\n",
      "(info|Details of Nvidia's new AI products announced at GTC Conference, including specifications and expected launch timeline|industry|This information is crucial to gauge how innovative or competitive these products are compared to other offerings in the market, impacting performance.|Nvidia)\n",
      "(info|Insights on Nvidia's strategic initiatives discussed at the GTC Conference, including partnerships, investments, and research directions|others|Understanding these strategies will clarify Nvidia's approach to market competition and potential growth pathways, directly influencing competitive positioning.|Nvidia)\n",
      "(info|Analysis of industry trends in AI products, including current and emerging competitors and technological advancements|industry|This information is vital to assess how Nvidia's new products will resonate in the competitive landscape and their potential market share impact.|AI products)\n",
      "(info|Evaluation of competitive positioning metrics for Nvidia compared to its main competitors in AI and data center sectors|finance|Such metrics are needed to determine how Nvidia stands against its rivals and the effectiveness of its recent announcements in enhancing its position.|competitive positioning)\n",
      "(info|Research on market projections and growth rates for the AI and data center industries over the next several years|economy|Understanding these projections will outline the potential landscape for Nvidia's long-term growth and the viability of its strategies in the evolving market.|long-term growth)\n",
      "(info|Overview of the challenges and opportunities within the evolving AI market and data center market|industry|This overview will inform the impact of industry evolution on Nvidia's positioning, providing necessary context to evaluate strategic adaptability.|evolving AI market)\n",
      "(info|Current trends and future outlook of the data center market, particularly what innovations are expected to shape it in the coming years|industry|Such insights would help frame how Nvidia might leverage its tech innovations to maintain growth within this specific sector.|data center market)(info|Details of Nvidia's new AI products announced at GTC Conference, including specifications and expected launch timeline|industry|This information is crucial to gauge how innovative or competitive these products are compared to other offerings in the market, impacting performance.)\n",
      "(info|Insights on Nvidia's strategic initiatives discussed at the GTC Conference, including partnerships, investments, and research directions|others|Understanding these strategies will clarify Nvidia's approach to market competition and potential growth pathways, directly influencing competitive positioning.)\n",
      "(info|Analysis of industry trends in AI products, including current and emerging competitors and technological advancements|industry|This information is vital to assess how Nvidia's new products will resonate in the competitive landscape and their potential market share impact.)\n",
      "(info|Evaluation of competitive positioning metrics for Nvidia compared to its main competitors in AI and data center sectors|finance|Such metrics are needed to determine how Nvidia stands against its rivals and the effectiveness of its recent announcements in enhancing its position.)\n",
      "(info|Research on market projections and growth rates for the AI and data center industries over the next several years|economy|Understanding these projections will outline the potential landscape for Nvidia's long-term growth and the viability of its strategies in the evolving market.)\n",
      "(info|Overview of the challenges and opportunities within the evolving AI market and data center market|industry|This overview will inform the impact of industry evolution on Nvidia's positioning, providing necessary context to evaluate strategic adaptability.)\n",
      "(info|Current trends and future outlook of the data center market, particularly what innovations are expected to shape it in the coming years|industry|Such insights would help frame how Nvidia might leverage its tech innovations to maintain growth within this specific sector.)\n"
     ]
    }
   ],
   "source": [
    "entity_categories = [\n",
    "    \"firm\",\n",
    "    \"industry\",\n",
    "    \"country\",\n",
    "    \"event\",\n",
    "    \"personnel\",\n",
    "    \"terminology\",\n",
    "]\n",
    "information_categories = [\"finance\", \"economy\", \"industry\"]\n",
    "\n",
    "user_message = ANALYZE_QUERY_USER_CHAIN[0].format(\n",
    "    query=query,\n",
    "    entity_categories=\", \".join(entity_categories),\n",
    "    information_categories = \", \".join(information_categories)\n",
    ")\n",
    "messages = [\n",
    "    {\"role\": \"system\", \"content\": RESEARCH_STANDARD_SYSTEM},\n",
    "    {\"role\": \"user\", \"content\": user_message},\n",
    "]\n",
    "\n",
    "response1 = await llm.async_generate(messages)\n",
    "messages.append({\"role\": \"assistant\", \"content\": response1.text})\n",
    "\n",
    "# extract additional information from query\n",
    "followup_message = ANALYZE_QUERY_USER_CHAIN[1].format(\n",
    "    query=query, information_categories=\", \".join(information_categories)\n",
    ")\n",
    "messages.append({\"role\": \"user\", \"content\": followup_message})\n",
    "\n",
    "response2 = await llm.async_generate(messages)\n",
    "messages.append({\"role\": \"assistant\", \"content\": response2.text})\n",
    "\n",
    "response_text = response1.text+response2.text\n",
    "print(response_text)\n"
   ]
  },
  {
   "cell_type": "code",
   "execution_count": 6,
   "metadata": {},
   "outputs": [
    {
     "data": {
      "text/plain": [
       "([{'type': 'info',\n",
       "   'info_description': \"Details of Nvidia's new AI products announced at GTC Conference, including specifications and expected launch timeline\",\n",
       "   'info_category': 'industry',\n",
       "   'reasoning': 'This information is crucial to gauge how innovative or competitive these products are compared to other offerings in the market, impacting performance.',\n",
       "   'entity_name': 'Nvidia'},\n",
       "  {'type': 'info',\n",
       "   'info_description': \"Insights on Nvidia's strategic initiatives discussed at the GTC Conference, including partnerships, investments, and research directions\",\n",
       "   'info_category': 'others',\n",
       "   'reasoning': \"Understanding these strategies will clarify Nvidia's approach to market competition and potential growth pathways, directly influencing competitive positioning.\",\n",
       "   'entity_name': 'Nvidia'},\n",
       "  {'type': 'info',\n",
       "   'info_description': 'Analysis of industry trends in AI products, including current and emerging competitors and technological advancements',\n",
       "   'info_category': 'industry',\n",
       "   'reasoning': \"This information is vital to assess how Nvidia's new products will resonate in the competitive landscape and their potential market share impact.\",\n",
       "   'entity_name': 'AI products'},\n",
       "  {'type': 'info',\n",
       "   'info_description': 'Evaluation of competitive positioning metrics for Nvidia compared to its main competitors in AI and data center sectors',\n",
       "   'info_category': 'finance',\n",
       "   'reasoning': 'Such metrics are needed to determine how Nvidia stands against its rivals and the effectiveness of its recent announcements in enhancing its position.',\n",
       "   'entity_name': 'competitive positioning'},\n",
       "  {'type': 'info',\n",
       "   'info_description': 'Research on market projections and growth rates for the AI and data center industries over the next several years',\n",
       "   'info_category': 'economy',\n",
       "   'reasoning': \"Understanding these projections will outline the potential landscape for Nvidia's long-term growth and the viability of its strategies in the evolving market.\",\n",
       "   'entity_name': 'long-term growth'},\n",
       "  {'type': 'info',\n",
       "   'info_description': 'Overview of the challenges and opportunities within the evolving AI market and data center market',\n",
       "   'info_category': 'industry',\n",
       "   'reasoning': \"This overview will inform the impact of industry evolution on Nvidia's positioning, providing necessary context to evaluate strategic adaptability.\",\n",
       "   'entity_name': 'evolving AI market'},\n",
       "  {'type': 'info',\n",
       "   'info_description': 'Current trends and future outlook of the data center market, particularly what innovations are expected to shape it in the coming years',\n",
       "   'info_category': 'industry',\n",
       "   'reasoning': 'Such insights would help frame how Nvidia might leverage its tech innovations to maintain growth within this specific sector.',\n",
       "   'entity_name': 'data center market'},\n",
       "  {'type': 'info',\n",
       "   'info_description': \"Insights on Nvidia's strategic initiatives discussed at the GTC Conference, including partnerships, investments, and research directions\",\n",
       "   'info_category': 'others',\n",
       "   'reasoning': \"Understanding these strategies will clarify Nvidia's approach to market competition and potential growth pathways, directly influencing competitive positioning.\",\n",
       "   'entity_name': ''},\n",
       "  {'type': 'info',\n",
       "   'info_description': 'Analysis of industry trends in AI products, including current and emerging competitors and technological advancements',\n",
       "   'info_category': 'industry',\n",
       "   'reasoning': \"This information is vital to assess how Nvidia's new products will resonate in the competitive landscape and their potential market share impact.\",\n",
       "   'entity_name': ''},\n",
       "  {'type': 'info',\n",
       "   'info_description': 'Evaluation of competitive positioning metrics for Nvidia compared to its main competitors in AI and data center sectors',\n",
       "   'info_category': 'finance',\n",
       "   'reasoning': 'Such metrics are needed to determine how Nvidia stands against its rivals and the effectiveness of its recent announcements in enhancing its position.',\n",
       "   'entity_name': ''},\n",
       "  {'type': 'info',\n",
       "   'info_description': 'Research on market projections and growth rates for the AI and data center industries over the next several years',\n",
       "   'info_category': 'economy',\n",
       "   'reasoning': \"Understanding these projections will outline the potential landscape for Nvidia's long-term growth and the viability of its strategies in the evolving market.\",\n",
       "   'entity_name': ''},\n",
       "  {'type': 'info',\n",
       "   'info_description': 'Overview of the challenges and opportunities within the evolving AI market and data center market',\n",
       "   'info_category': 'industry',\n",
       "   'reasoning': \"This overview will inform the impact of industry evolution on Nvidia's positioning, providing necessary context to evaluate strategic adaptability.\",\n",
       "   'entity_name': ''},\n",
       "  {'type': 'info',\n",
       "   'info_description': 'Current trends and future outlook of the data center market, particularly what innovations are expected to shape it in the coming years',\n",
       "   'info_category': 'industry',\n",
       "   'reasoning': 'Such insights would help frame how Nvidia might leverage its tech innovations to maintain growth within this specific sector.',\n",
       "   'entity_name': ''}],\n",
       " [{'type': 'entity',\n",
       "   'entity_name': 'Nvidia',\n",
       "   'entity_category': 'firm',\n",
       "   'reasoning': 'Nvidia is the main subject of the query, as the question focuses on its announcements and performance in the market.'},\n",
       "  {'type': 'entity',\n",
       "   'entity_name': 'GTC Conference',\n",
       "   'entity_category': 'event',\n",
       "   'reasoning': 'The GTC Conference is a specific event where Nvidia made announcements; understanding this event is crucial for context regarding the announcements made.'},\n",
       "  {'type': 'entity',\n",
       "   'entity_name': 'AI products',\n",
       "   'entity_category': 'terminology',\n",
       "   'reasoning': 'The new AI products mentioned are a primary focus that needs to be explored further to understand their features and potential impact.'},\n",
       "  {'type': 'entity',\n",
       "   'entity_name': 'strategies',\n",
       "   'entity_category': 'terminology',\n",
       "   'reasoning': 'The strategies that Nvidia is employing are central to evaluating how they might influence competitive positioning and growth, necessitating deeper insight into them.'},\n",
       "  {'type': 'entity',\n",
       "   'entity_name': 'competitive positioning',\n",
       "   'entity_category': 'terminology',\n",
       "   'reasoning': \"Competitive positioning is essential to the query as it assesses Nvidia's market standing relative to its competitors, requiring further understanding of market dynamics.\"},\n",
       "  {'type': 'entity',\n",
       "   'entity_name': 'long-term growth',\n",
       "   'entity_category': 'terminology',\n",
       "   'reasoning': 'Long-term growth is a major concern of the inquiry, highlighting the need to analyze Nvidia’s sustainability and scalability in the market.'},\n",
       "  {'type': 'entity',\n",
       "   'entity_name': 'evolving AI market',\n",
       "   'entity_category': 'industry',\n",
       "   'reasoning': \"The evolving AI market represents the broader context influencing Nvidia's potential success and impacts, therefore understanding its trends and players is necessary.\"},\n",
       "  {'type': 'entity',\n",
       "   'entity_name': 'data center market',\n",
       "   'entity_category': 'industry',\n",
       "   'reasoning': 'The data center market is another critical area in which Nvidia operates; insights into this market will help gauge its strategic importance for future growth.'}])"
      ]
     },
     "execution_count": 6,
     "metadata": {},
     "output_type": "execute_result"
    }
   ],
   "source": [
    "import re\n",
    "def _process_info_request(response_text: str):\n",
    "    pattern = re.compile(r'(?<=\\(|\\|)([^|()]+)(?=\\||\\))')\n",
    "    results = response_text.splitlines()\n",
    "\n",
    "    info_requests = [] # i call them \"requests\", like \"info_requests\" or \"tool_requests\"\n",
    "    entities = []\n",
    "\n",
    "    for result in results:\n",
    "        match = pattern.findall(result)\n",
    "\n",
    "        if not match: continue\n",
    "        # print(match)\n",
    "\n",
    "        if (match[0] == \"entity\"):\n",
    "            entity = {\n",
    "                \"type\": match[0],\n",
    "                \"entity_name\": match[1],\n",
    "                \"entity_category\": match[2],\n",
    "                \"reasoning\": match[3]\n",
    "            }\n",
    "\n",
    "            entities.append(entity)\n",
    "            \n",
    "        elif (match[0] == \"info\"):\n",
    "            info_request = {\n",
    "                \"type\": match[0],\n",
    "                \"info_description\": match[1],\n",
    "                \"info_category\": match[2],\n",
    "                \"reasoning\": match[3],\n",
    "                \"entity_name\": match[4] if len(match) > 4 else \"\"\n",
    "            }\n",
    "            \n",
    "            info_requests.append(info_request)\n",
    "    return info_requests, entities\n",
    "\n",
    "info_requests, entities = _process_info_request(response_text)\n",
    "info_requests, entities"
   ]
  },
  {
   "cell_type": "code",
   "execution_count": 7,
   "metadata": {},
   "outputs": [
    {
     "data": {
      "text/plain": [
       "[{'type': 'info',\n",
       "  'info_description': \"Insights on Nvidia's strategic initiatives discussed at the GTC Conference, including partnerships, investments, and research directions\",\n",
       "  'info_category': 'others',\n",
       "  'reasoning': \"Understanding these strategies will clarify Nvidia's approach to market competition and potential growth pathways, directly influencing competitive positioning.\",\n",
       "  'entity_name': ''},\n",
       " {'type': 'info',\n",
       "  'info_description': 'Analysis of industry trends in AI products, including current and emerging competitors and technological advancements',\n",
       "  'info_category': 'industry',\n",
       "  'reasoning': \"This information is vital to assess how Nvidia's new products will resonate in the competitive landscape and their potential market share impact.\",\n",
       "  'entity_name': ''},\n",
       " {'type': 'info',\n",
       "  'info_description': 'Evaluation of competitive positioning metrics for Nvidia compared to its main competitors in AI and data center sectors',\n",
       "  'info_category': 'finance',\n",
       "  'reasoning': 'Such metrics are needed to determine how Nvidia stands against its rivals and the effectiveness of its recent announcements in enhancing its position.',\n",
       "  'entity_name': ''},\n",
       " {'type': 'info',\n",
       "  'info_description': 'Research on market projections and growth rates for the AI and data center industries over the next several years',\n",
       "  'info_category': 'economy',\n",
       "  'reasoning': \"Understanding these projections will outline the potential landscape for Nvidia's long-term growth and the viability of its strategies in the evolving market.\",\n",
       "  'entity_name': ''},\n",
       " {'type': 'info',\n",
       "  'info_description': 'Overview of the challenges and opportunities within the evolving AI market and data center market',\n",
       "  'info_category': 'industry',\n",
       "  'reasoning': \"This overview will inform the impact of industry evolution on Nvidia's positioning, providing necessary context to evaluate strategic adaptability.\",\n",
       "  'entity_name': ''},\n",
       " {'type': 'info',\n",
       "  'info_description': 'Current trends and future outlook of the data center market, particularly what innovations are expected to shape it in the coming years',\n",
       "  'info_category': 'industry',\n",
       "  'reasoning': 'Such insights would help frame how Nvidia might leverage its tech innovations to maintain growth within this specific sector.',\n",
       "  'entity_name': ''},\n",
       " {'type': 'entity',\n",
       "  'entity_name': 'AI products',\n",
       "  'entity_category': 'terminology',\n",
       "  'reasoning': 'The new AI products mentioned are a primary focus that needs to be explored further to understand their features and potential impact.'},\n",
       " {'type': 'info',\n",
       "  'info_description': 'Analysis of industry trends in AI products, including current and emerging competitors and technological advancements',\n",
       "  'info_category': 'industry',\n",
       "  'reasoning': \"This information is vital to assess how Nvidia's new products will resonate in the competitive landscape and their potential market share impact.\",\n",
       "  'entity_name': 'AI products'},\n",
       " {'type': 'entity',\n",
       "  'entity_name': 'GTC Conference',\n",
       "  'entity_category': 'event',\n",
       "  'reasoning': 'The GTC Conference is a specific event where Nvidia made announcements; understanding this event is crucial for context regarding the announcements made.'},\n",
       " {'type': 'entity',\n",
       "  'entity_name': 'Nvidia',\n",
       "  'entity_category': 'firm',\n",
       "  'reasoning': 'Nvidia is the main subject of the query, as the question focuses on its announcements and performance in the market.'},\n",
       " {'type': 'info',\n",
       "  'info_description': \"Details of Nvidia's new AI products announced at GTC Conference, including specifications and expected launch timeline\",\n",
       "  'info_category': 'industry',\n",
       "  'reasoning': 'This information is crucial to gauge how innovative or competitive these products are compared to other offerings in the market, impacting performance.',\n",
       "  'entity_name': 'Nvidia'},\n",
       " {'type': 'info',\n",
       "  'info_description': \"Insights on Nvidia's strategic initiatives discussed at the GTC Conference, including partnerships, investments, and research directions\",\n",
       "  'info_category': 'others',\n",
       "  'reasoning': \"Understanding these strategies will clarify Nvidia's approach to market competition and potential growth pathways, directly influencing competitive positioning.\",\n",
       "  'entity_name': 'Nvidia'},\n",
       " {'type': 'entity',\n",
       "  'entity_name': 'competitive positioning',\n",
       "  'entity_category': 'terminology',\n",
       "  'reasoning': \"Competitive positioning is essential to the query as it assesses Nvidia's market standing relative to its competitors, requiring further understanding of market dynamics.\"},\n",
       " {'type': 'info',\n",
       "  'info_description': 'Evaluation of competitive positioning metrics for Nvidia compared to its main competitors in AI and data center sectors',\n",
       "  'info_category': 'finance',\n",
       "  'reasoning': 'Such metrics are needed to determine how Nvidia stands against its rivals and the effectiveness of its recent announcements in enhancing its position.',\n",
       "  'entity_name': 'competitive positioning'},\n",
       " {'type': 'entity',\n",
       "  'entity_name': 'data center market',\n",
       "  'entity_category': 'industry',\n",
       "  'reasoning': 'The data center market is another critical area in which Nvidia operates; insights into this market will help gauge its strategic importance for future growth.'},\n",
       " {'type': 'info',\n",
       "  'info_description': 'Current trends and future outlook of the data center market, particularly what innovations are expected to shape it in the coming years',\n",
       "  'info_category': 'industry',\n",
       "  'reasoning': 'Such insights would help frame how Nvidia might leverage its tech innovations to maintain growth within this specific sector.',\n",
       "  'entity_name': 'data center market'},\n",
       " {'type': 'entity',\n",
       "  'entity_name': 'evolving AI market',\n",
       "  'entity_category': 'industry',\n",
       "  'reasoning': \"The evolving AI market represents the broader context influencing Nvidia's potential success and impacts, therefore understanding its trends and players is necessary.\"},\n",
       " {'type': 'info',\n",
       "  'info_description': 'Overview of the challenges and opportunities within the evolving AI market and data center market',\n",
       "  'info_category': 'industry',\n",
       "  'reasoning': \"This overview will inform the impact of industry evolution on Nvidia's positioning, providing necessary context to evaluate strategic adaptability.\",\n",
       "  'entity_name': 'evolving AI market'},\n",
       " {'type': 'entity',\n",
       "  'entity_name': 'long-term growth',\n",
       "  'entity_category': 'terminology',\n",
       "  'reasoning': 'Long-term growth is a major concern of the inquiry, highlighting the need to analyze Nvidia’s sustainability and scalability in the market.'},\n",
       " {'type': 'info',\n",
       "  'info_description': 'Research on market projections and growth rates for the AI and data center industries over the next several years',\n",
       "  'info_category': 'economy',\n",
       "  'reasoning': \"Understanding these projections will outline the potential landscape for Nvidia's long-term growth and the viability of its strategies in the evolving market.\",\n",
       "  'entity_name': 'long-term growth'},\n",
       " {'type': 'entity',\n",
       "  'entity_name': 'strategies',\n",
       "  'entity_category': 'terminology',\n",
       "  'reasoning': 'The strategies that Nvidia is employing are central to evaluating how they might influence competitive positioning and growth, necessitating deeper insight into them.'}]"
      ]
     },
     "execution_count": 7,
     "metadata": {},
     "output_type": "execute_result"
    }
   ],
   "source": [
    "all_requests = info_requests + entities\n",
    "all_requests_sorted = sorted(all_requests, key=lambda x: (x[\"entity_name\"], x[\"type\"]) )\n",
    "all_requests_sorted"
   ]
  },
  {
   "cell_type": "code",
   "execution_count": 3,
   "metadata": {},
   "outputs": [
    {
     "data": {
      "text/plain": [
       "{'type': 'function',\n",
       " 'name': 'news_search',\n",
       " 'description': 'Search New York Times for news articles with a query. Use news_search to search for a specific topic.',\n",
       " 'parameters': {'type': 'object',\n",
       "  'properties': {'query': {'type': 'string',\n",
       "    'description': 'Search query to New York Times'},\n",
       "   'num_results': {'type': 'number',\n",
       "    'description': 'Number of top results to return'},\n",
       "   'sort': {'type': ['string', 'null'],\n",
       "    'enum': ['relevance', 'date'],\n",
       "    'description': 'How to sort results. Pass null if not needed.'}},\n",
       "  'required': ['query', 'num_results', 'sort_by'],\n",
       "  'additionalProperties': False}}"
      ]
     },
     "execution_count": 3,
     "metadata": {},
     "output_type": "execute_result"
    }
   ],
   "source": [
    "from kruppe.data_source.news.nyt import NewYorkTimesData\n",
    "\n",
    "nyt = NewYorkTimesData(headers_path=\"/Users/danielliu/Workspace/fin-rag/.nyt-headers.json\")\n",
    "nyt.news_search_schema"
   ]
  },
  {
   "cell_type": "code",
   "execution_count": 27,
   "metadata": {},
   "outputs": [
    {
     "name": "stdout",
     "output_type": "stream",
     "text": [
      "-Goal-\n",
      "Given a request for information and a list of tools, determine which tools an AI agent should use to conduct research for the request for information. \n",
      "\n",
      "-Steps-\n",
      "1. For each tool, use your intuition and the tool description to infer the type of information that the tool can provide for the request.\n",
      "For each tool, determine the following information:\n",
      "- tool_name: the tool name in question. use the original name provided in the input\n",
      "- research_area: the area of research that this tool can assist with to learn more about the request, and its importance.\n",
      "- rank: the importance of using this tool, where 1 is very important and must be used, and 3 is least important and can be ignored. Minimize the number of tools assigned with a rank of 1, unless absolutely necessary.\n",
      "- parameters: the parameters that will be entered to the function. It should be a stringified object.\n",
      "\n",
      "Format each tool identification as (tool|<tool_name>|<research_area>|<rank>|<parameters>)\n",
      "\n",
      "2. Return output in English as a single list of all the tools identified in step 1, **ordered from most important to least important**, separated by a newline character.\n",
      "\n",
      "-Input-\n",
      "Request for Information:\n",
      "{\"type\": \"info\", \"info_description\": \"Insights on Nvidia's strategic initiatives discussed at the GTC Conference, including partnerships, investments, and research directions\", \"info_category\": \"others\", \"reasoning\": \"Understanding these strategies will clarify Nvidia's approach to market competition and potential growth pathways, directly influencing competitive positioning.\", \"entity_name\": \"\"}\n",
      "{\"type\": \"info\", \"info_description\": \"Analysis of industry trends in AI products, including current and emerging competitors and technological advancements\", \"info_category\": \"industry\", \"reasoning\": \"This information is vital to assess how Nvidia's new products will resonate in the competitive landscape and their potential market share impact.\", \"entity_name\": \"\"}\n",
      "{\"type\": \"info\", \"info_description\": \"Evaluation of competitive positioning metrics for Nvidia compared to its main competitors in AI and data center sectors\", \"info_category\": \"finance\", \"reasoning\": \"Such metrics are needed to determine how Nvidia stands against its rivals and the effectiveness of its recent announcements in enhancing its position.\", \"entity_name\": \"\"}\n",
      "{\"type\": \"info\", \"info_description\": \"Research on market projections and growth rates for the AI and data center industries over the next several years\", \"info_category\": \"economy\", \"reasoning\": \"Understanding these projections will outline the potential landscape for Nvidia's long-term growth and the viability of its strategies in the evolving market.\", \"entity_name\": \"\"}\n",
      "{\"type\": \"info\", \"info_description\": \"Overview of the challenges and opportunities within the evolving AI market and data center market\", \"info_category\": \"industry\", \"reasoning\": \"This overview will inform the impact of industry evolution on Nvidia's positioning, providing necessary context to evaluate strategic adaptability.\", \"entity_name\": \"\"}\n",
      "{\"type\": \"info\", \"info_description\": \"Current trends and future outlook of the data center market, particularly what innovations are expected to shape it in the coming years\", \"info_category\": \"industry\", \"reasoning\": \"Such insights would help frame how Nvidia might leverage its tech innovations to maintain growth within this specific sector.\", \"entity_name\": \"\"}\n",
      "{\"type\": \"entity\", \"entity_name\": \"AI products\", \"entity_category\": \"terminology\", \"reasoning\": \"The new AI products mentioned are a primary focus that needs to be explored further to understand their features and potential impact.\"}\n",
      "{\"type\": \"info\", \"info_description\": \"Analysis of industry trends in AI products, including current and emerging competitors and technological advancements\", \"info_category\": \"industry\", \"reasoning\": \"This information is vital to assess how Nvidia's new products will resonate in the competitive landscape and their potential market share impact.\", \"entity_name\": \"AI products\"}\n",
      "{\"type\": \"entity\", \"entity_name\": \"GTC Conference\", \"entity_category\": \"event\", \"reasoning\": \"The GTC Conference is a specific event where Nvidia made announcements; understanding this event is crucial for context regarding the announcements made.\"}\n",
      "{\"type\": \"entity\", \"entity_name\": \"Nvidia\", \"entity_category\": \"firm\", \"reasoning\": \"Nvidia is the main subject of the query, as the question focuses on its announcements and performance in the market.\"}\n",
      "{\"type\": \"info\", \"info_description\": \"Details of Nvidia's new AI products announced at GTC Conference, including specifications and expected launch timeline\", \"info_category\": \"industry\", \"reasoning\": \"This information is crucial to gauge how innovative or competitive these products are compared to other offerings in the market, impacting performance.\", \"entity_name\": \"Nvidia\"}\n",
      "{\"type\": \"info\", \"info_description\": \"Insights on Nvidia's strategic initiatives discussed at the GTC Conference, including partnerships, investments, and research directions\", \"info_category\": \"others\", \"reasoning\": \"Understanding these strategies will clarify Nvidia's approach to market competition and potential growth pathways, directly influencing competitive positioning.\", \"entity_name\": \"Nvidia\"}\n",
      "{\"type\": \"entity\", \"entity_name\": \"competitive positioning\", \"entity_category\": \"terminology\", \"reasoning\": \"Competitive positioning is essential to the query as it assesses Nvidia's market standing relative to its competitors, requiring further understanding of market dynamics.\"}\n",
      "{\"type\": \"info\", \"info_description\": \"Evaluation of competitive positioning metrics for Nvidia compared to its main competitors in AI and data center sectors\", \"info_category\": \"finance\", \"reasoning\": \"Such metrics are needed to determine how Nvidia stands against its rivals and the effectiveness of its recent announcements in enhancing its position.\", \"entity_name\": \"competitive positioning\"}\n",
      "{\"type\": \"entity\", \"entity_name\": \"data center market\", \"entity_category\": \"industry\", \"reasoning\": \"The data center market is another critical area in which Nvidia operates; insights into this market will help gauge its strategic importance for future growth.\"}\n",
      "{\"type\": \"info\", \"info_description\": \"Current trends and future outlook of the data center market, particularly what innovations are expected to shape it in the coming years\", \"info_category\": \"industry\", \"reasoning\": \"Such insights would help frame how Nvidia might leverage its tech innovations to maintain growth within this specific sector.\", \"entity_name\": \"data center market\"}\n",
      "{\"type\": \"entity\", \"entity_name\": \"evolving AI market\", \"entity_category\": \"industry\", \"reasoning\": \"The evolving AI market represents the broader context influencing Nvidia's potential success and impacts, therefore understanding its trends and players is necessary.\"}\n",
      "{\"type\": \"info\", \"info_description\": \"Overview of the challenges and opportunities within the evolving AI market and data center market\", \"info_category\": \"industry\", \"reasoning\": \"This overview will inform the impact of industry evolution on Nvidia's positioning, providing necessary context to evaluate strategic adaptability.\", \"entity_name\": \"evolving AI market\"}\n",
      "{\"type\": \"entity\", \"entity_name\": \"long-term growth\", \"entity_category\": \"terminology\", \"reasoning\": \"Long-term growth is a major concern of the inquiry, highlighting the need to analyze Nvidia\\u2019s sustainability and scalability in the market.\"}\n",
      "{\"type\": \"info\", \"info_description\": \"Research on market projections and growth rates for the AI and data center industries over the next several years\", \"info_category\": \"economy\", \"reasoning\": \"Understanding these projections will outline the potential landscape for Nvidia's long-term growth and the viability of its strategies in the evolving market.\", \"entity_name\": \"long-term growth\"}\n",
      "{\"type\": \"entity\", \"entity_name\": \"strategies\", \"entity_category\": \"terminology\", \"reasoning\": \"The strategies that Nvidia is employing are central to evaluating how they might influence competitive positioning and growth, necessitating deeper insight into them.\"}\n",
      "\n",
      "Tools Descriptions in JSON Format:\n",
      "{\"type\": \"function\", \"name\": \"news_search\", \"description\": \"Search New York Times for news articles with a query\", \"parameters\": {\"type\": \"object\", \"properties\": {\"query\": {\"type\": \"string\", \"description\": \"Search query to New York Times\"}, \"num_results\": {\"type\": \"number\", \"description\": \"Number of top results to return\"}, \"sort\": {\"type\": [\"string\", \"null\"], \"enum\": [\"relevance\", \"date\"], \"description\": \"How to sort results. Pass null if not needed.\"}}, \"required\": [\"query\", \"num_results\", \"sort_by\"], \"additionalProperties\": false}}\n",
      "{\"type\": \"function\", \"name\": \"news_recent\", \"description\": \"Get the most recent news published from New York Times\", \"parameters\": {\"type\": \"object\", \"properties\": {\"days\": {\"type\": \"number\", \"description\": \"Number of days to go back. 0 means articles published today, 1 means articles published from yesterday to today, etc.\"}, \"num_results\": {\"type\": \"num_results\", \"description\": \"Number of results to return.\"}, \"filter\": {\"type\": \"object\", \"properties\": {\"include\": {\"type\": [\"string\", \"null\"], \"description\": \"Keywords to include, separated by space\"}, \"exclude\": {\"type\": [\"string\", \"null\"], \"description\": \"Keywords to exclude, separated by space\"}}, \"required\": [\"include\", \"exclude\"], \"additionalProperties\": false}}, \"required\": [\"days\", \"num_results\", \"filter\"], \"additionalProperties\": false}}\n",
      "{\"type\": \"function\", \"name\": \"news_archive\", \"description\": \"Get archived news articles published from New York Times between a certain time period\", \"parameters\": {\"type\": \"object\", \"properties\": {\"start_date\": {\"type\": \"string\", \"description\": \"Starting publication date, formatted as YYYY-MM-DD\"}, \"end_date\": {\"type\": \"string\", \"description\": \"Ending publication date, formatted as YYYY-MM-DD\"}, \"num_results\": {\"type\": \"num_results\", \"description\": \"Number of results to return.\"}, \"filter\": {\"type\": \"object\", \"properties\": {\"include\": {\"type\": [\"string\", \"null\"], \"description\": \"Keywords to include, separated by space\"}, \"exclude\": {\"type\": [\"string\", \"null\"], \"description\": \"Keywords to exclude, separated by space\"}}, \"required\": [\"include\", \"exclude\"], \"additionalProperties\": false}}, \"required\": [\"start_date\", \"end_date\", \"num_results\", \"filter\"], \"additionalProperties\": false}}\n",
      "\n",
      "-Output-\n",
      "\n",
      "(tool|news_search|Insights on Nvidia's strategic initiatives discussed at the GTC Conference, industry trends, and competitive positioning|1|{\"query\":\"Nvidia GTC Conference strategic initiatives partnerships investments\",\"num_results\":5,\"sort\":\"relevance\"})\n",
      "(tool|news_recent|Current trends and future outlook of the data center market and evolving AI market|1|{\"days\":7,\"num_results\":5,\"filter\":{\"include\":\"data center AI market\",\"exclude\":\"\"}})\n",
      "(tool|news_archive|Research on market projections and growth rates for the AI and data center industries|2|{\"start_date\":\"2023-01-01\",\"end_date\":\"2023-10-30\",\"num_results\":5,\"filter\":{\"include\":\"market projections growth AI data center\",\"exclude\":\"\"}})\n",
      "(tool|news_recent|Overview of challenges and opportunities within the evolving AI market and data center market|2|{\"days\":30,\"num_results\":5,\"filter\":{\"include\":\"challenges opportunities AI data center\",\"exclude\":\"\"}})\n"
     ]
    }
   ],
   "source": [
    "import json\n",
    "tools_schemas = [nyt.news_search_schema, nyt.news_recent_schema, nyt.news_archive_schema]\n",
    "\n",
    "user_message = ASSIGN_TOOL_USER.format(\n",
    "    info_request=\"\\n\".join([json.dumps(request) for request in all_requests_sorted]),\n",
    "    tools_descriptions=\"\\n\".join([json.dumps(tool) for tool in tools_schemas]))\n",
    "\n",
    "messages = [\n",
    "    {\"role\": \"system\", \"content\": RESEARCH_STANDARD_SYSTEM},\n",
    "    {\"role\": \"user\", \"content\": user_message},\n",
    "]\n",
    "\n",
    "print(user_message)\n",
    "\n",
    "response_tools = await llm.async_generate(messages)\n",
    "response_tools_str = response_tools.text\n",
    "print(response_tools_str)"
   ]
  },
  {
   "cell_type": "code",
   "execution_count": 25,
   "metadata": {},
   "outputs": [
    {
     "data": {
      "text/plain": [
       "{'query': 'Nvidia strategic initiatives GTC Conference, partnerships, investments, research directions',\n",
       " 'num_results': 10,\n",
       " 'sort': 'relevance'}"
      ]
     },
     "execution_count": 25,
     "metadata": {},
     "output_type": "execute_result"
    }
   ],
   "source": [
    "def _process_tool_request(response_text: str):\n",
    "    pattern = re.compile(r'(?<=\\(|\\|)([^|()]+)(?=\\||\\))')\n",
    "    results = response_text.splitlines()\n",
    "\n",
    "    tool_requests = [] # i call them \"requests\", like \"info_requests\" or \"tool_requests\"\n",
    "\n",
    "    for result in results:\n",
    "        match = pattern.findall(result)\n",
    "\n",
    "        tool_request = {\n",
    "            \"type\": match[0],\n",
    "            \"tool_name\": match[1],\n",
    "            \"research_area\": match[2],\n",
    "            \"rank\": match[3],\n",
    "            \"parameters\": match[4]\n",
    "        }\n",
    "        \n",
    "        tool_requests.append(tool_request)\n",
    "    tool_requests = sorted(tool_requests, key=lambda x: x[\"rank\"])\n",
    "    return tool_requests\n",
    "\n",
    "tool_requests = _process_tool_request(response_tools_str)\n",
    "tool_requests\n",
    "\n",
    "request = tool_requests[0]\n",
    "json.loads(request[\"parameters\"])"
   ]
  },
  {
   "cell_type": "code",
   "execution_count": 49,
   "metadata": {},
   "outputs": [
    {
     "name": "stdout",
     "output_type": "stream",
     "text": [
      "news_search\n",
      "news_recent\n",
      "news_archive\n"
     ]
    }
   ],
   "source": [
    "from kruppe.data_source.news.base_news import NewsSource\n",
    "from typing import Callable\n",
    "from types import FunctionType\n",
    "\n",
    "for i in set(x for x, y in NewsSource.__dict__.items() if isinstance(y, Callable)):\n",
    "    print(i)"
   ]
  },
  {
   "cell_type": "code",
   "execution_count": 51,
   "metadata": {},
   "outputs": [
    {
     "data": {
      "text/plain": [
       "{'_nyt_scraper_helper', 'news_archive', 'news_recent', 'news_search'}"
      ]
     },
     "execution_count": 51,
     "metadata": {},
     "output_type": "execute_result"
    }
   ],
   "source": [
    "set(x for x, y in nyt.__class__.__dict__.items() if isinstance(y, Callable))"
   ]
  },
  {
   "cell_type": "code",
   "execution_count": 1,
   "metadata": {},
   "outputs": [
    {
     "data": {
      "text/plain": [
       "<property at 0x10880bd30>"
      ]
     },
     "execution_count": 1,
     "metadata": {},
     "output_type": "execute_result"
    }
   ],
   "source": [
    "from kruppe.data_source.news.base_news import NewsSource\n",
    "\n",
    "NewsSource.get_schema(\"news_search\")"
   ]
  },
  {
   "cell_type": "code",
   "execution_count": null,
   "metadata": {},
   "outputs": [],
   "source": []
  }
 ],
 "metadata": {
  "kernelspec": {
   "display_name": "experimental",
   "language": "python",
   "name": "python3"
  },
  "language_info": {
   "codemirror_mode": {
    "name": "ipython",
    "version": 3
   },
   "file_extension": ".py",
   "mimetype": "text/x-python",
   "name": "python",
   "nbconvert_exporter": "python",
   "pygments_lexer": "ipython3",
   "version": "3.10.16"
  }
 },
 "nbformat": 4,
 "nbformat_minor": 2
}
