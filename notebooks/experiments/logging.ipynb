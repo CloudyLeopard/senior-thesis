{
 "cells": [
  {
   "cell_type": "code",
   "execution_count": 1,
   "id": "5b85fa3b",
   "metadata": {},
   "outputs": [],
   "source": [
    "import logging\n",
    "from logging import StreamHandler\n",
    "\n",
    "ch = StreamHandler()\n",
    "ch.setLevel(logging.DEBUG)\n",
    "formatter = logging.Formatter('%(asctime)s - %(levelname)s - %(message)s')\n",
    "ch.setFormatter(formatter)"
   ]
  },
  {
   "cell_type": "code",
   "execution_count": 2,
   "id": "efd258a1",
   "metadata": {},
   "outputs": [
    {
     "ename": "TypeError",
     "evalue": "PrivateAttr() got an unexpected keyword argument 'exclude'",
     "output_type": "error",
     "traceback": [
      "\u001b[31m---------------------------------------------------------------------------\u001b[39m",
      "\u001b[31mTypeError\u001b[39m                                 Traceback (most recent call last)",
      "\u001b[36mCell\u001b[39m\u001b[36m \u001b[39m\u001b[32mIn[2]\u001b[39m\u001b[32m, line 1\u001b[39m\n\u001b[32m----> \u001b[39m\u001b[32m1\u001b[39m \u001b[38;5;28;01mfrom\u001b[39;00m\u001b[38;5;250m \u001b[39m\u001b[34;01mkruppe\u001b[39;00m\u001b[34;01m.\u001b[39;00m\u001b[34;01mllm\u001b[39;00m\u001b[38;5;250m \u001b[39m\u001b[38;5;28;01mimport\u001b[39;00m FakeLLM\n\u001b[32m      3\u001b[39m logger = logging.getLogger(\u001b[33m\"\u001b[39m\u001b[33mkruppe.llm\u001b[39m\u001b[33m\"\u001b[39m)\n\u001b[32m      4\u001b[39m logger.setLevel(logging.DEBUG)\n",
      "\u001b[36mFile \u001b[39m\u001b[32m~/Workspace/fin-rag/src/kruppe/llm.py:33\u001b[39m\n\u001b[32m     29\u001b[39m logger = logging.getLogger(\u001b[34m__name__\u001b[39m)\n\u001b[32m     30\u001b[39m logger.setLevel(logging.WARNING)\n\u001b[32m---> \u001b[39m\u001b[32m33\u001b[39m \u001b[38;5;28;43;01mclass\u001b[39;49;00m\u001b[38;5;250;43m \u001b[39;49m\u001b[34;43;01mBaseNYUModel\u001b[39;49;00m\u001b[43m(\u001b[49m\u001b[43mBaseModel\u001b[49m\u001b[43m)\u001b[49m\u001b[43m:\u001b[49m\n\u001b[32m     34\u001b[39m \u001b[43m    \u001b[49m\u001b[38;5;66;43;03m# TODO: deal with (read) timeout error\u001b[39;49;00m\n\u001b[32m     35\u001b[39m \u001b[43m    \u001b[49m\u001b[43mapi_key\u001b[49m\u001b[43m:\u001b[49m\u001b[43m \u001b[49m\u001b[38;5;28;43mstr\u001b[39;49m\u001b[43m \u001b[49m\u001b[43m=\u001b[49m\u001b[43m \u001b[49m\u001b[43mField\u001b[49m\u001b[43m(\u001b[49m\u001b[43mdefault_factory\u001b[49m\u001b[43m=\u001b[49m\u001b[38;5;28;43;01mlambda\u001b[39;49;00m\u001b[43m:\u001b[49m\u001b[43m \u001b[49m\u001b[43mos\u001b[49m\u001b[43m.\u001b[49m\u001b[43mgetenv\u001b[49m\u001b[43m(\u001b[49m\u001b[33;43m\"\u001b[39;49m\u001b[33;43mNYU_API_KEY\u001b[39;49m\u001b[33;43m\"\u001b[39;49m\u001b[43m)\u001b[49m\u001b[43m,\u001b[49m\u001b[43m \u001b[49m\u001b[43mexclude\u001b[49m\u001b[43m=\u001b[49m\u001b[38;5;28;43;01mTrue\u001b[39;49;00m\u001b[43m)\u001b[49m\n\u001b[32m     36\u001b[39m \u001b[43m    \u001b[49m\u001b[43mproject_id\u001b[49m\u001b[43m:\u001b[49m\u001b[43m \u001b[49m\u001b[38;5;28;43mstr\u001b[39;49m\u001b[43m \u001b[49m\u001b[43m=\u001b[49m\u001b[43m \u001b[49m\u001b[43mField\u001b[49m\u001b[43m(\u001b[49m\u001b[43mdefault_factory\u001b[49m\u001b[43m=\u001b[49m\u001b[38;5;28;43;01mlambda\u001b[39;49;00m\u001b[43m:\u001b[49m\u001b[43m \u001b[49m\u001b[43mos\u001b[49m\u001b[43m.\u001b[49m\u001b[43mgetenv\u001b[49m\u001b[43m(\u001b[49m\u001b[33;43m\"\u001b[39;49m\u001b[33;43mNYU_PROJECT_ID\u001b[39;49m\u001b[33;43m\"\u001b[39;49m\u001b[43m)\u001b[49m\u001b[43m)\u001b[49m\n",
      "\u001b[36mFile \u001b[39m\u001b[32m~/Workspace/fin-rag/src/kruppe/llm.py:38\u001b[39m, in \u001b[36mBaseNYUModel\u001b[39m\u001b[34m()\u001b[39m\n\u001b[32m     36\u001b[39m project_id: \u001b[38;5;28mstr\u001b[39m = Field(default_factory=\u001b[38;5;28;01mlambda\u001b[39;00m: os.getenv(\u001b[33m\"\u001b[39m\u001b[33mNYU_PROJECT_ID\u001b[39m\u001b[33m\"\u001b[39m))\n\u001b[32m     37\u001b[39m net_id: \u001b[38;5;28mstr\u001b[39m = Field(default_factory=\u001b[38;5;28;01mlambda\u001b[39;00m: os.getenv(\u001b[33m\"\u001b[39m\u001b[33mNYU_NET_ID\u001b[39m\u001b[33m\"\u001b[39m))\n\u001b[32m---> \u001b[39m\u001b[32m38\u001b[39m _httpx_client: httpx.AsyncClient = \u001b[43mPrivateAttr\u001b[49m\u001b[43m(\u001b[49m\u001b[43mdefault\u001b[49m\u001b[43m=\u001b[49m\u001b[38;5;28;43;01mNone\u001b[39;49;00m\u001b[43m,\u001b[49m\u001b[43m \u001b[49m\u001b[43mexclude\u001b[49m\u001b[43m=\u001b[49m\u001b[38;5;28;43;01mTrue\u001b[39;49;00m\u001b[43m)\u001b[49m\n\u001b[32m     40\u001b[39m \u001b[38;5;129m@computed_field\u001b[39m\n\u001b[32m     41\u001b[39m \u001b[38;5;129m@property\u001b[39m\n\u001b[32m     42\u001b[39m \u001b[38;5;28;01mdef\u001b[39;00m\u001b[38;5;250m \u001b[39m\u001b[34mheaders\u001b[39m(\u001b[38;5;28mself\u001b[39m) -> Dict[\u001b[38;5;28mstr\u001b[39m, \u001b[38;5;28mstr\u001b[39m]:\n\u001b[32m     43\u001b[39m     \u001b[38;5;28;01mreturn\u001b[39;00m {\n\u001b[32m     44\u001b[39m         \u001b[33m\"\u001b[39m\u001b[33mrit_access\u001b[39m\u001b[33m\"\u001b[39m: \u001b[33mf\u001b[39m\u001b[33m\"\u001b[39m\u001b[38;5;132;01m{\u001b[39;00m\u001b[38;5;28mself\u001b[39m.project_id\u001b[38;5;132;01m}\u001b[39;00m\u001b[33m|\u001b[39m\u001b[38;5;132;01m{\u001b[39;00m\u001b[38;5;28mself\u001b[39m.net_id\u001b[38;5;132;01m}\u001b[39;00m\u001b[33m|\u001b[39m\u001b[38;5;132;01m{\u001b[39;00m\u001b[38;5;28mself\u001b[39m.model\u001b[38;5;132;01m}\u001b[39;00m\u001b[33m\"\u001b[39m,\n\u001b[32m     45\u001b[39m         \u001b[33m\"\u001b[39m\u001b[33mrit_timeout\u001b[39m\u001b[33m\"\u001b[39m: \u001b[33m\"\u001b[39m\u001b[33m60\u001b[39m\u001b[33m\"\u001b[39m,\n\u001b[32m     46\u001b[39m         \u001b[33m\"\u001b[39m\u001b[33mContent-Type\u001b[39m\u001b[33m\"\u001b[39m: \u001b[33m\"\u001b[39m\u001b[33mapplication/json\u001b[39m\u001b[33m\"\u001b[39m,\n\u001b[32m     47\u001b[39m         \u001b[33m\"\u001b[39m\u001b[33mAUTHORIZATION_KEY\u001b[39m\u001b[33m\"\u001b[39m: \u001b[38;5;28mself\u001b[39m.api_key,\n\u001b[32m     48\u001b[39m     }\n",
      "\u001b[31mTypeError\u001b[39m: PrivateAttr() got an unexpected keyword argument 'exclude'"
     ]
    }
   ],
   "source": [
    "from kruppe.llm import FakeLLM\n",
    "\n",
    "logger = logging.getLogger(\"kruppe.llm\")\n",
    "logger.setLevel(logging.DEBUG)\n",
    "logger.addHandler(ch)\n",
    "\n",
    "llm = FakeLLM()\n",
    "await llm.async_generate([\n",
    "    {\"role\": \"system\", \"content\": \"You are a helpful assistant.\"},\n",
    "    {\"role\": \"user\", \"content\": \"What is the capital of France?\"}\n",
    "])\n",
    "\n",
    "await llm.async_generate_with_tools([\n",
    "    {\"role\": \"system\", \"content\": \"You are a helpful assistant.\"},\n",
    "    {\"role\": \"user\", \"content\": \"What is the capital of France?\"}\n",
    "], tools=[\n",
    "    {\"name\": \"search\", \"description\": \"Search the web for information.\"},\n",
    "    {\"name\": \"calculator\", \"description\": \"Perform calculations.\"}\n",
    "])"
   ]
  },
  {
   "cell_type": "code",
   "execution_count": null,
   "id": "c856a3e6",
   "metadata": {},
   "outputs": [],
   "source": []
  }
 ],
 "metadata": {
  "kernelspec": {
   "display_name": "experimental",
   "language": "python",
   "name": "python3"
  },
  "language_info": {
   "codemirror_mode": {
    "name": "ipython",
    "version": 3
   },
   "file_extension": ".py",
   "mimetype": "text/x-python",
   "name": "python",
   "nbconvert_exporter": "python",
   "pygments_lexer": "ipython3",
   "version": "3.13.2"
  }
 },
 "nbformat": 4,
 "nbformat_minor": 5
}
