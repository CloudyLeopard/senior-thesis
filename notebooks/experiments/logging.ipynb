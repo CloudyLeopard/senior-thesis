{
 "cells": [
  {
   "cell_type": "code",
   "execution_count": 1,
   "id": "5b85fa3b",
   "metadata": {},
   "outputs": [],
   "source": [
    "import logging\n",
    "from logging import StreamHandler\n",
    "\n",
    "ch = StreamHandler()\n",
    "ch.setLevel(logging.DEBUG)\n",
    "formatter = logging.Formatter('%(asctime)s - %(levelname)s - %(message)s')\n",
    "ch.setFormatter(formatter)"
   ]
  },
  {
   "cell_type": "code",
   "execution_count": 2,
   "id": "efd258a1",
   "metadata": {},
   "outputs": [
    {
     "name": "stderr",
     "output_type": "stream",
     "text": [
      "2025-04-19 14:56:31,245 - DEBUG - \n",
      "[system] You are a helpful assistant.\n",
      "[user] What is the capital of France?\n",
      "2025-04-19 14:56:31,246 - INFO - \n",
      "[assistant] This is a fake response.\n",
      "2025-04-19 14:56:31,246 - DEBUG - \n",
      "[system] You are a helpful assistant.\n",
      "[user] What is the capital of France?\n",
      "2025-04-19 14:56:31,246 - INFO - \n",
      "[assistant] This is a fake response.\n",
      "[tool fake_tool_id] fake_tool_name (None)\n"
     ]
    },
    {
     "data": {
      "text/plain": [
       "('This is a fake response.',\n",
       " 'fake_tool_id',\n",
       " 'fake_tool_name',\n",
       " 'fake_tool_args_str')"
      ]
     },
     "execution_count": 2,
     "metadata": {},
     "output_type": "execute_result"
    }
   ],
   "source": [
    "from kruppe.llm import FakeLLM\n",
    "\n",
    "logger = logging.getLogger(\"kruppe.llm\")\n",
    "logger.setLevel(logging.DEBUG)\n",
    "logger.addHandler(ch)\n",
    "\n",
    "llm = FakeLLM()\n",
    "await llm.async_generate([\n",
    "    {\"role\": \"system\", \"content\": \"You are a helpful assistant.\"},\n",
    "    {\"role\": \"user\", \"content\": \"What is the capital of France?\"}\n",
    "])\n",
    "\n",
    "await llm.async_generate_with_tools([\n",
    "    {\"role\": \"system\", \"content\": \"You are a helpful assistant.\"},\n",
    "    {\"role\": \"user\", \"content\": \"What is the capital of France?\"}\n",
    "], tools=[\n",
    "    {\"name\": \"search\", \"description\": \"Search the web for information.\"},\n",
    "    {\"name\": \"calculator\", \"description\": \"Perform calculations.\"}\n",
    "])"
   ]
  },
  {
   "cell_type": "code",
   "execution_count": null,
   "id": "c856a3e6",
   "metadata": {},
   "outputs": [],
   "source": []
  }
 ],
 "metadata": {
  "kernelspec": {
   "display_name": "experimental",
   "language": "python",
   "name": "python3"
  },
  "language_info": {
   "codemirror_mode": {
    "name": "ipython",
    "version": 3
   },
   "file_extension": ".py",
   "mimetype": "text/x-python",
   "name": "python",
   "nbconvert_exporter": "python",
   "pygments_lexer": "ipython3",
   "version": "3.13.2"
  }
 },
 "nbformat": 4,
 "nbformat_minor": 5
}
