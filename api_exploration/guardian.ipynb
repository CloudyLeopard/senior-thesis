{
 "cells": [
  {
   "cell_type": "code",
   "execution_count": 3,
   "metadata": {},
   "outputs": [],
   "source": [
    "import os\n",
    "from dotenv import load_dotenv\n",
    "import requests\n",
    "\n",
    "# load environment variables\n",
    "load_dotenv()\n",
    "\n",
    "GUARDIAN_API = os.getenv(\"GUARDIAN_API_KEY\")"
   ]
  },
  {
   "cell_type": "markdown",
   "metadata": {},
   "source": [
    "# Search"
   ]
  },
  {
   "cell_type": "code",
   "execution_count": 14,
   "metadata": {},
   "outputs": [
    {
     "data": {
      "text/plain": [
       "{'response': {'status': 'ok',\n",
       "  'userTier': 'developer',\n",
       "  'total': 2566,\n",
       "  'startIndex': 1,\n",
       "  'pageSize': 10,\n",
       "  'currentPage': 1,\n",
       "  'pages': 257,\n",
       "  'orderBy': 'relevance',\n",
       "  'results': [{'id': 'business/article/2024/jul/25/stock-markets-tumble-jitters-tech-companies-growth',\n",
       "    'type': 'article',\n",
       "    'sectionId': 'business',\n",
       "    'sectionName': 'Business',\n",
       "    'webPublicationDate': '2024-07-25T12:36:54Z',\n",
       "    'webTitle': 'Stock markets tumble amid jitters over tech companies’ growth ',\n",
       "    'webUrl': 'https://www.theguardian.com/business/article/2024/jul/25/stock-markets-tumble-jitters-tech-companies-growth',\n",
       "    'apiUrl': 'https://content.guardianapis.com/business/article/2024/jul/25/stock-markets-tumble-jitters-tech-companies-growth',\n",
       "    'isHosted': False,\n",
       "    'pillarId': 'pillar/news',\n",
       "    'pillarName': 'News'},\n",
       "   {'id': 'business/article/2024/jul/31/mixed-signals-on-tech-stocks-amid-debate-over-viability-of-ai-boom',\n",
       "    'type': 'article',\n",
       "    'sectionId': 'business',\n",
       "    'sectionName': 'Business',\n",
       "    'webPublicationDate': '2024-07-31T11:55:33Z',\n",
       "    'webTitle': 'Mixed signals on tech stocks amid debate over viability of AI boom',\n",
       "    'webUrl': 'https://www.theguardian.com/business/article/2024/jul/31/mixed-signals-on-tech-stocks-amid-debate-over-viability-of-ai-boom',\n",
       "    'apiUrl': 'https://content.guardianapis.com/business/article/2024/jul/31/mixed-signals-on-tech-stocks-amid-debate-over-viability-of-ai-boom',\n",
       "    'isHosted': False,\n",
       "    'pillarId': 'pillar/news',\n",
       "    'pillarName': 'News'},\n",
       "   {'id': 'world/article/2024/sep/09/first-edition-nvidia-stocks',\n",
       "    'type': 'article',\n",
       "    'sectionId': 'world',\n",
       "    'sectionName': 'World news',\n",
       "    'webPublicationDate': '2024-09-09T05:39:23Z',\n",
       "    'webTitle': 'Monday briefing: What Nvidia’s stock market plunge means for the AI industry',\n",
       "    'webUrl': 'https://www.theguardian.com/world/article/2024/sep/09/first-edition-nvidia-stocks',\n",
       "    'apiUrl': 'https://content.guardianapis.com/world/article/2024/sep/09/first-edition-nvidia-stocks',\n",
       "    'isHosted': False,\n",
       "    'pillarId': 'pillar/news',\n",
       "    'pillarName': 'News'},\n",
       "   {'id': 'technology/article/2024/jul/30/mircrosoft-revenue-share-prices-drop',\n",
       "    'type': 'article',\n",
       "    'sectionId': 'technology',\n",
       "    'sectionName': 'Technology',\n",
       "    'webPublicationDate': '2024-07-30T21:51:27Z',\n",
       "    'webTitle': 'Microsoft beats revenue forecasts but poor performance of cloud services drags share price',\n",
       "    'webUrl': 'https://www.theguardian.com/technology/article/2024/jul/30/mircrosoft-revenue-share-prices-drop',\n",
       "    'apiUrl': 'https://content.guardianapis.com/technology/article/2024/jul/30/mircrosoft-revenue-share-prices-drop',\n",
       "    'isHosted': False,\n",
       "    'pillarId': 'pillar/news',\n",
       "    'pillarName': 'News'},\n",
       "   {'id': 'society/article/2024/jul/19/nhs-patients-turned-away-as-microsoft-it-outages-hit-gp-surgeries',\n",
       "    'type': 'article',\n",
       "    'sectionId': 'society',\n",
       "    'sectionName': 'Society',\n",
       "    'webPublicationDate': '2024-07-19T12:34:56Z',\n",
       "    'webTitle': 'NHS patients turned away as Microsoft IT outages hit GP surgeries',\n",
       "    'webUrl': 'https://www.theguardian.com/society/article/2024/jul/19/nhs-patients-turned-away-as-microsoft-it-outages-hit-gp-surgeries',\n",
       "    'apiUrl': 'https://content.guardianapis.com/society/article/2024/jul/19/nhs-patients-turned-away-as-microsoft-it-outages-hit-gp-surgeries',\n",
       "    'isHosted': False,\n",
       "    'pillarId': 'pillar/news',\n",
       "    'pillarName': 'News'},\n",
       "   {'id': 'technology/2024/feb/23/why-has-nvidia-driven-stock-markets-to-record-highs',\n",
       "    'type': 'article',\n",
       "    'sectionId': 'technology',\n",
       "    'sectionName': 'Technology',\n",
       "    'webPublicationDate': '2024-02-23T16:39:35Z',\n",
       "    'webTitle': 'Why has Nvidia driven stock markets to record highs?',\n",
       "    'webUrl': 'https://www.theguardian.com/technology/2024/feb/23/why-has-nvidia-driven-stock-markets-to-record-highs',\n",
       "    'apiUrl': 'https://content.guardianapis.com/technology/2024/feb/23/why-has-nvidia-driven-stock-markets-to-record-highs',\n",
       "    'isHosted': False,\n",
       "    'pillarId': 'pillar/news',\n",
       "    'pillarName': 'News'},\n",
       "   {'id': 'business/article/2024/jul/23/cybersecurity-firm-wiz-rejects-bid-google-alphabet',\n",
       "    'type': 'article',\n",
       "    'sectionId': 'business',\n",
       "    'sectionName': 'Business',\n",
       "    'webPublicationDate': '2024-07-23T07:03:38Z',\n",
       "    'webTitle': 'Cybersecurity firm Wiz rejects $23bn bid from Google parent Alphabet',\n",
       "    'webUrl': 'https://www.theguardian.com/business/article/2024/jul/23/cybersecurity-firm-wiz-rejects-bid-google-alphabet',\n",
       "    'apiUrl': 'https://content.guardianapis.com/business/article/2024/jul/23/cybersecurity-firm-wiz-rejects-bid-google-alphabet',\n",
       "    'isHosted': False,\n",
       "    'pillarId': 'pillar/news',\n",
       "    'pillarName': 'News'},\n",
       "   {'id': 'australia-news/article/2024/jul/20/microsoft-it-outage-australian-airlines-banks-and-supermarkets-begin-return-to-normal-operations',\n",
       "    'type': 'article',\n",
       "    'sectionId': 'australia-news',\n",
       "    'sectionName': 'Australia news',\n",
       "    'webPublicationDate': '2024-07-19T23:55:02Z',\n",
       "    'webTitle': 'Microsoft IT outage: Australian airlines, banks and supermarkets begin return to normal operations',\n",
       "    'webUrl': 'https://www.theguardian.com/australia-news/article/2024/jul/20/microsoft-it-outage-australian-airlines-banks-and-supermarkets-begin-return-to-normal-operations',\n",
       "    'apiUrl': 'https://content.guardianapis.com/australia-news/article/2024/jul/20/microsoft-it-outage-australian-airlines-banks-and-supermarkets-begin-return-to-normal-operations',\n",
       "    'isHosted': False,\n",
       "    'pillarId': 'pillar/news',\n",
       "    'pillarName': 'News'},\n",
       "   {'id': 'business/live/2024/jun/25/nvidia-selloff-correction-territory-500bn-ai-chip-losses-business-live',\n",
       "    'type': 'liveblog',\n",
       "    'sectionId': 'business',\n",
       "    'sectionName': 'Business',\n",
       "    'webPublicationDate': '2024-06-25T14:39:54Z',\n",
       "    'webTitle': 'Nvidia shares open higher after $500bn sell-off; Microsoft hit with EU antitrust charge over Teams – as it happened',\n",
       "    'webUrl': 'https://www.theguardian.com/business/live/2024/jun/25/nvidia-selloff-correction-territory-500bn-ai-chip-losses-business-live',\n",
       "    'apiUrl': 'https://content.guardianapis.com/business/live/2024/jun/25/nvidia-selloff-correction-territory-500bn-ai-chip-losses-business-live',\n",
       "    'isHosted': False,\n",
       "    'pillarId': 'pillar/news',\n",
       "    'pillarName': 'News'},\n",
       "   {'id': 'business/2023/dec/26/the-stock-market-story-of-2023-the-growing-domination-of-us-tech',\n",
       "    'type': 'article',\n",
       "    'sectionId': 'business',\n",
       "    'sectionName': 'Business',\n",
       "    'webPublicationDate': '2023-12-26T12:37:39Z',\n",
       "    'webTitle': 'The stock market story of 2023? The growing domination of US tech',\n",
       "    'webUrl': 'https://www.theguardian.com/business/2023/dec/26/the-stock-market-story-of-2023-the-growing-domination-of-us-tech',\n",
       "    'apiUrl': 'https://content.guardianapis.com/business/2023/dec/26/the-stock-market-story-of-2023-the-growing-domination-of-us-tech',\n",
       "    'isHosted': False,\n",
       "    'pillarId': 'pillar/news',\n",
       "    'pillarName': 'News'}]}}"
      ]
     },
     "execution_count": 14,
     "metadata": {},
     "output_type": "execute_result"
    }
   ],
   "source": [
    "params = {\n",
    "    \"q\": \"Microsoft AND stock\",\n",
    "    \"api-key\": GUARDIAN_API\n",
    "} \n",
    "r = requests.get(f\"https://content.guardianapis.com/search\", params=params)\n",
    "res = r.json()\n",
    "res"
   ]
  },
  {
   "cell_type": "markdown",
   "metadata": {},
   "source": [
    "# Single Item"
   ]
  },
  {
   "cell_type": "code",
   "execution_count": 18,
   "metadata": {},
   "outputs": [
    {
     "data": {
      "text/plain": [
       "{'response': {'status': 'ok',\n",
       "  'userTier': 'developer',\n",
       "  'total': 1,\n",
       "  'content': {'id': 'business/article/2024/jul/25/stock-markets-tumble-jitters-tech-companies-growth',\n",
       "   'type': 'article',\n",
       "   'sectionId': 'business',\n",
       "   'sectionName': 'Business',\n",
       "   'webPublicationDate': '2024-07-25T12:36:54Z',\n",
       "   'webTitle': 'Stock markets tumble amid jitters over tech companies’ growth ',\n",
       "   'webUrl': 'https://www.theguardian.com/business/article/2024/jul/25/stock-markets-tumble-jitters-tech-companies-growth',\n",
       "   'apiUrl': 'https://content.guardianapis.com/business/article/2024/jul/25/stock-markets-tumble-jitters-tech-companies-growth',\n",
       "   'isHosted': False,\n",
       "   'pillarId': 'pillar/news',\n",
       "   'pillarName': 'News'}}}"
      ]
     },
     "execution_count": 18,
     "metadata": {},
     "output_type": "execute_result"
    }
   ],
   "source": [
    "first_article_id = res['response']['results'][0]['id']\n",
    "params = {\n",
    "    'api-key': GUARDIAN_API\n",
    "}\n",
    "\n",
    "r = requests.get(f\"https://content.guardianapis.com/{first_article_id}\", params=params)\n",
    "r.json()"
   ]
  },
  {
   "cell_type": "code",
   "execution_count": null,
   "metadata": {},
   "outputs": [],
   "source": []
  }
 ],
 "metadata": {
  "kernelspec": {
   "display_name": "env",
   "language": "python",
   "name": "python3"
  },
  "language_info": {
   "codemirror_mode": {
    "name": "ipython",
    "version": 3
   },
   "file_extension": ".py",
   "mimetype": "text/x-python",
   "name": "python",
   "nbconvert_exporter": "python",
   "pygments_lexer": "ipython3",
   "version": "3.11.4"
  }
 },
 "nbformat": 4,
 "nbformat_minor": 2
}
