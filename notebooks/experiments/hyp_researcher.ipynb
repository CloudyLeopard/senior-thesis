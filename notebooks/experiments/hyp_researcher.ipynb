{
 "cells": [
  {
   "cell_type": "markdown",
   "id": "40e29a60",
   "metadata": {},
   "source": [
    "# Testing Hypothesis Researcher"
   ]
  },
  {
   "cell_type": "code",
   "execution_count": 1,
   "id": "13e74ff6",
   "metadata": {},
   "outputs": [],
   "source": [
    "# logging imports\n",
    "import logging\n",
    "from logging import StreamHandler\n",
    "\n",
    "# essential kruppe imports\n",
    "from kruppe.llm import OpenAILLM\n",
    "\n",
    "# toolkit import\n",
    "from kruppe.llm import OpenAIEmbeddingModel\n",
    "from kruppe.functional.docstore.mongo_store import MongoDBStore\n",
    "from kruppe.functional.rag.vectorstore.chroma import ChromaVectorStore\n",
    "from kruppe.functional.rag.index.vectorstore_index import VectorStoreIndex\n",
    "from kruppe.functional.rag.retriever.simple_retriever import SimpleRetriever\n",
    "from kruppe.functional.ragquery import RagQuery\n",
    "from kruppe.functional.llmquery import LLMQuery\n",
    "from kruppe.functional.newshub import NewsHub\n",
    "from kruppe.functional.finhub import FinHub\n",
    "from kruppe.data_source.news.nyt import NewYorkTimesData\n",
    "from kruppe.data_source.news.ft import FinancialTimesData\n",
    "from kruppe.data_source.news.newsapi import NewsAPIData\n",
    "from kruppe.data_source.finance.yfin import YFinanceData\n",
    "\n",
    "# hypothesis researcher import\n",
    "from kruppe.algorithm.hypothesis import HypothesisResearcher"
   ]
  },
  {
   "cell_type": "code",
   "execution_count": 2,
   "id": "f83dc039",
   "metadata": {},
   "outputs": [],
   "source": [
    "# set up logging\n",
    "\n",
    "# handlers\n",
    "\n",
    "# set up logging for jupyter notebook\n",
    "ch = StreamHandler()\n",
    "formatter = logging.Formatter('%(asctime)s - %(levelname)s - %(message)s')\n",
    "ch.setFormatter(formatter)\n",
    "ch.setLevel(logging.INFO)\n",
    "\n",
    "# set up logging for llm\n",
    "log_file_path = \"/Users/danielliu/Workspace/fin-rag/logs/llm.log\"\n",
    "with open(log_file_path, 'w') as f:\n",
    "    pass\n",
    "\n",
    "fh_llm = logging.FileHandler(log_file_path)\n",
    "fh_llm.setFormatter(formatter)\n",
    "fh_llm.setLevel(logging.DEBUG)\n",
    "\n",
    "# set up logging for scraper\n",
    "log_file_path = \"/Users/danielliu/Workspace/fin-rag/logs/scraper.log\"\n",
    "with open(log_file_path, 'w') as f:\n",
    "    pass\n",
    "\n",
    "fh_scraper = logging.FileHandler(log_file_path)\n",
    "fh_scraper.setFormatter(formatter)\n",
    "fh_scraper.setLevel(logging.DEBUG)\n",
    "\n",
    "# set up loggers\n",
    "\n",
    "root_logger = logging.getLogger(\"kruppe\")\n",
    "root_logger.setLevel(logging.INFO)\n",
    "root_logger.addHandler(ch) # log to console\n",
    "\n",
    "logger = logging.getLogger(\"kruppe.llm\")\n",
    "logger.setLevel(logging.INFO)\n",
    "logger.addHandler(fh_llm) # log llm output to a file instead of console.\n",
    "logger.propagate = False # prevent logging from propagating to the root logger\n",
    "\n",
    "logger_scraper = logging.getLogger(\"kruppe.data_source.scraper\")\n",
    "logger_scraper.setLevel(logging.DEBUG)\n",
    "logger_scraper.addHandler(fh_scraper) # log scraper output to a file instead of console.\n",
    "logger_scraper.propagate = False"
   ]
  },
  {
   "cell_type": "markdown",
   "id": "a78ad380",
   "metadata": {},
   "source": [
    "## Initializing Toolkit"
   ]
  },
  {
   "cell_type": "markdown",
   "id": "630c78d8",
   "metadata": {},
   "source": [
    "Set up document store and vector store"
   ]
  },
  {
   "cell_type": "code",
   "execution_count": 3,
   "id": "84a65c15",
   "metadata": {},
   "outputs": [],
   "source": [
    "reset_db=False\n",
    "\n",
    "db_name = \"kruppe_librarian\"\n",
    "collection_name = \"general_news_04_20_2025\"\n",
    "\n",
    "# Create doc store\n",
    "unique_indices = [['title', 'datasource']] # NOTE: this is important to avoid duplicates\n",
    "docstore = await MongoDBStore.acreate_db(\n",
    "    db_name=db_name,\n",
    "    collection_name=collection_name,\n",
    "    unique_indices=unique_indices,\n",
    "    reset_db=reset_db\n",
    ")\n",
    "\n",
    "# Create vectorstore index\n",
    "embedding_model = OpenAIEmbeddingModel()\n",
    "vectorstore = ChromaVectorStore(\n",
    "    embedding_model=embedding_model,\n",
    "    collection_name=collection_name,\n",
    "    persist_path='/Volumes/Lexar/Daniel Liu/vectorstores/kruppe_librarian'\n",
    ")\n",
    "\n",
    "if reset_db:\n",
    "    vectorstore.clear()\n",
    "    \n",
    "index = VectorStoreIndex(vectorstore=vectorstore)\n",
    "\n",
    "retriever = SimpleRetriever(index=index)"
   ]
  },
  {
   "cell_type": "code",
   "execution_count": 4,
   "id": "ff449e58",
   "metadata": {},
   "outputs": [
    {
     "name": "stdout",
     "output_type": "stream",
     "text": [
      "Number of documents: 1078\n",
      "Number of chunks: 8820\n"
     ]
    }
   ],
   "source": [
    "print(\"Number of documents:\", docstore.size())\n",
    "print(\"Number of chunks:\", vectorstore.size())"
   ]
  },
  {
   "cell_type": "code",
   "execution_count": 5,
   "id": "24bc3779",
   "metadata": {},
   "outputs": [],
   "source": [
    "rag_query_engine = RagQuery(\n",
    "    retriever = retriever,\n",
    "    llm = OpenAILLM()\n",
    ")\n",
    "\n",
    "llm_query_engine = LLMQuery(\n",
    "    llm = OpenAILLM()\n",
    ")\n",
    "\n",
    "news_hub = NewsHub(news_sources=[\n",
    "    NewYorkTimesData(headers_path=\"../../.nyt-headers.json\"),\n",
    "    FinancialTimesData(headers_path=\"../../.ft-headers.json\"),\n",
    "    NewsAPIData()\n",
    "])\n",
    "\n",
    "fin_hub = FinHub(\n",
    "    fin_source = YFinanceData(),\n",
    "    llm = OpenAILLM()\n",
    ")"
   ]
  },
  {
   "cell_type": "code",
   "execution_count": 6,
   "id": "c18f3477",
   "metadata": {},
   "outputs": [],
   "source": [
    "toolkit = [\n",
    "    rag_query_engine.rag_query,\n",
    "    llm_query_engine.llm_query,\n",
    "    news_hub.news_search,\n",
    "    # news_hub.news_recent,\n",
    "    # news_hub.news_archive,\n",
    "    fin_hub.get_company_background,\n",
    "    fin_hub.get_company_income_stmt,\n",
    "    fin_hub.get_company_balance_sheet,\n",
    "    fin_hub.analyze_company_financial_stmts\n",
    "]"
   ]
  },
  {
   "cell_type": "markdown",
   "id": "94c4fd08",
   "metadata": {},
   "source": [
    "## Hypothesis Researcher\n",
    "\n",
    "Or what I call `Research Tree` lol"
   ]
  },
  {
   "cell_type": "markdown",
   "id": "5b304ab5",
   "metadata": {},
   "source": [
    "### Initialization"
   ]
  },
  {
   "cell_type": "markdown",
   "id": "904b5a70",
   "metadata": {},
   "source": [
    "Inputs"
   ]
  },
  {
   "cell_type": "code",
   "execution_count": 7,
   "id": "d812883d",
   "metadata": {},
   "outputs": [],
   "source": [
    "query = \"How has Tesla's performance changed over the last year? (2025)\""
   ]
  },
  {
   "cell_type": "markdown",
   "id": "056a5f84",
   "metadata": {},
   "source": [
    "Values that should be generated by other agentic components"
   ]
  },
  {
   "cell_type": "code",
   "execution_count": 8,
   "id": "fcf37a9d",
   "metadata": {},
   "outputs": [],
   "source": [
    "# values that should be generated by other agents components\n",
    "expert_title = \"Regulatory Affairs Specialist in Automotive and Energy Sectors\"\n",
    "expert_desc = \"The Regulatory Affairs Specialist understands the complex regulatory frameworks impacting electric vehicle manufacturers and clean energy companies worldwide. This expert assesses how changing laws and policies influence Tesla’s operations and strategy.\"\n",
    "\n",
    "background = \"\"\"preliminary background report on tesla, inc.\n",
    "\n",
    "1. company overview\n",
    "tesla, inc. (tsla) designs, develops, manufactures, leases, and sells electric vehicles, as well as energy generation and storage systems in the united states, china, and internationally. founded in 2003 and headquartered in austin, texas, tesla operates through two main segments: automotive (electric vehicles and related services) and energy generation and storage (solar energy and battery products). as of the latest data, tesla employs over 125,000 people globally.\n",
    "\n",
    "2. recent news\n",
    "a targeted search for recent news about tesla over the past 30 days did not return any relevant articles in the available news databases. this may be due to limited coverage or the scope of the datasets searched.\n",
    "\n",
    "3. financial overview & analysis (past 3 years)\n",
    "- tesla saw modest revenue growth in 2024, but profitability margins contracted amid rising operating expenses and a significant tax charge.\n",
    "- the company maintains a strong liquidity position, highlighted by increasing cash and short-term investments, and current and quick ratios above industry norms.\n",
    "- active capital investments point to ongoing capacity and innovation expansion, underpinned by consistent r&d spending.\n",
    "- although long-term debt rose, tesla's debt-to-equity ratio and earnings power suggest manageable financial risk.\n",
    "- operationally, inventory turnover improved, while receivables turnover fell, highlighting a potential area for closer management.\n",
    "- overall, tesla demonstrates balanced growth, innovation, and financial stability, though it faces short-term challenges in profitability.\n",
    "\n",
    "this report provides a concise snapshot of tesla’s business, recent developments, and financial health as of 2024.\n",
    "\"\"\""
   ]
  },
  {
   "cell_type": "markdown",
   "id": "edf59f64",
   "metadata": {},
   "source": [
    "initialization"
   ]
  },
  {
   "cell_type": "code",
   "execution_count": 9,
   "id": "93913a50",
   "metadata": {},
   "outputs": [],
   "source": [
    "hyp_llm = OpenAILLM(model=\"gpt-4.1-mini\")\n",
    "\n",
    "hyp_researcher = HypothesisResearcher(\n",
    "    role=expert_title,\n",
    "    role_description=expert_desc,\n",
    "    max_degree=2,\n",
    "    max_depth=10,\n",
    "    llm=hyp_llm,\n",
    "    toolkit = toolkit\n",
    ")\n",
    "\n"
   ]
  },
  {
   "cell_type": "markdown",
   "id": "eab3e1aa",
   "metadata": {},
   "source": [
    "### Init Starting Node"
   ]
  },
  {
   "cell_type": "code",
   "execution_count": 10,
   "id": "77e9c843",
   "metadata": {},
   "outputs": [],
   "source": [
    "root_node = await hyp_researcher.init_starting_node(query, background)\n"
   ]
  },
  {
   "cell_type": "code",
   "execution_count": 11,
   "id": "67c66d8f",
   "metadata": {},
   "outputs": [
    {
     "data": {
      "text/plain": [
       "{'step': 0,\n",
       " 'act_queued': False,\n",
       " 'is_leaf': False,\n",
       " 'd_time': None,\n",
       " 'f_time': None,\n",
       " 'parent': None,\n",
       " 'children': [],\n",
       " 'status': <Status.UNDISCOVERED: 0>}"
      ]
     },
     "execution_count": 11,
     "metadata": {},
     "output_type": "execute_result"
    }
   ],
   "source": [
    "root_node.model_dump()"
   ]
  },
  {
   "cell_type": "markdown",
   "id": "6f89fd85",
   "metadata": {},
   "source": [
    "### DFS Search"
   ]
  },
  {
   "cell_type": "code",
   "execution_count": 12,
   "id": "7e5dcc0d",
   "metadata": {},
   "outputs": [
    {
     "name": "stdout",
     "output_type": "stream",
     "text": [
      "Discovering node: Node(step=0, is_leaf=False, d_time=1, f_time=None)\n",
      "Discovering node: Node(step=1, is_leaf=False, d_time=2, f_time=None)\n",
      "Tool call: rag_query ({\"query\":\"Tesla 2025 quarterly financial reports revenue margin expenses taxes production sales volumes\",\"end_date\":\"2025-04-20\",\"start_date\":\"2025-01-01\"})\n",
      "Discovering node: Node(step=2, is_leaf=False, d_time=3, f_time=None)\n",
      "Tool call: news_search ({\"query\":\"Tesla 2025 financial performance revenue profit margin expenses tax incentives regulations\",\"max_results\":10,\"sort\":\"date\"})\n"
     ]
    },
    {
     "name": "stderr",
     "output_type": "stream",
     "text": [
      "2025-04-20 17:27:50,849 - INFO - Fetched 1 documents from NewsAPI API... Attempting to scrape.\n",
      "2025-04-20 17:27:51,219 - INFO - NYT sleeping for 13 seconds to avoid hitting the rate limit\n",
      "2025-04-20 17:27:52,176 - INFO - Fetched 17 links from Financial Times... Attempting to scrape.\n",
      "2025-04-20 17:28:04,224 - INFO - Fetched 10 documents from New York Times API... Attempting to scrape.\n"
     ]
    },
    {
     "name": "stdout",
     "output_type": "stream",
     "text": [
      "Discovering node: Node(step=3, is_leaf=False, d_time=4, f_time=None)\n",
      "Tool call: rag_query ({\"query\":\"Tesla 2025 financial results management commentary margin pressure regulatory subsidies tax impact operational efficiency\",\"end_date\":\"2025-04-20\",\"start_date\":\"2025-01-01\"})\n",
      "Discovering node: Node(step=4, is_leaf=False, d_time=5, f_time=None)\n",
      "Tool call: rag_query ({\"query\":\"Tesla 2025 production capacity manufacturing volumes sales volumes\",\"end_date\":\"2025-04-20\",\"start_date\":\"2025-01-01\"})\n",
      "Discovering node: Node(step=5, is_leaf=False, d_time=6, f_time=None)\n",
      "Tool call: rag_query ({\"query\":\"2025 regulatory changes EV incentives subsidies tariffs taxes US China EU UK\",\"end_date\":\"2025-04-20\",\"start_date\":\"2025-01-01\"})\n",
      "Discovering node: Node(step=6, is_leaf=False, d_time=7, f_time=None)\n",
      "Tool call: rag_query ({\"query\":\"Tesla 2025 operational efficiency tax strategies regulatory adaptation management commentary\",\"end_date\":\"2025-04-20\",\"start_date\":\"2025-01-01\"})\n",
      "Discovering node: Node(step=7, is_leaf=True, d_time=8, f_time=None)\n",
      "Final Accepted Hypothesis: Tesla's 2025 performance exhibits continued revenue growth driven by strong sales volumes and capacity utilization, but profitability margins remain significantly pressured due to rising operating costs, geopolitical and regulatory challenges, and tariff-induced expense increases. Tesla’s operational efficiencies and regulatory adaptations have not fully offset these cost pressures, resulting in compressed margins and complex financial outcomes.\n",
      "\n",
      "Final Report:\n",
      "\n",
      "Tesla’s financial and operational landscape in 2025 is characterized by a dynamic contrast between solid top-line growth and eroding profitability. Sales data from the first quarter of 2025 shows Tesla sold approximately 336,681 pure battery electric vehicles, indicating sustained consumer demand and effective capacity utilization. This validates the aspect of the hypothesis regarding ongoing revenue growth fueled by expanded production and continued market appetite for Tesla’s vehicles.\n",
      "\n",
      "However, despite this robust sales volume, Tesla’s profitability margins tell a more challenging story. Automotive gross margins had declined sharply to 13.6% by Q4 2024—less than half of the peak margins achieved in 2022. This margin compression trend evidently continued into 2025, driven by a combination of competitive pressures and escalating operating costs. In comparison, domestic competitors such as BYD reported substantially higher margins (around 22.3%), highlighting Tesla’s operational cost challenges.\n",
      "\n",
      "Regulatory and geopolitical factors have prominently contributed to these financial pressures. Tesla operates in a highly complex regulatory environment; the US continues aggressive protectionist policies including tariffs of up to 25-100% on Chinese imports, increasing costs for Tesla’s supply chain and assembly footprint that spans multiple countries. Additionally, the Biden administration’s Inflation Reduction Act sustains certain cleantech incentives, but the introduction and persistence of tariffs and restrictive trade policies add an estimated $4,000 to $12,000 in costs per vehicle. \n",
      "\n",
      "In Europe, Tesla faces a sharp drop in sales (exceeding 40% in some countries in Q1 2025) amid stringent emissions targets and tariffs on Chinese EV imports, although some flexibility has been introduced through eased emissions targets to 2027. The UK’s regulatory approach is somewhat more permissive, extending hybrid vehicle sales to 2035 and offering some relief compared to the EU’s stringent policies. China remains Tesla’s second-largest market, but continued state subsidies for domestic EV manufacturers have led to overcapacity and intense pricing competition, compounding Tesla’s margin pressures.\n",
      "\n",
      "Tesla’s management commentary confirms these headwinds. CEO Elon Musk’s public engagement in political matters contrasts with competitors’ more reserved approaches but reflects the high-stakes regulatory challenges Tesla faces. The company’s exposure to geopolitical tensions and tariff regimes imposes significant strategic complexity. Although Tesla pursues operational expansions and innovation-driven growth, details on effective tax strategies or substantial operational efficiency gains in 2025 remain limited, suggesting these measures have yet to materially reverse margin declines.\n",
      "\n",
      "In summary, Tesla in 2025 robustly grows revenue from impressive sales volumes and capacity utilization, consistent with its aggressive expansion strategy. However, the company grapples with sustained margin compression due to rising operating and geopolitical costs, tariff burdens, and intense regulatory scrutiny in its key markets. Tesla’s ability to adapt operationally and strategically to this evolving regulatory and competitive environment will be central to improving profitability going forward, but as of the available data, these challenges have outweighed efficiency gains resulting in pressured financial performance.\n",
      "\n",
      "This comprehensive narrative supports the final accepted hypothesis by linking observed sales growth with concurrent margin compression and regulatory complexity, highlighting the dual forces shaping Tesla’s financial trajectory in 2025.\n"
     ]
    }
   ],
   "source": [
    "response = await hyp_researcher.dfs_research(root_node, query)\n",
    "print(response.text)"
   ]
  },
  {
   "cell_type": "code",
   "execution_count": null,
   "id": "7b753bad",
   "metadata": {},
   "outputs": [],
   "source": []
  }
 ],
 "metadata": {
  "kernelspec": {
   "display_name": "experimental",
   "language": "python",
   "name": "python3"
  },
  "language_info": {
   "codemirror_mode": {
    "name": "ipython",
    "version": 3
   },
   "file_extension": ".py",
   "mimetype": "text/x-python",
   "name": "python",
   "nbconvert_exporter": "python",
   "pygments_lexer": "ipython3",
   "version": "3.13.2"
  }
 },
 "nbformat": 4,
 "nbformat_minor": 5
}
