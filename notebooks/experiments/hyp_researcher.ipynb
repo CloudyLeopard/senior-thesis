{
 "cells": [
  {
   "cell_type": "markdown",
   "id": "40e29a60",
   "metadata": {},
   "source": [
    "# Testing Hypothesis Researcher"
   ]
  },
  {
   "cell_type": "code",
   "execution_count": null,
   "id": "13e74ff6",
   "metadata": {},
   "outputs": [],
   "source": [
    "# logging imports\n",
    "import logging\n",
    "from logging import StreamHandler\n",
    "\n",
    "# essential kruppe imports\n",
    "from kruppe.llm import OpenAILLM\n",
    "\n",
    "# toolkit import\n",
    "from kruppe.llm import OpenAIEmbeddingModel\n",
    "from kruppe.functional.docstore.mongo_store import MongoDBStore\n",
    "from kruppe.functional.rag.vectorstore.chroma import ChromaVectorStore\n",
    "from kruppe.functional.rag.index.vectorstore_index import VectorStoreIndex\n",
    "from kruppe.functional.rag.retriever.simple_retriever import SimpleRetriever\n",
    "from kruppe.functional.ragquery import RagQuery\n",
    "from kruppe.functional.llmquery import LLMQuery\n",
    "from kruppe.functional.newshub import NewsHub\n",
    "from kruppe.functional.finhub import FinHub\n",
    "from kruppe.data_source.news.nyt import NewYorkTimesData\n",
    "from kruppe.data_source.news.ft import FinancialTimesData\n",
    "from kruppe.data_source.news.newsapi import NewsAPIData\n",
    "from kruppe.data_source.finance.yfin import YFinanceData\n",
    "\n",
    "# hypothesis researcher import\n",
    "from kruppe.algorithm.hypothesis import HypothesisResearcher\n",
    "\n",
    "\n",
    "# set up logging for jupyter notebook\n",
    "\n",
    "ch = StreamHandler()\n",
    "formatter = logging.Formatter('%(asctime)s - %(levelname)s - %(message)s')\n",
    "ch.setFormatter(formatter)\n",
    "ch.setLevel(logging.DEBUG)\n",
    "\n",
    "fh = logging.FileHandler('logs/hypothesis_researcher.log')\n",
    "fh.setFormatter(formatter)\n",
    "fh.setLevel(logging.DEBUG)\n",
    "\n",
    "logger = logging.getLogger(\"kruppe.llm\")\n",
    "logger.setLevel(logging.INFO)\n",
    "logger.addHandler(fh) # log llm output to a file instead of console."
   ]
  },
  {
   "cell_type": "markdown",
   "id": "a78ad380",
   "metadata": {},
   "source": [
    "## Initializing Toolkit"
   ]
  },
  {
   "cell_type": "markdown",
   "id": "630c78d8",
   "metadata": {},
   "source": [
    "Set up document store and vector store"
   ]
  },
  {
   "cell_type": "code",
   "execution_count": null,
   "id": "84a65c15",
   "metadata": {},
   "outputs": [],
   "source": [
    "reset_db=False\n",
    "\n",
    "db_name = \"kruppe_librarian\"\n",
    "collection_name = \"playground_3\"\n",
    "\n",
    "# Create doc store\n",
    "unique_indices = [['title', 'datasource']] # NOTE: this is important to avoid duplicates\n",
    "docstore = await MongoDBStore.acreate_db(\n",
    "    db_name=db_name,\n",
    "    collection_name=\"playground\",\n",
    "    unique_indices=unique_indices,\n",
    "    reset_db=reset_db\n",
    ")\n",
    "\n",
    "# Create vectorstore index\n",
    "embedding_model = OpenAIEmbeddingModel()\n",
    "vectorstore = ChromaVectorStore(\n",
    "    embedding_model=embedding_model,\n",
    "    collection_name=collection_name,\n",
    "    persist_path='/Volumes/Lexar/Daniel Liu/vectorstores/kruppe_librarian'\n",
    ")\n",
    "\n",
    "if reset_db:\n",
    "    vectorstore.clear()\n",
    "    \n",
    "index = VectorStoreIndex(vectorstore=vectorstore)\n",
    "\n",
    "retriever = SimpleRetriever(index=index)"
   ]
  },
  {
   "cell_type": "code",
   "execution_count": null,
   "id": "24bc3779",
   "metadata": {},
   "outputs": [],
   "source": [
    "rag_query_engine = RagQuery(\n",
    "    retriever = retriever,\n",
    "    llm = OpenAILLM()\n",
    ")\n",
    "\n",
    "llm_query_engine = LLMQuery(\n",
    "    llm = OpenAILLM()\n",
    ")\n",
    "\n",
    "news_hub = NewsHub(news_sources=[\n",
    "    NewYorkTimesData(headers_path=\"../../.nyt-headers.json\"),\n",
    "    FinancialTimesData(headers_path=\"../../.ft-headers.json\"),\n",
    "    NewsAPIData()\n",
    "])\n",
    "\n",
    "fin_hub = FinHub(\n",
    "    fin_source = YFinanceData(),\n",
    "    llm = OpenAILLM()\n",
    ")"
   ]
  },
  {
   "cell_type": "code",
   "execution_count": null,
   "id": "c18f3477",
   "metadata": {},
   "outputs": [],
   "source": [
    "toolkit = [\n",
    "    rag_query_engine.rag_query,\n",
    "    llm_query_engine.llm_query,\n",
    "    news_hub.news_search,\n",
    "    news_hub.news_recent,\n",
    "    # news_hub.news_archive,\n",
    "    fin_hub.get_company_background,\n",
    "    fin_hub.get_company_income_stmt,\n",
    "    fin_hub.get_company_balance_sheet,\n",
    "    fin_hub.analyze_company_financial_stmts\n",
    "]"
   ]
  },
  {
   "cell_type": "markdown",
   "id": "94c4fd08",
   "metadata": {},
   "source": [
    "## Hypothesis Researcher\n",
    "\n",
    "Or what I call `Research Tree` lol"
   ]
  },
  {
   "cell_type": "markdown",
   "id": "5b304ab5",
   "metadata": {},
   "source": [
    "### Initialization"
   ]
  },
  {
   "cell_type": "markdown",
   "id": "904b5a70",
   "metadata": {},
   "source": [
    "Inputs"
   ]
  },
  {
   "cell_type": "code",
   "execution_count": null,
   "id": "d812883d",
   "metadata": {},
   "outputs": [],
   "source": [
    "query = \"How will the recent changes in US EV tax credits impact Tesla's sales in 2024?\""
   ]
  },
  {
   "cell_type": "markdown",
   "id": "056a5f84",
   "metadata": {},
   "source": [
    "Values that should be generated by other agentic components"
   ]
  },
  {
   "cell_type": "code",
   "execution_count": null,
   "id": "fcf37a9d",
   "metadata": {},
   "outputs": [],
   "source": [
    "# values that should be generated by other agents components\n",
    "expert_title = \"Regulatory Affairs Specialist in Automotive and Energy Sectors\"\n",
    "expert_desc = \"The Regulatory Affairs Specialist understands the complex regulatory frameworks impacting electric vehicle manufacturers and clean energy companies worldwide. This expert assesses how changing laws and policies influence Tesla’s operations and strategy.\"\n",
    "\n",
    "background = \"\"\"preliminary background report on tesla, inc.\n",
    "\n",
    "1. company overview\n",
    "tesla, inc. (tsla) designs, develops, manufactures, leases, and sells electric vehicles, as well as energy generation and storage systems in the united states, china, and internationally. founded in 2003 and headquartered in austin, texas, tesla operates through two main segments: automotive (electric vehicles and related services) and energy generation and storage (solar energy and battery products). as of the latest data, tesla employs over 125,000 people globally.\n",
    "\n",
    "2. recent news\n",
    "a targeted search for recent news about tesla over the past 30 days did not return any relevant articles in the available news databases. this may be due to limited coverage or the scope of the datasets searched.\n",
    "\n",
    "3. financial overview & analysis (past 3 years)\n",
    "- tesla saw modest revenue growth in 2024, but profitability margins contracted amid rising operating expenses and a significant tax charge.\n",
    "- the company maintains a strong liquidity position, highlighted by increasing cash and short-term investments, and current and quick ratios above industry norms.\n",
    "- active capital investments point to ongoing capacity and innovation expansion, underpinned by consistent r&d spending.\n",
    "- although long-term debt rose, tesla's debt-to-equity ratio and earnings power suggest manageable financial risk.\n",
    "- operationally, inventory turnover improved, while receivables turnover fell, highlighting a potential area for closer management.\n",
    "- overall, tesla demonstrates balanced growth, innovation, and financial stability, though it faces short-term challenges in profitability.\n",
    "\n",
    "this report provides a concise snapshot of tesla’s business, recent developments, and financial health as of 2024.\n",
    "\"\"\""
   ]
  },
  {
   "cell_type": "markdown",
   "id": "edf59f64",
   "metadata": {},
   "source": [
    "initialization"
   ]
  },
  {
   "cell_type": "code",
   "execution_count": null,
   "id": "93913a50",
   "metadata": {},
   "outputs": [],
   "source": [
    "hyp_llm = OpenAILLM(model=\"gpt-4.1-mini\")\n",
    "\n",
    "hyp_researcher = HypothesisResearcher(\n",
    "    role=expert_title,\n",
    "    role_description=expert_desc,\n",
    "    max_degree=2,\n",
    "    max_depth=10,\n",
    "    llm=hyp_llm,\n",
    "    toolkit = toolkit\n",
    ")\n",
    "\n"
   ]
  },
  {
   "cell_type": "markdown",
   "id": "eab3e1aa",
   "metadata": {},
   "source": [
    "### Init Starting Node"
   ]
  },
  {
   "cell_type": "code",
   "execution_count": null,
   "id": "77e9c843",
   "metadata": {},
   "outputs": [],
   "source": [
    "root_node = await hyp_researcher.init_starting_node(query, background)\n"
   ]
  },
  {
   "cell_type": "code",
   "execution_count": null,
   "id": "67c66d8f",
   "metadata": {},
   "outputs": [],
   "source": [
    "root_node.__dict__"
   ]
  },
  {
   "cell_type": "markdown",
   "id": "6f89fd85",
   "metadata": {},
   "source": [
    "### DFS Search"
   ]
  },
  {
   "cell_type": "code",
   "execution_count": null,
   "id": "7e5dcc0d",
   "metadata": {},
   "outputs": [],
   "source": [
    "response = await hyp_researcher.dfs_research(root_node, query)"
   ]
  },
  {
   "cell_type": "code",
   "execution_count": null,
   "id": "b163cb55",
   "metadata": {},
   "outputs": [],
   "source": [
    "root_node.children[0].act_queued"
   ]
  },
  {
   "cell_type": "code",
   "execution_count": null,
   "id": "431e90cd",
   "metadata": {},
   "outputs": [],
   "source": []
  }
 ],
 "metadata": {
  "kernelspec": {
   "display_name": "experimental",
   "language": "python",
   "name": "python3"
  },
  "language_info": {
   "codemirror_mode": {
    "name": "ipython",
    "version": 3
   },
   "file_extension": ".py",
   "mimetype": "text/x-python",
   "name": "python",
   "nbconvert_exporter": "python",
   "pygments_lexer": "ipython3",
   "version": "3.13.2"
  }
 },
 "nbformat": 4,
 "nbformat_minor": 5
}
