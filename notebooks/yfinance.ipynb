{
 "cells": [
  {
   "cell_type": "markdown",
   "metadata": {},
   "source": [
    "https://pypi.org/project/yfinance/"
   ]
  },
  {
   "cell_type": "code",
   "execution_count": 1,
   "metadata": {},
   "outputs": [
    {
     "data": {
      "text/plain": [
       "yfinance.Ticker object <MSFT>"
      ]
     },
     "execution_count": 1,
     "metadata": {},
     "output_type": "execute_result"
    }
   ],
   "source": [
    "import yfinance as yf\n",
    "\n",
    "msft = yf.Ticker(\"MSFT\")\n",
    "msft"
   ]
  },
  {
   "cell_type": "code",
   "execution_count": 13,
   "metadata": {},
   "outputs": [
    {
     "data": {
      "text/plain": [
       "[{'uuid': '4f1fd1eb-4ef2-3835-8f50-0002720c347d',\n",
       "  'title': \"Big Tech's AI-driven nuclear interest to send utilities higher\",\n",
       "  'publisher': 'Yahoo Finance Video',\n",
       "  'link': 'https://finance.yahoo.com/video/big-techs-ai-driven-nuclear-205511209.html',\n",
       "  'providerPublishTime': 1727988911,\n",
       "  'type': 'VIDEO',\n",
       "  'thumbnail': {'resolutions': [{'url': 'https://s.yimg.com/uu/api/res/1.2/fQvwFH_JWSlpU0uR40rKcg--~B/aD0xMTUzO3c9MjA0ODthcHBpZD15dGFjaHlvbg--/https://s.yimg.com/os/creatr-uploaded-images/2024-09/04883dc0-81c6-11ef-bd67-f4a994fbf141',\n",
       "     'width': 2048,\n",
       "     'height': 1153,\n",
       "     'tag': 'original'},\n",
       "    {'url': 'https://s.yimg.com/uu/api/res/1.2/i87x2uUOZ82yc8DQ0NKDUg--~B/Zmk9ZmlsbDtoPTE0MDtweW9mZj0wO3c9MTQwO2FwcGlkPXl0YWNoeW9u/https://s.yimg.com/os/creatr-uploaded-images/2024-09/04883dc0-81c6-11ef-bd67-f4a994fbf141',\n",
       "     'width': 140,\n",
       "     'height': 140,\n",
       "     'tag': '140x140'}]},\n",
       "  'relatedTickers': ['CEG', 'VIST', 'VSOGF', 'MSFT', 'GOOG']},\n",
       " {'uuid': '700e8516-88f2-374d-bdc2-d67afa4225f7',\n",
       "  'title': 'Market Cools As New Half-Point Rate-Cut Chances Dim, But 3 Growth Stocks Hit Buy Points (Live Coverage)',\n",
       "  'publisher': \"Investor's Business Daily\",\n",
       "  'link': 'https://finance.yahoo.com/m/700e8516-88f2-374d-bdc2-d67afa4225f7/market-cools-as-new.html',\n",
       "  'providerPublishTime': 1727986167,\n",
       "  'type': 'STORY',\n",
       "  'thumbnail': {'resolutions': [{'url': 'https://s.yimg.com/uu/api/res/1.2/uG8RDhWLQUbThsWxXe44Dg--~B/aD01NjM7dz0xMDAwO2FwcGlkPXl0YWNoeW9u/https://media.zenfs.com/en/ibd.com/d597d3a04f2193a3e3d4a66968edf6f2',\n",
       "     'width': 1000,\n",
       "     'height': 563,\n",
       "     'tag': 'original'},\n",
       "    {'url': 'https://s.yimg.com/uu/api/res/1.2/ah0DoCIKNJ4RjZ5Bm29nkA--~B/Zmk9ZmlsbDtoPTE0MDtweW9mZj0wO3c9MTQwO2FwcGlkPXl0YWNoeW9u/https://media.zenfs.com/en/ibd.com/d597d3a04f2193a3e3d4a66968edf6f2',\n",
       "     'width': 140,\n",
       "     'height': 140,\n",
       "     'tag': '140x140'}]},\n",
       "  'relatedTickers': ['MSFT', 'VIK', 'CBOE', 'PNTG', 'RYAN']},\n",
       " {'uuid': 'd9bb4d57-2a81-36c2-a310-ea60a43ad198',\n",
       "  'title': 'Sector Update: Tech Stocks Mixed Late Afternoon',\n",
       "  'publisher': 'MT Newswires',\n",
       "  'link': 'https://finance.yahoo.com/news/sector-tech-stocks-mixed-afternoon-195029649.html',\n",
       "  'providerPublishTime': 1727985029,\n",
       "  'type': 'STORY',\n",
       "  'relatedTickers': ['MSFT']},\n",
       " {'uuid': '09ad9dd4-7e12-3bbb-ab81-d1e5817801ab',\n",
       "  'title': 'Sector Update: Tech',\n",
       "  'publisher': 'MT Newswires',\n",
       "  'link': 'https://finance.yahoo.com/news/sector-tech-192937835.html',\n",
       "  'providerPublishTime': 1727983777,\n",
       "  'type': 'STORY',\n",
       "  'relatedTickers': ['MSFT']},\n",
       " {'uuid': 'cd5b96f6-de4d-3e18-8dfb-22ef65800d20',\n",
       "  'title': 'Jobless claims data, market volatility, China stocks: Morning Brief',\n",
       "  'publisher': 'Yahoo Finance Video',\n",
       "  'link': 'https://finance.yahoo.com/video/jobless-claims-data-market-volatility-182011183.html',\n",
       "  'providerPublishTime': 1727979611,\n",
       "  'type': 'VIDEO',\n",
       "  'thumbnail': {'resolutions': [{'url': 'https://s.yimg.com/uu/api/res/1.2/p3fHELgMVNoAYryZzkm_bg--~B/aD0zMzc3O3c9NjAwMDthcHBpZD15dGFjaHlvbg--/https://s.yimg.com/os/creatr-uploaded-images/2024-09/b8c10000-81b3-11ef-8eae-104f473b2f24',\n",
       "     'width': 6000,\n",
       "     'height': 3377,\n",
       "     'tag': 'original'},\n",
       "    {'url': 'https://s.yimg.com/uu/api/res/1.2/meeYAUeBpygGXdYPp4vAKQ--~B/Zmk9ZmlsbDtoPTE0MDtweW9mZj0wO3c9MTQwO2FwcGlkPXl0YWNoeW9u/https://s.yimg.com/os/creatr-uploaded-images/2024-09/b8c10000-81b3-11ef-8eae-104f473b2f24',\n",
       "     'width': 140,\n",
       "     'height': 140,\n",
       "     'tag': '140x140'}]},\n",
       "  'relatedTickers': ['^DJI',\n",
       "   'NVDA',\n",
       "   'TSLA',\n",
       "   'GOOG',\n",
       "   'META',\n",
       "   'AAPL',\n",
       "   'AMZN',\n",
       "   '^IXIC',\n",
       "   'BZ=F',\n",
       "   '^HSI',\n",
       "   '^GSPC',\n",
       "   'CL=F',\n",
       "   'MSFT']},\n",
       " {'uuid': 'f64f92ee-04f5-36b3-934d-7483425d6bc1',\n",
       "  'title': 'Microsoft Stock Is No Longer A Buy Now; Instead, Keep Watching This Long-Term Moving Average',\n",
       "  'publisher': \"Investor's Business Daily\",\n",
       "  'link': 'https://finance.yahoo.com/m/f64f92ee-04f5-36b3-934d-7483425d6bc1/microsoft-stock-is-no-longer.html',\n",
       "  'providerPublishTime': 1727979307,\n",
       "  'type': 'STORY',\n",
       "  'thumbnail': {'resolutions': [{'url': 'https://s.yimg.com/uu/api/res/1.2/IuwCftp59aH2FcEF9642uQ--~B/aD01MzM7dz05NDU7YXBwaWQ9eXRhY2h5b24-/https://media.zenfs.com/en/ibd.com/19de146577114fd1cf623820387064d3',\n",
       "     'width': 945,\n",
       "     'height': 533,\n",
       "     'tag': 'original'},\n",
       "    {'url': 'https://s.yimg.com/uu/api/res/1.2/dRSXk9m3BnFFW60isR.WJA--~B/Zmk9ZmlsbDtoPTE0MDtweW9mZj0wO3c9MTQwO2FwcGlkPXl0YWNoeW9u/https://media.zenfs.com/en/ibd.com/19de146577114fd1cf623820387064d3',\n",
       "     'width': 140,\n",
       "     'height': 140,\n",
       "     'tag': '140x140'}]},\n",
       "  'relatedTickers': ['MSFT']},\n",
       " {'uuid': 'd24f985d-243e-3763-841d-8a6344f56689',\n",
       "  'title': 'Sector Update: Tech Stocks Mixed Thursday Afternoon',\n",
       "  'publisher': 'MT Newswires',\n",
       "  'link': 'https://finance.yahoo.com/news/sector-tech-stocks-mixed-thursday-180055465.html',\n",
       "  'providerPublishTime': 1727978455,\n",
       "  'type': 'STORY',\n",
       "  'relatedTickers': ['MSFT']},\n",
       " {'uuid': '46e8b033-e2fb-4fd1-92ce-7854913e9986',\n",
       "  'title': \"Nvidia stock rises as CEO Jensen Huang touts 'insane' chip demand\",\n",
       "  'publisher': 'Yahoo Finance',\n",
       "  'link': 'https://finance.yahoo.com/news/nvidia-stock-rises-as-ceo-jensen-huang-touts-insane-chip-demand-162700341.html',\n",
       "  'providerPublishTime': 1727975997,\n",
       "  'type': 'STORY',\n",
       "  'thumbnail': {'resolutions': [{'url': 'https://s.yimg.com/uu/api/res/1.2/.Ahj1Ar90yz5xJ.sre775A--~B/aD0zNTkwO3c9NTM4NTthcHBpZD15dGFjaHlvbg--/https://s.yimg.com/os/creatr-uploaded-images/2024-10/4a868770-8197-11ef-bfb6-f0cc9baa21d0',\n",
       "     'width': 5385,\n",
       "     'height': 3590,\n",
       "     'tag': 'original'},\n",
       "    {'url': 'https://s.yimg.com/uu/api/res/1.2/k80bbusLNTrWtDrzH7B9bw--~B/Zmk9ZmlsbDtoPTE0MDtweW9mZj0wO3c9MTQwO2FwcGlkPXl0YWNoeW9u/https://s.yimg.com/os/creatr-uploaded-images/2024-10/4a868770-8197-11ef-bfb6-f0cc9baa21d0',\n",
       "     'width': 140,\n",
       "     'height': 140,\n",
       "     'tag': '140x140'}]},\n",
       "  'relatedTickers': ['MSFT', 'NVDA']}]"
      ]
     },
     "execution_count": 13,
     "metadata": {},
     "output_type": "execute_result"
    }
   ],
   "source": [
    "msft.news"
   ]
  },
  {
   "cell_type": "code",
   "execution_count": null,
   "metadata": {},
   "outputs": [],
   "source": []
  }
 ],
 "metadata": {
  "kernelspec": {
   "display_name": "env",
   "language": "python",
   "name": "python3"
  },
  "language_info": {
   "codemirror_mode": {
    "name": "ipython",
    "version": 3
   },
   "file_extension": ".py",
   "mimetype": "text/x-python",
   "name": "python",
   "nbconvert_exporter": "python",
   "pygments_lexer": "ipython3",
   "version": "3.11.4"
  }
 },
 "nbformat": 4,
 "nbformat_minor": 2
}
