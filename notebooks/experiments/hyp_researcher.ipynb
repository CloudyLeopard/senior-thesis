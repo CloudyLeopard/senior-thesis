{
 "cells": [
  {
   "cell_type": "markdown",
   "id": "40e29a60",
   "metadata": {},
   "source": [
    "# Testing Hypothesis Researcher"
   ]
  },
  {
   "cell_type": "code",
   "execution_count": 1,
   "id": "13e74ff6",
   "metadata": {},
   "outputs": [],
   "source": [
    "# logging imports\n",
    "import logging\n",
    "from logging import StreamHandler\n",
    "\n",
    "# essential kruppe imports\n",
    "from kruppe.llm import OpenAILLM\n",
    "\n",
    "# import hypothesis researcher\n",
    "from kruppe.algorithm.hypothesis import HypothesisResearcher\n",
    "\n",
    "# toolkit import\n",
    "from kruppe.llm import OpenAIEmbeddingModel\n",
    "from kruppe.functional.docstore.mongo_store import MongoDBStore\n",
    "from kruppe.functional.rag.vectorstore.chroma import ChromaVectorStore\n",
    "from kruppe.functional.rag.index.vectorstore_index import VectorStoreIndex\n",
    "from kruppe.functional.rag.retriever.simple_retriever import SimpleRetriever\n",
    "from kruppe.functional.rag.retriever.fusion_retriever import QueryFusionRetriever\n",
    "from kruppe.functional.ragquery import RagQuery\n",
    "from kruppe.functional.llmquery import LLMQuery\n",
    "from kruppe.functional.newshub import NewsHub\n",
    "from kruppe.functional.finhub import FinHub\n",
    "from kruppe.data_source.news.nyt import NewYorkTimesData\n",
    "from kruppe.data_source.news.ft import FinancialTimesData\n",
    "from kruppe.data_source.news.newsapi import NewsAPIData\n",
    "from kruppe.data_source.finance.yfin import YFinanceData\n",
    "\n",
    "# researcher import\n",
    "from kruppe.algorithm.librarian import Librarian\n",
    "from kruppe.algorithm.coordinator import Coordinator"
   ]
  },
  {
   "cell_type": "code",
   "execution_count": 2,
   "id": "f83dc039",
   "metadata": {},
   "outputs": [],
   "source": [
    "# set up logging\n",
    "\n",
    "# handlers\n",
    "\n",
    "# set up logging for jupyter notebook\n",
    "ch = StreamHandler()\n",
    "formatter = logging.Formatter('%(asctime)s - %(levelname)s - %(message)s')\n",
    "ch.setFormatter(formatter)\n",
    "ch.setLevel(logging.INFO)\n",
    "\n",
    "# set up logging for everything\n",
    "log_file_path = \"/Users/danielliu/Workspace/fin-rag/logs/everything.log\"\n",
    "with open(log_file_path, 'w') as f:\n",
    "    pass\n",
    "\n",
    "fh_all = logging.FileHandler(log_file_path)\n",
    "fh_all.setFormatter(formatter)\n",
    "fh_all.setLevel(logging.DEBUG)\n",
    "\n",
    "# set up logging for llm\n",
    "log_file_path = \"/Users/danielliu/Workspace/fin-rag/logs/llm.log\"\n",
    "with open(log_file_path, 'w') as f:\n",
    "    pass\n",
    "\n",
    "fh_llm = logging.FileHandler(log_file_path)\n",
    "fh_llm.setFormatter(formatter)\n",
    "fh_llm.setLevel(logging.DEBUG)\n",
    "\n",
    "# set up logging for scraper\n",
    "log_file_path = \"/Users/danielliu/Workspace/fin-rag/logs/scraper.log\"\n",
    "with open(log_file_path, 'w') as f:\n",
    "    pass\n",
    "\n",
    "fh_scraper = logging.FileHandler(log_file_path)\n",
    "fh_scraper.setFormatter(formatter)\n",
    "fh_scraper.setLevel(logging.DEBUG)\n",
    "\n",
    "# set up loggers\n",
    "root_logger = logging.getLogger()\n",
    "root_logger.setLevel(logging.ERROR)\n",
    "root_logger.handlers.clear()\n",
    "root_logger.addHandler(fh_all) # log everything to a file\n",
    "\n",
    "kruppe_logger = logging.getLogger(\"kruppe.algorithm\")\n",
    "kruppe_logger.setLevel(logging.INFO)\n",
    "kruppe_logger.addHandler(ch) # log to console\n",
    "\n",
    "logger = logging.getLogger(\"kruppe.llm\")\n",
    "logger.setLevel(logging.DEBUG)\n",
    "logger.addHandler(fh_llm) # log llm output to a file instead of console.\n",
    "logger.propagate = False # prevent logging from propagating to the root logger\n",
    "\n",
    "logger_scraper = logging.getLogger(\"kruppe.data_source.scraper\")\n",
    "logger_scraper.setLevel(logging.DEBUG)\n",
    "logger_scraper.addHandler(fh_scraper) # log scraper output to a file instead of console.\n",
    "logger_scraper.propagate = False # prevent logging from propagating to the console"
   ]
  },
  {
   "cell_type": "markdown",
   "id": "a78ad380",
   "metadata": {},
   "source": [
    "## Initializing Toolkit"
   ]
  },
  {
   "cell_type": "markdown",
   "id": "630c78d8",
   "metadata": {},
   "source": [
    "Set up document store and vector store"
   ]
  },
  {
   "cell_type": "code",
   "execution_count": 3,
   "id": "84a65c15",
   "metadata": {},
   "outputs": [],
   "source": [
    "reset_db=False\n",
    "\n",
    "db_name = \"kruppe_librarian\"\n",
    "collection_name = \"general_news_04_20_2025\"\n",
    "\n",
    "# Create doc store\n",
    "unique_indices = [['title', 'datasource']] # NOTE: this is important to avoid duplicates\n",
    "docstore = await MongoDBStore.acreate_db(\n",
    "    db_name=db_name,\n",
    "    collection_name=collection_name,\n",
    "    unique_indices=unique_indices,\n",
    "    reset_db=reset_db\n",
    ")\n",
    "\n",
    "# Create vectorstore index\n",
    "embedding_model = OpenAIEmbeddingModel()\n",
    "vectorstore = ChromaVectorStore(\n",
    "    embedding_model=embedding_model,\n",
    "    collection_name=collection_name,\n",
    "    persist_path='/Volumes/Lexar/Daniel Liu/vectorstores/kruppe_librarian'\n",
    ")\n",
    "\n",
    "index = VectorStoreIndex(vectorstore=vectorstore)\n",
    "retriever = SimpleRetriever(index=index)\n",
    "# retriever = QueryFusionRetriever(\n",
    "#     retrievers=[simple_retriever],\n",
    "#     mode='rrf',\n",
    "#     llm=OpenAILLM(),\n",
    "#     num_queries=3\n",
    "# )\n",
    "\n",
    "\n",
    "if reset_db:\n",
    "    vectorstore.clear()\n",
    "\n"
   ]
  },
  {
   "cell_type": "code",
   "execution_count": 4,
   "id": "ff449e58",
   "metadata": {},
   "outputs": [
    {
     "name": "stdout",
     "output_type": "stream",
     "text": [
      "Number of documents: 1692\n",
      "Number of chunks: 15199\n"
     ]
    }
   ],
   "source": [
    "print(\"Number of documents:\", docstore.size())\n",
    "print(\"Number of chunks:\", vectorstore.size())"
   ]
  },
  {
   "cell_type": "code",
   "execution_count": 5,
   "id": "24bc3779",
   "metadata": {},
   "outputs": [],
   "source": [
    "rag_query_engine = RagQuery(\n",
    "    retriever = retriever,\n",
    "    llm = OpenAILLM()\n",
    ")\n",
    "\n",
    "llm_query_engine = LLMQuery(\n",
    "    llm = OpenAILLM()\n",
    ")\n",
    "\n",
    "news_hub = NewsHub(news_sources=[\n",
    "    NewYorkTimesData(headers_path=\"../../.nyt-headers.json\"),\n",
    "    FinancialTimesData(headers_path=\"../../.ft-headers.json\"),\n",
    "    NewsAPIData()\n",
    "])\n",
    "\n",
    "fin_hub = FinHub(\n",
    "    fin_source = YFinanceData(),\n",
    "    llm = OpenAILLM()\n",
    ")"
   ]
  },
  {
   "cell_type": "code",
   "execution_count": 6,
   "id": "c18f3477",
   "metadata": {},
   "outputs": [],
   "source": [
    "toolkit = [\n",
    "    rag_query_engine.rag_query,\n",
    "    llm_query_engine.llm_query,\n",
    "    news_hub.news_search,\n",
    "    # news_hub.news_recent,\n",
    "    # news_hub.news_archive,\n",
    "    fin_hub.get_company_background,\n",
    "    fin_hub.get_company_income_stmt,\n",
    "    fin_hub.get_company_balance_sheet,\n",
    "    fin_hub.analyze_company_financial_stmts\n",
    "]"
   ]
  },
  {
   "cell_type": "markdown",
   "id": "94c4fd08",
   "metadata": {},
   "source": [
    "## Hypothesis Researcher\n",
    "\n",
    "Or what I call `Research Tree` lol"
   ]
  },
  {
   "cell_type": "markdown",
   "id": "5b304ab5",
   "metadata": {},
   "source": [
    "### Initialization"
   ]
  },
  {
   "cell_type": "markdown",
   "id": "904b5a70",
   "metadata": {},
   "source": [
    "Inputs"
   ]
  },
  {
   "cell_type": "code",
   "execution_count": 7,
   "id": "d812883d",
   "metadata": {},
   "outputs": [],
   "source": [
    "query = \"How has Tesla's performance changed over the last year? (2025)\""
   ]
  },
  {
   "cell_type": "markdown",
   "id": "056a5f84",
   "metadata": {},
   "source": [
    "Values that should be generated by other agentic components"
   ]
  },
  {
   "cell_type": "code",
   "execution_count": 8,
   "id": "fcf37a9d",
   "metadata": {},
   "outputs": [],
   "source": [
    "# values that should be generated by other agents components\n",
    "expert_title = \"Regulatory Affairs Specialist in Automotive and Energy Sectors\"\n",
    "expert_desc = \"The Regulatory Affairs Specialist understands the complex regulatory frameworks impacting electric vehicle manufacturers and clean energy companies worldwide. This expert assesses how changing laws and policies influence Tesla’s operations and strategy.\"\n",
    "\n",
    "background = \"\"\"preliminary background report on tesla, inc.\n",
    "\n",
    "1. company overview\n",
    "tesla, inc. (tsla) designs, develops, manufactures, leases, and sells electric vehicles, as well as energy generation and storage systems in the united states, china, and internationally. founded in 2003 and headquartered in austin, texas, tesla operates through two main segments: automotive (electric vehicles and related services) and energy generation and storage (solar energy and battery products). as of the latest data, tesla employs over 125,000 people globally.\n",
    "\n",
    "2. recent news\n",
    "a targeted search for recent news about tesla over the past 30 days did not return any relevant articles in the available news databases. this may be due to limited coverage or the scope of the datasets searched.\n",
    "\n",
    "3. financial overview & analysis (past 3 years)\n",
    "- tesla saw modest revenue growth in 2024, but profitability margins contracted amid rising operating expenses and a significant tax charge.\n",
    "- the company maintains a strong liquidity position, highlighted by increasing cash and short-term investments, and current and quick ratios above industry norms.\n",
    "- active capital investments point to ongoing capacity and innovation expansion, underpinned by consistent r&d spending.\n",
    "- although long-term debt rose, tesla's debt-to-equity ratio and earnings power suggest manageable financial risk.\n",
    "- operationally, inventory turnover improved, while receivables turnover fell, highlighting a potential area for closer management.\n",
    "- overall, tesla demonstrates balanced growth, innovation, and financial stability, though it faces short-term challenges in profitability.\n",
    "\n",
    "this report provides a concise snapshot of tesla’s business, recent developments, and financial health as of 2024.\n",
    "\"\"\""
   ]
  },
  {
   "cell_type": "markdown",
   "id": "edf59f64",
   "metadata": {},
   "source": [
    "initialization"
   ]
  },
  {
   "cell_type": "code",
   "execution_count": 9,
   "id": "93913a50",
   "metadata": {},
   "outputs": [],
   "source": [
    "hyp_llm = OpenAILLM(model=\"gpt-4.1-mini\")\n",
    "\n",
    "hyp_researcher = HypothesisResearcher(\n",
    "    role=expert_title,\n",
    "    role_description=expert_desc,\n",
    "    max_degree=2,\n",
    "    max_steps=10,\n",
    "    verbose=True,\n",
    "    llm=hyp_llm,\n",
    "    toolkit = toolkit,\n",
    "    docstore = docstore,\n",
    "    index=index,\n",
    "    background_report = background\n",
    ")\n",
    "\n"
   ]
  },
  {
   "cell_type": "markdown",
   "id": "eab3e1aa",
   "metadata": {},
   "source": [
    "### Init Starting Node"
   ]
  },
  {
   "cell_type": "code",
   "execution_count": 10,
   "id": "77e9c843",
   "metadata": {},
   "outputs": [],
   "source": [
    "# root_node = await hyp_researcher.init_starting_node(query, background)\n"
   ]
  },
  {
   "cell_type": "code",
   "execution_count": 11,
   "id": "67c66d8f",
   "metadata": {},
   "outputs": [],
   "source": [
    "# root_node.model_dump()"
   ]
  },
  {
   "cell_type": "markdown",
   "id": "6f89fd85",
   "metadata": {},
   "source": [
    "### DFS Search"
   ]
  },
  {
   "cell_type": "code",
   "execution_count": 12,
   "id": "7e5dcc0d",
   "metadata": {},
   "outputs": [],
   "source": [
    "# response = await hyp_researcher.dfs_research(root_node, query)\n",
    "# print(response.text)"
   ]
  },
  {
   "cell_type": "code",
   "execution_count": 13,
   "id": "570a84b4",
   "metadata": {},
   "outputs": [],
   "source": [
    "# for doc in response.sources:\n",
    "    # print(f\"{doc.metadata.get('datasource')}: {doc.metadata.get('title')}\")"
   ]
  },
  {
   "cell_type": "markdown",
   "id": "504239d8",
   "metadata": {},
   "source": [
    "### Final run... Execute!"
   ]
  },
  {
   "cell_type": "code",
   "execution_count": 14,
   "id": "8b7bab61",
   "metadata": {},
   "outputs": [
    {
     "name": "stdout",
     "output_type": "stream",
     "text": [
      "Initialized 2 root nodes.\n",
      "Starting research on tree 0\n",
      "Discovering node: Node(tree_id=0, step=0, is_leaf=False, d_time=1, f_time=None)\n",
      "Starting research on tree 1\n",
      "Discovering node: Node(tree_id=1, step=0, is_leaf=False, d_time=1, f_time=None)\n",
      "Discovering node: Node(tree_id=0, step=1, is_leaf=False, d_time=2, f_time=None)\n",
      "Discovering node: Node(tree_id=1, step=1, is_leaf=False, d_time=2, f_time=None)\n",
      "Tool call: get_company_income_stmt ({\"ticker\": \"TSLA\", \"years\": 1})\n",
      "Tool call: get_company_income_stmt ({\"ticker\": \"TSLA\", \"years\": 1})\n",
      "Discovering node: Node(tree_id=1, step=2, is_leaf=False, d_time=3, f_time=None)\n",
      "Discovering node: Node(tree_id=0, step=2, is_leaf=False, d_time=3, f_time=None)\n",
      "Tool call: get_company_balance_sheet ({\"ticker\":\"TSLA\",\"years\":1})\n",
      "Tool call: rag_query ({\"query\":\"Tesla 2025 segment revenue vehicle energy product sales\",\"end_date\":\"2025-04-23\",\"start_date\":\"2024-01-01\"})\n",
      "Discovering node: Node(tree_id=1, step=3, is_leaf=False, d_time=4, f_time=None)\n",
      "Tool call: rag_query ({\"query\":\"Tesla regulatory environment adaptations 2025 impact on costs and sales, EV incentives, emissions regulations, energy policies, product launches, market share changes 2025\",\"end_date\":\"2025-04-23\",\"start_date\":\"2024-01-01\"})\n",
      "Discovering node: Node(tree_id=0, step=3, is_leaf=False, d_time=4, f_time=None)\n",
      "Tool call: rag_query ({\"query\":\"2025 electric vehicle and energy sector regulatory changes subsidies tax policies US Europe China\",\"end_date\":\"2025-04-23\",\"start_date\":\"2024-01-01\"})\n",
      "Discovering node: Node(tree_id=1, step=4, is_leaf=False, d_time=5, f_time=None)\n",
      "Tool call: rag_query ({\"query\":\"Tesla operational metrics 2025 receivables turnover inventory turnover capital expenditure R&D spend segment profitability\",\"end_date\":\"2025-04-23\",\"start_date\":\"2024-01-01\"})\n",
      "Discovering node: Node(tree_id=0, step=4, is_leaf=False, d_time=5, f_time=None)\n",
      "Tool call: rag_query ({\"query\":\"Tesla 2025 supply chain performance production scale receivables management\",\"end_date\":\"2025-04-23\",\"start_date\":\"2024-01-01\"})\n",
      "Discovering node: Node(tree_id=0, step=5, is_leaf=False, d_time=6, f_time=None)\n",
      "Tool call: rag_query ({\"query\":\"Tesla 2025 capital expenditures innovation investments capacity expansion\",\"end_date\":\"2025-04-23\",\"start_date\":\"2024-01-01\"})\n",
      "Discovering node: Node(tree_id=1, step=5, is_leaf=False, d_time=6, f_time=None)\n",
      "Tool call: analyze_company_financial_stmts ({\"ticker\":\"TSLA\",\"years\":1})\n",
      "Discovering node: Node(tree_id=0, step=6, is_leaf=True, d_time=7, f_time=None)\n",
      "Finished research on tree 0\n",
      "Discovering node: Node(tree_id=1, step=6, is_leaf=True, d_time=7, f_time=None)\n",
      "Finished research on tree 1\n"
     ]
    }
   ],
   "source": [
    "responses = await hyp_researcher.execute(query)"
   ]
  },
  {
   "cell_type": "code",
   "execution_count": 15,
   "id": "168a5288",
   "metadata": {},
   "outputs": [
    {
     "name": "stdout",
     "output_type": "stream",
     "text": [
      "Final Working Hypothesis:  \n",
      "Tesla’s performance in 2025 shows continued revenue growth driven primarily by expanded vehicle production approaching 1.8 million units and rapid growth in energy product sales exceeding 50%. However, profitability margins remain constrained and volatile due to rising operating expenses, increased regulatory compliance costs, changes in tax and subsidy frameworks, and external tariff and competitive pressures. Operational efficiency improves moderately through supply chain localization and strategic receivables management, while Tesla sustains heavy capital expenditures on innovation and capacity expansion to support long-term growth and competitive positioning.\n",
      "\n",
      "Final Report:  \n",
      "An in-depth analysis of Tesla’s 2025 performance reveals a multifaceted financial and operational picture shaped by both internal strategic actions and external regulatory and market forces. Financial statements for 2025 show a modest increase in total revenue to approximately $97.7 billion, up from $96.8 billion in 2024, confirming continued top-line growth. This growth is predominantly driven by two key segments: automotive sales and energy products. Tesla’s vehicle production and deliveries are expected to hit nearly 1.8 million units, supported by updated Model Y launches and the introduction of lower-priced vehicles, fulfilling the revenue growth assumption.\n",
      "\n",
      "The energy generation and battery storage segment experienced explosive growth, more than doubling to $3.1 billion recently and forecasted to grow over 50% in 2025 following a 113% rise in 2024. This segment’s robust expansion underscores Tesla’s successful diversification beyond automotive sales and its increasing contribution to overall revenue.\n",
      "\n",
      "Despite revenue growth, profitability margins contracted significantly. Gross profit dropped slightly, while operating expenses and research and development spending increased substantially, contributing to an operating income decline from $8.89 billion to $7.76 billion year-over-year. The net income halved from approximately $15 billion to $7.1 billion, highlighting margin pressure. A notable driver was the tax provision shift from a large tax benefit to a positive tax expense, indicative of changes in tax or subsidy frameworks. These financial dynamics align with the hypothesis that higher operating and regulatory costs constrained profitability.\n",
      "\n",
      "Regulatory and subsidy trends in Tesla’s critical markets further explain margin pressures. Europe witnessed a 40% surge in EV sales driven by stricter emissions regulations, but also experienced reduced subsidies and increased compliance costs, despite some regulatory enforcement leniency. The US faced potential cuts to the $7,500 federal EV tax credit under new executive orders, threatening to slow down industry momentum and compress margins. Meanwhile, China continues to provide substantial state support for EVs, though incurred tariffs in exporting vehicles to Europe pressured operational costs and influenced production and supply chain strategies.\n",
      "\n",
      "Operationally, Tesla pursued supply chain localization efforts in the US to mitigate geopolitical risks and lessen dependence on Chinese suppliers. While this improved robustness, tariffs and intense competition especially in Europe and China imposed headwinds, slightly dampening demand and challenging margin recovery. Tesla managed receivables and payables carefully to bolster cash flow, but working capital complexities indicate persistent operational pressures.\n",
      "\n",
      "Finally, Tesla’s commitment to long-term growth is validated by heavy and sustained capital expenditures in 2025, estimated at approximately $11 billion annually. Investments focused on expanding vehicle manufacturing capacity, AI-enabled autonomous driving development, battery production, and energy storage capacity. The rollout of new vehicle models, the expansion of full self-driving in key global markets, and preparation for volume production of autonomous Robotaxi units by 2026 underscore Tesla’s strategy to secure competitive advantage despite near-term profitability challenges.\n",
      "\n",
      "In conclusion, Tesla’s 2025 performance reflects a company successfully growing revenues through expanded production and energy diversification, yet facing profitability constraints from rising expenses and evolving regulatory and fiscal landscapes. Operational improvements and strong innovation investments position Tesla well for future growth, but near-term margins remain vulnerable to external policy shifts and market conditions. This comprehensive assessment fully supports the original working hypothesis.\n",
      "==========================\n",
      "Final Working Hypothesis:\n",
      "Tesla’s 2025 performance is characterized by moderate revenue growth driven by strategic capital investments and innovation, combined with margin compression resulting from increased operating, compliance, and restructuring costs linked to evolving regulatory requirements. While operational improvements, such as inventory management, partially offset these pressures, challenges in receivables turnover and rising debt levels reflect the complex balance Tesla maintains between scaling operations, adapting to regulatory shifts, and managing short-term financial pressures.\n",
      "\n",
      "Final Report:\n",
      "In 2025, Tesla experienced a nuanced performance trajectory shaped by external regulatory pressures and internal strategic decisions. Financial data from 2025 reveals that Tesla’s total revenue grew modestly to approximately $97.7 billion, a slight increase from $96.7 billion in the previous year. However, gross profit declined marginally to $17.45 billion, signaling margin compression despite top-line growth. Operating expenses increased notably from $8.77 billion to $9.69 billion, aligning with the hypothesis that Tesla faced heightened costs, likely stemming from regulatory compliance, operational complexities, and strategic restructuring activities. The presence of restructuring charges in 2025 further weighed on profitability.\n",
      "\n",
      "Innovation remained a cornerstone of Tesla’s approach, as reflected in a significant rise in R&D spending to $4.54 billion, up from $3.97 billion, emphasizing the company’s commitment to pushing technological boundaries through initiatives like Full Self-Driving software, Robotaxi projects, and the launch of new vehicle models, including more affordable variants and the Semi Truck. Despite this investment, net income nearly halved—from roughly $15 billion in 2024 to $7.1 billion—accentuating the financial strain from operating and regulatory costs.\n",
      "\n",
      "From a balance sheet perspective, Tesla bolstered its asset base from $107 billion to $122 billion, driven by intensive capital expenditure on property, plant, and equipment, which rose significantly to $51.5 billion net. This capital expansion was supported by higher leverage, with total debt climbing 42% to $13.6 billion, indicating increased reliance on external financing to sustain growth and manage operational expenses. Working capital increased substantially as well, highlighting stronger short-term liquidity, while inventory levels decreased modestly, evidencing gains in inventory management efficiency. Conversely, accounts receivable grew, suggesting challenges in receivables turnover that could pressure cash flow.\n",
      "\n",
      "Tesla’s regulatory environment in 2025 presented mixed challenges and opportunities. The discontinuation of U.S. EV tax credits and impending tariffs increased industry costs while dampening domestic EV adoption rates. This regulatory shift, coupled with intensifying competition from rivals like BYD and GM, contributed to Tesla’s reduced U.S. market share falling to 49%. However, Europe’s strengthened emissions regulations boosted EV sales by 40%, partially offsetting subsidies rollbacks. Tesla responded to these market and regulatory dynamics by aggressively advancing product innovation and geographic expansion, including launching Full Self-Driving capabilities in China and Europe and introducing new vehicle models at competitive price points.\n",
      "\n",
      "Operational and financial data reflect the complex interplay between scaling innovation and managing regulatory-induced cost pressures. While detailed operational metrics such as inventory turnover and receivables turnover ratios remain unavailable, the overall financial narrative points to operational improvements being offset by increased costs and restructuring expenditures. Tesla’s substantial capital and R&D investments position it for future growth, even as current margins contract and debt levels rise.\n",
      "\n",
      "In summary, Tesla’s 2025 performance embodies a transitional phase marked by revenue growth fueled by innovation and strategic investment, counterbalanced by margin pressure attributable to evolving regulatory costs and operational challenges. The company’s ability to navigate these pressures through continued product development and market expansion suggests a deliberate strategy to sustain long-term growth despite near-term financial headwinds.\n",
      "\n",
      "This comprehensive assessment supports the hypothesis and provides a nuanced understanding of Tesla’s 2025 performance landscape.\n",
      "\n",
      "Action: FINISH[complete]\n",
      "==========================\n"
     ]
    }
   ],
   "source": [
    "for response in responses:\n",
    "    print(response.text)\n",
    "    print(\"==========================\")"
   ]
  },
  {
   "cell_type": "code",
   "execution_count": 16,
   "id": "0cabd9f6",
   "metadata": {},
   "outputs": [
    {
     "name": "stdout",
     "output_type": "stream",
     "text": [
      "FinancialTimesData: Tesla results disappoint but Musk touts coming robots and ‘cybercabs’ \n",
      "FinancialTimesData: Tesla and BYD diverge, GlobalFoundries looks to merge\n",
      "FinancialTimesData: Tesla and BYD diverge, GlobalFoundries looks to merge\n",
      "FinancialTimesData: Donald Trump has given BYD the edge over Tesla\n",
      "FinancialTimesData: Tech results - as it happened: Microsoft shares slide after cloud growth disappoints; Zuckerberg promises ‘intense’ year for Meta\n",
      "FinancialTimesData: Tech results - as it happened: Microsoft shares slide after cloud growth disappoints; Zuckerberg promises ‘intense’ year for Meta\n",
      "FinancialTimesData: BYD car sales soar as Tesla struggles in Europe\n",
      "FinancialTimesData: Tesla results disappoint but Musk touts coming robots and ‘cybercabs’ \n",
      "FinancialTimesData: $1.4bn is a lot to fall through the cracks, even for Tesla\n",
      "FinancialTimesData: Tech results - as it happened: Microsoft shares slide after cloud growth disappoints; Zuckerberg promises ‘intense’ year for Meta\n",
      "FinancialTimesData: Tesla and BYD diverge, GlobalFoundries looks to merge\n",
      "FinancialTimesData: Wall Street bets Tesla’s 2025 sales will miss Elon Musk’s target\n",
      "FinancialTimesData: Tesla results disappoint but Musk touts coming robots and ‘cybercabs’ \n",
      "FinancialTimesData: Tech results - as it happened: Microsoft shares slide after cloud growth disappoints; Zuckerberg promises ‘intense’ year for Meta\n",
      "FinancialTimesData: $1.4bn is a lot to fall through the cracks, even for Tesla\n",
      "FinancialTimesData: Wall Street bets Tesla’s 2025 sales will miss Elon Musk’s target\n",
      "FinancialTimesData: Tech results - as it happened: Microsoft shares slide after cloud growth disappoints; Zuckerberg promises ‘intense’ year for Meta\n",
      "FinancialTimesData: $1.4bn is a lot to fall through the cracks, even for Tesla\n",
      "FinancialTimesData: Tesla results disappoint but Musk touts coming robots and ‘cybercabs’ \n",
      "FinancialTimesData: Filling in that Tesla ‘crack’\n",
      "NewsAPIData: Global Ultra-thin Solar Cells Market to Hit Valuation of US$ 167.95 Million By 2033 | Astute Analytica\n",
      "FinancialTimesData: Tesla warns Trump administration it is ‘exposed’ to retaliatory tariffs\n",
      "FinancialTimesData: GM battery guru says carmaker can cut Tesla’s market share without government aid\n",
      "FinancialTimesData: EV targets watered down to help tariff-hit UK car industry\n",
      "FinancialTimesData: Trump’s return sinks EV charging companies’ shares \n",
      "FinancialTimesData: EU eases emissions rules on petrol cars to help industry\n",
      "FinancialTimesData: Tesla braces for delay to China licence as Trump trade tensions mount\n",
      "FinancialTimesData: The UK is snipping — rather than shredding — red tape\n",
      "FinancialTimesData: US tech will pay a price for Donald Trump’s approval\n",
      "FinancialTimesData: Filling in that Tesla ‘crack’\n",
      "FinancialTimesData: Nikola could be the shiniest wreck in the EV scrapheap\n",
      "FinancialTimesData: Letter: Don’t be fooled by EU’s simplification revolution\n",
      "FinancialTimesData: $1.4bn is a lot to fall through the cracks, even for Tesla\n",
      "FinancialTimesData: Is Europe losing its nerve on the green transition?\n",
      "FinancialTimesData: Delaware set to soften governance laws on threat of corporate exodus\n",
      "FinancialTimesData: UK’s red tape cut should follow business world’s dotted lines\n",
      "FinancialTimesData: Letter: Regulation should bolster EU economic dynamism\n",
      "FinancialTimesData: Ford to inject €4.4bn into debt-ridden German subsidiary  \n",
      "FinancialTimesData: Nikola files for bankruptcy protection and plans intellectual property sale\n",
      "FinancialTimesData: Letter: Regulation could be Brexit opportunity for UK fintech\n",
      "FinancialTimesData: Time for the SEC to get serious on crypto\n",
      "FinancialTimesData: Letter: Smart regulation should follow what has worked\n",
      "FinancialTimesData: UK to impose new targets on regulators to spur innovation\n",
      "FinancialTimesData: Myths of Europe’s overregulation\n",
      "NewYorkTimesData: Quote of the Day: Ancient City Of Palmyra Bears Scars Of Civil War\n",
      "NewYorkTimesData: NYT Crossword Answers for April 22, 2025\n",
      "NewYorkTimesData: With Latest Missteps, Veneer of Discipline in 2nd Trump Term Falls Away\n",
      "NewYorkTimesData: An Easter Bunny, Colorful Eggs and a Second Signal Group Chat\n",
      "NewYorkTimesData: Herbert J. Gans, 97, Dies; Upended Myths on Urban and Suburban Life\n",
      "NewYorkTimesData: Corrections: April 22, 2025\n",
      "NewYorkTimesData: Opinion | Trump’s Tariffs Will Pay Off, for China\n",
      "NewYorkTimesData: In Indiana, Putting Up Solar Panels Is Doing God’s Work\n",
      "NewYorkTimesData: Steve Hilton, Former Fox News Host, Is Running for California Governor\n",
      "NewYorkTimesData: Trump Shuns Europe, and Its Defense Industry Tries to Capitalize\n",
      "FinancialTimesData: Tesla sues EU over tariffs on electric vehicles from China\n",
      "FinancialTimesData: EV targets watered down to help tariff-hit UK car industry\n",
      "FinancialTimesData: Tesla’s staff at German plant demand better working conditions\n",
      "FinancialTimesData: European carmakers braced for tough 2025 despite ‘firework’ of launches \n",
      "FinancialTimesData: Europe’s centre-right calls for softening of 2035 green car target\n",
      "FinancialTimesData: Audi reviews plans to stop new petrol model launches in 2026\n",
      "FinancialTimesData: GM battery guru says carmaker can cut Tesla’s market share without government aid\n",
      "FinancialTimesData: Ask Shrimsley: do I have to ditch my Tesla now?\n",
      "FinancialTimesData: BMW bets on petrol cars as it warns of US ‘rollercoaster’ EV transition\n",
      "FinancialTimesData: Tesla warns Trump administration it is ‘exposed’ to retaliatory tariffs\n",
      "FinancialTimesData: Donald Trump pulls the plug on battery-makers’ EV dream\n",
      "FinancialTimesData: EU eases emissions rules on petrol cars to help industry\n",
      "FinancialTimesData: Trump’s return sinks EV charging companies’ shares \n",
      "FinancialTimesData: Tesla braces for delay to China licence as Trump trade tensions mount\n",
      "FinancialTimesData: Letter: Justification for car levies is ‘a nonsense’ — on wheels!\n",
      "FinancialTimesData: EU plans subsidy for electric vehicle  sales to counter China\n",
      "FinancialTimesData: Carmakers turn to new hybrid and petrol models to bolster profits \n",
      "FinancialTimesData: UK ministers plan to subsidise EV loans to drive sales \n",
      "FinancialTimesData: Wall Street bets Tesla’s 2025 sales will miss Elon Musk’s target\n",
      "NewYorkTimesData: Opinion | MAGA Pronatalism Is Doomed to Fail\n",
      "NewYorkTimesData: With Latest Missteps, Veneer of Discipline in 2nd Trump Term Falls Away\n",
      "NewYorkTimesData: Government Watchdog Drops Inquiries Into Mass Firings of Probationary Workers\n",
      "NewYorkTimesData: NYT Crossword Answers for April 22, 2025\n",
      "NewYorkTimesData: The Landscape Is Centuries Old. The Crime Is More Modern.\n",
      "NewYorkTimesData: Tuesday Briefing: Tributes for Pope Francis\n",
      "NewYorkTimesData: Trump Shuns Europe, and Its Defense Industry Tries to Capitalize\n",
      "NewYorkTimesData: Quote of the Day: Ancient City Of Palmyra Bears Scars Of Civil War\n",
      "NewYorkTimesData: Corrections: April 22, 2025\n",
      "NewYorkTimesData: Here’s more on the pope’s legacy and what comes next.\n",
      "yfinance: TSLA Income Statement\n",
      "==========================\n",
      "FinancialTimesData: Tesla warns Trump administration it is ‘exposed’ to retaliatory tariffs\n",
      "FinancialTimesData: Tech results - as it happened: Microsoft shares slide after cloud growth disappoints; Zuckerberg promises ‘intense’ year for Meta\n",
      "FinancialTimesData: $1.4bn is a lot to fall through the cracks, even for Tesla\n",
      "FinancialTimesData: Wall Street bets Tesla’s 2025 sales will miss Elon Musk’s target\n",
      "FinancialTimesData: GM battery guru says carmaker can cut Tesla’s market share without government aid\n",
      "FinancialTimesData: Foxconn buckles up for the electric vehicle great race\n",
      "FinancialTimesData: Tech results - as it happened: Microsoft shares slide after cloud growth disappoints; Zuckerberg promises ‘intense’ year for Meta\n",
      "FinancialTimesData: Tesla and BYD diverge, GlobalFoundries looks to merge\n",
      "FinancialTimesData: GM battery guru says carmaker can cut Tesla’s market share without government aid\n",
      "FinancialTimesData: Donald Trump has given BYD the edge over Tesla\n",
      "FinancialTimesData: Europe’s centre-right calls for softening of 2035 green car target\n",
      "FinancialTimesData: Carmakers turn to new hybrid and petrol models to bolster profits \n",
      "FinancialTimesData: Tesla’s staff at German plant demand better working conditions\n",
      "FinancialTimesData: Tesla braces for delay to China licence as Trump trade tensions mount\n",
      "FinancialTimesData: Tesla warns Trump administration it is ‘exposed’ to retaliatory tariffs\n",
      "FinancialTimesData: Nikola could be the shiniest wreck in the EV scrapheap\n",
      "FinancialTimesData: EU eases emissions rules on petrol cars to help industry\n",
      "FinancialTimesData: EV targets watered down to help tariff-hit UK car industry\n",
      "FinancialTimesData: Trump’s ‘reshoring’ ambitions threatened by tariff chaos \n",
      "FinancialTimesData: Global car industry faces anxious wait on US tariffs\n",
      "FinancialTimesData: Amazon, Google and Meta support tripling of nuclear capacity by 2050\n",
      "FinancialTimesData: Trump’s flawed plan to bring business to America\n",
      "FinancialTimesData: Tesla results disappoint but Musk touts coming robots and ‘cybercabs’ \n",
      "FinancialTimesData: Foxconn buckles up for the electric vehicle great race\n",
      "FinancialTimesData: Tesla suffers worst quarter since 2022 as deliveries tumble\n",
      "FinancialTimesData: Tesla and BYD diverge, GlobalFoundries looks to merge\n",
      "FinancialTimesData: Toyota considers exporting from UK to US to ease impact of Trump tariffs\n",
      "FinancialTimesData: Companies seek AI solutions to supply chain fragility\n",
      "FinancialTimesData: Tesla buys assets from insolvent German engineering group \n",
      "FinancialTimesData: Your Life Is Manufactured — the genius and perils of supply chains\n",
      "FinancialTimesData: Renault is unlikely role model for European autos\n",
      "NewYorkTimesData: Opinion | Trump’s Tariffs Will Pay Off, for China\n",
      "NewYorkTimesData: ‘Floyd Collins’ Review: Trapped in a Cave and in a Media Circus\n",
      "NewYorkTimesData: Corrections: April 22, 2025\n",
      "NewYorkTimesData: Protesters Chain Themselves to Columbia Gates, Calling for Activists’ Release\n",
      "NewYorkTimesData: NYT Crossword Answers for April 22, 2025\n",
      "NewYorkTimesData: Quote of the Day: Ancient City Of Palmyra Bears Scars Of Civil War\n",
      "NewYorkTimesData: In Rural England, Farming Equipment Has Become a Target for Organized Crime\n",
      "NewYorkTimesData: Trump Shuns Europe, and Its Defense Industry Tries to Capitalize\n",
      "NewYorkTimesData: Government Watchdog Drops Inquiries Into Mass Firings of Probationary Workers\n",
      "NewYorkTimesData: Here’s more on the pope’s legacy and what comes next.\n",
      "FinancialTimesData: GM battery guru says carmaker can cut Tesla’s market share without government aid\n",
      "FinancialTimesData: European carmakers braced for tough 2025 despite ‘firework’ of launches \n",
      "FinancialTimesData: Trump’s return sinks EV charging companies’ shares \n",
      "FinancialTimesData: Donald Trump pulls the plug on battery-makers’ EV dream\n",
      "FinancialTimesData: Europe’s centre-right calls for softening of 2035 green car target\n",
      "FinancialTimesData: GM battery guru says carmaker can cut Tesla’s market share without government aid\n",
      "FinancialTimesData: Ford to inject €4.4bn into debt-ridden German subsidiary  \n",
      "FinancialTimesData: Wall Street bets Tesla’s 2025 sales will miss Elon Musk’s target\n",
      "FinancialTimesData: Donald Trump pulls the plug on battery-makers’ EV dream\n",
      "FinancialTimesData: EU eases emissions rules on petrol cars to help industry\n",
      "yfinance: TSLA Balance Sheet\n",
      "yfinance: TSLA Income Statement\n",
      "==========================\n"
     ]
    }
   ],
   "source": [
    "for response in responses:\n",
    "    for doc in response.sources:\n",
    "        print(f\"{doc.metadata.get('datasource')}: {doc.metadata.get('title')}\")\n",
    "    print(\"==========================\")"
   ]
  },
  {
   "cell_type": "markdown",
   "id": "31564095",
   "metadata": {},
   "source": [
    "## Wrong Hypothesis"
   ]
  },
  {
   "cell_type": "code",
   "execution_count": 7,
   "id": "a7a7bab1",
   "metadata": {},
   "outputs": [],
   "source": [
    "query = \"Should I invest in NVIDIA right now?\"\n",
    "background = 'Background Report: Should I Invest in NVIDIA Right Now?\\n\\n1. Company Overview:\\nNVIDIA Corporation, incorporated in 1993 and headquartered in Santa Clara, California, operates in the Technology sector, specifically within the Semiconductor industry. It provides graphics, compute, and networking solutions globally, including in the United States, Singapore, Taiwan, China, and Hong Kong. Its two main segments include:\\n\\n- Compute & Networking: Data Center computing platforms, end-to-end networking platforms (Quantum for InfiniBand, Spectrum for Ethernet), NVIDIA DRIVE automated-driving platform, Jetson robotics, NVIDIA AI enterprise software, DGX Cloud software and services.\\n\\n- Graphics: GeForce GPUs for gaming and PCs, GeForce NOW game streaming service, Quadro/NVIDIA RTX GPUs for professional and enterprise workstation graphics, virtual GPU software for cloud-based computing, automotive infotainment systems, and Omniverse software for industrial AI and digital twin applications.\\n\\nNVIDIA sells its products to a wide range of customers, including OEMs, system integrators, distributors, cloud service providers, consumer internet companies, automotive manufacturers, and tier-1 automotive suppliers.\\n\\n2. Recent News and Major Events:\\n- Trade and regulatory issues have impacted NVIDIA\\'s business environment. For example, there have been reports dated April 2025 (news articles from April 16-23) about U.S. trade curbs initiated by the Trump administration limiting NVIDIA\\'s sales activities in China, which is a critical market for NVIDIA. (Sources: \"Nvidia blindsided by Trump’s curbs in multibillion-dollar China sales market\", \"Trump’s restrictions on Nvidia’s China sales...\").\\n\\n- NVIDIA\\'s CEO Jensen Huang met with Chinese trade officials in an attempt to navigate the complex geopolitical trade environment.\\n\\n- The semiconductor industry at large is facing tariff and trade war challenges, with some articles indicating risks to U.S. chipmakers conceding Chinese market share (\"The Chipmakers Caught in the Trade War Crossfire\", \"U.S. Chipmakers Fear They Are Ceding China’s...\").\\n\\n- Despite these geopolitical and regulatory hurdles, NVIDIA continues to be at the forefront of GPU, AI, and data center innovation.\\n\\n3. Financial Analysis (Last Three Fiscal Years Ending January 31, 2025):\\n\\nIncome Statement Highlights:\\n- Operating Revenue grew from approximately $27 billion (FY 2022) to $130 billion (FY 2025).\\n- Gross Profit increased from approx. $17.5 billion to $97.9 billion, reflecting a gross margin of ~75%.\\n- Operating Income surged from $10 billion to $81.5 billion.\\n- Net Income increased from $9.75 billion to $72.88 billion.\\n- EPS (basic) rose from $0.391 to $2.97, with diluted EPS growing from $0.385 to $2.94.\\n- Significant operating leverage is evident, with operating income margin exceeding 60%.\\n- R&D expenditure rose in absolute terms ($5.27 billion in 2022 to $12.9 billion in 2025) but declined as a share of revenue, reflecting efficient innovation.\\n\\nBalance Sheet Highlights:\\n- Total Assets increased from about $44.2 billion (2022) to $111.6 billion (2025).\\n- Cash, cash equivalents, and short-term investments grew from $21.2 billion to $43.2 billion, enhancing liquidity.\\n- Total Liabilities increased modestly from $17.6 billion to $32.3 billion.\\n- Total Equity grew from $26.6 billion to $79.3 billion.\\n- Debt-to-equity ratio decreased to approximately 0.13, indicating conservative leverage.\\n- Working Capital rose substantially to $62 billion in 2025.\\n- Net Tangible Assets stood at over $73 billion in 2025.\\n- Strong financial flexibility supports ongoing investments and resilience against market volatility.\\n\\n4. Summary and Investment Considerations:\\n- NVIDIA is a leader in semiconductor technology, especially GPUs, AI compute, and data center solutions, with diversified applications across gaming, professional visualization, automotive, and cloud markets.\\n\\n- Financially, NVIDIA has demonstrated exceptional growth with strong profitability, healthy margins, increasing income, and sound balance sheet metrics.\\n\\n- Geopolitical risks, particularly U.S. trade restrictions impacting the Chinese market, pose a potential downside risk in the near term. The company is actively engaging with Chinese officials to mitigate these issues.\\n\\n- The semiconductor sector\\'s cyclicality and regulatory environment should be considered.\\n\\n- Overall, NVIDIA’s dominant market position, strong revenue and earnings growth, operational efficiency, robust balance sheet, and innovation pipeline appear supportive of favorable medium- to long-term investment prospects.\\n\\nConclusion:\\nBased on the comprehensive background and financial data, NVIDIA appears to be a financially strong, growth-oriented leader in the semiconductor space facing some geopolitical trade risks currently. An investment decision should weigh these solid fundamentals against the macro and regulatory uncertainties. If you are a risk-tolerant investor seeking exposure to AI, high-performance computing, and growth semiconductor firms, NVIDIA stands as a compelling candidate. However, cautious monitoring of evolving trade policies and market conditions is prudent before investing \"right now.\"\\n\\n---\\n\\nSources:\\n- Company background and business summary - NVIDIA Corporation official data (2023 - 2025)\\n- Recent news (April 2025): Major trade curbs, regulatory environment, CEO engagement with China trade officials.\\n- Financial statements: Income Statement and Balance Sheet data for FY 2022-2025\\n- Financial analysis insights: Outstanding revenue growth, profitability, cash positions, leverage, and ROE.\\n\\nIf you would like detailed data tables or more granular analysis, please let me know.'\n",
    "\n",
    "expert_title = \"Semiconductor Market Analyst\"\n",
    "expert_description = \"The Semiconductor Technology Expert has specialized knowledge of GPU architecture, chip fabrication, and upcoming trends in AI accelerators, assessing how NVIDIA’s technological edge might impact its market dominance and growth.\""
   ]
  },
  {
   "cell_type": "code",
   "execution_count": 8,
   "id": "e48e13c9",
   "metadata": {},
   "outputs": [],
   "source": [
    "from kruppe.algorithm.hypothesis import HypothesisResearcher\n",
    "\n",
    "research_tree = HypothesisResearcher(\n",
    "    llm=OpenAILLM(),\n",
    "    toolkit=toolkit,\n",
    "    role=expert_title,\n",
    "    role_description=expert_description,\n",
    "    background_report = background,\n",
    "    max_degree=2,\n",
    "    index=index,\n",
    "    docstore=docstore\n",
    ")"
   ]
  },
  {
   "cell_type": "code",
   "execution_count": 9,
   "id": "1e439114",
   "metadata": {},
   "outputs": [],
   "source": [
    "from kruppe.algorithm.hypothesis import Node\n",
    "\n",
    "hypothesis = \"NVIDIA will fail in the next year due to AMD creating a brand new chip that will outperform all of NVIDIA's current chips\"\n",
    "research_direction = \"\"\n",
    "\n",
    "start = Node(\n",
    "    tree_id=0,\n",
    "    step=0,\n",
    "    messages = [\n",
    "            {\"role\": \"system\", \"content\": research_tree._react_system_prompt()},\n",
    "            {\n",
    "                \"role\": \"user\",\n",
    "                \"content\": research_tree._react_user_prompt(\n",
    "                    query=query, hypothesis=hypothesis, direction=research_direction\n",
    "                ),\n",
    "            },\n",
    "        ],\n",
    "    act_queued=False,\n",
    "    reason_results = {\n",
    "        \"thought\": \"\",\n",
    "        \"hypothesis\": hypothesis,\n",
    "        \"reasoning\": \"\",\n",
    "        \"research_direction\": \"'\"\n",
    "    }\n",
    "\n",
    ")"
   ]
  },
  {
   "cell_type": "code",
   "execution_count": 10,
   "id": "6c02ac11",
   "metadata": {},
   "outputs": [
    {
     "name": "stdout",
     "output_type": "stream",
     "text": [
      "Starting research on tree 0\n",
      "Discovering node: Node(tree_id=0, step=0, is_leaf=False, d_time=1, f_time=None)\n",
      "Discovering node: Node(tree_id=0, step=1, is_leaf=False, d_time=2, f_time=None)\n",
      "Tool call: rag_query ({\"query\":\"AMD new chip outperform NVIDIA current GPUs 2024\",\"end_date\":null,\"start_date\":null})\n",
      "Discovering node: Node(tree_id=0, step=2, is_leaf=False, d_time=3, f_time=None)\n",
      "Tool call: analyze_company_financial_stmts ({\"ticker\":\"NVDA\",\"years\":3})\n",
      "Discovering node: Node(tree_id=0, step=3, is_leaf=False, d_time=4, f_time=None)\n",
      "Tool call: rag_query ({\"query\":\"NVIDIA competitive outlook vs AMD AI GPU 2024\",\"end_date\":\"2024-12-31\",\"start_date\":\"2023-01-01\"})\n",
      "Discovering node: Node(tree_id=0, step=4, is_leaf=False, d_time=5, f_time=None)\n",
      "Tool call: news_search ({\"query\":\"NVIDIA AMD AI GPU competition 2024\",\"max_results\":10,\"sort\":\"date\"})\n",
      "Added 15 documents to index and docstore (out of 42 total documents)\n",
      "Discovering node: Node(tree_id=0, step=5, is_leaf=False, d_time=6, f_time=None)\n",
      "Tool call: rag_query ({\"query\":\"NVIDIA stock analyst ratings 2024\",\"end_date\":\"2024-12-31\",\"start_date\":\"2023-01-01\"})\n",
      "Discovering node: Node(tree_id=0, step=6, is_leaf=False, d_time=7, f_time=None)\n",
      "Tool call: news_search ({\"query\":\"NVIDIA stock analyst rating 2024\",\"max_results\":5,\"sort\":\"date\"})\n",
      "Added 11 documents to index and docstore (out of 30 total documents)\n",
      "Discovering node: Node(tree_id=0, step=7, is_leaf=True, d_time=8, f_time=None)\n",
      "Finished research on tree 0\n"
     ]
    }
   ],
   "source": [
    "reports = await research_tree.dfs_research(start, query)"
   ]
  },
  {
   "cell_type": "code",
   "execution_count": 11,
   "id": "d3c7dc81",
   "metadata": {},
   "outputs": [
    {
     "name": "stdout",
     "output_type": "stream",
     "text": [
      "Final Hypothesis: NVIDIA is unlikely to fail within the next year due to AMD releasing a superior chip. Instead, NVIDIA currently demonstrates strong financial health, substantial market leadership especially in AI and GPU technologies, and positive analyst and market sentiment supporting it as a viable and potentially rewarding investment at this time.\n",
      "\n",
      "Final Research Report:\n",
      "\n",
      "The initial working hypothesis posited that NVIDIA would fail in the next year because AMD would launch a brand new chip outperforming all of NVIDIA’s current GPUs. To explore this hypothesis fully, the research focused first on recent developments in AMD’s chip technology.\n",
      "\n",
      "No evidence was found that AMD has released or announced a 2024 chip capable of outperforming NVIDIA’s latest GPUs. Meanwhile, NVIDIA’s newest Blackwell chips continue to dominate key markets, particularly AI computing, with strong reported demand.\n",
      "\n",
      "A thorough financial analysis of NVIDIA from 2023 to 2025 revealed remarkable revenue growth—nearly quintupling—driven by high demand for GPUs and AI solutions. Margins have expanded significantly, with gross margins reaching 75% and operating margins 62%, reflecting strong pricing power and operational efficiency. Return on equity exceeded 90%, and the balance sheet showed improved liquidity and reduced leverage, indicative of financial flexibility. Increased R&D spending reinforces NVIDIA’s commitment to innovation.\n",
      "\n",
      "Market news and narratives from 2024 and early 2025 portrayed NVIDIA as a dominant, fast-growing player leading the AI revolution. Despite some challenges such as US trade restrictions and geopolitical uncertainties, NVIDIA’s core business remains robust. No credible reports suggested a catastrophic loss of market position to AMD.\n",
      "\n",
      "Though direct recent analyst stock ratings data were sparse, broader market news indicated mixed sentiment typical of a high-growth tech stock with strong fundamentals but exposure to macro risks. Retail and institutional interest continued, and noted industry investors remained bullish on NVIDIA’s prospects.\n",
      "\n",
      "In conclusion, the comprehensive evidence strongly contradicts the initial hypothesis of an imminent NVIDIA failure due to AMD competition. Instead, NVIDIA’s sustained technological leadership, financial solidity, and positive market outlook position it as a strong contender in the semiconductor industry with attractive investment potential, assuming typical market risks.\n",
      "\n",
      "Therefore, based on current data and trends, investing in NVIDIA at this time is supported by both its dominant market position and robust financial health rather than contraindicated by competitive threat from AMD.\n",
      "\n",
      "This final assessment should, of course, be updated continuously as semiconductor industry dynamics and geopolitical factors evolve.\n"
     ]
    }
   ],
   "source": [
    "print(reports.text)"
   ]
  },
  {
   "cell_type": "code",
   "execution_count": null,
   "id": "16f338eb",
   "metadata": {},
   "outputs": [],
   "source": []
  }
 ],
 "metadata": {
  "kernelspec": {
   "display_name": "experimental",
   "language": "python",
   "name": "python3"
  },
  "language_info": {
   "codemirror_mode": {
    "name": "ipython",
    "version": 3
   },
   "file_extension": ".py",
   "mimetype": "text/x-python",
   "name": "python",
   "nbconvert_exporter": "python",
   "pygments_lexer": "ipython3",
   "version": "3.13.2"
  }
 },
 "nbformat": 4,
 "nbformat_minor": 5
}
