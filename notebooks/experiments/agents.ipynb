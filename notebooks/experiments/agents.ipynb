{
 "cells": [
  {
   "cell_type": "markdown",
   "id": "69c5fd55",
   "metadata": {},
   "source": [
    "# Agents"
   ]
  },
  {
   "cell_type": "code",
   "execution_count": null,
   "id": "cd61da20",
   "metadata": {},
   "outputs": [],
   "source": [
    "import logging\n",
    "from logging import StreamHandler\n",
    "\n",
    "handler = StreamHandler()\n",
    "formatter = logging.Formatter('%(asctime)s - %(levelname)s - %(message)s')\n",
    "handler.setFormatter(formatter)"
   ]
  },
  {
   "cell_type": "markdown",
   "id": "2a733180",
   "metadata": {},
   "source": [
    "## ReAct Agent"
   ]
  },
  {
   "cell_type": "markdown",
   "id": "5cd7c4d8",
   "metadata": {},
   "source": [
    "### Simple Example Using Rlly Simple Tools"
   ]
  },
  {
   "cell_type": "code",
   "execution_count": null,
   "id": "98eb82c4",
   "metadata": {},
   "outputs": [],
   "source": [
    "from kruppe.llm import OpenAILLM\n",
    "from kruppe.algorithm.agents import ReActResearcher\n",
    "from kruppe.functional.base_tool import BaseTool\n",
    "\n"
   ]
  },
  {
   "cell_type": "code",
   "execution_count": null,
   "id": "366a92c0",
   "metadata": {},
   "outputs": [],
   "source": [
    "class ExampleReActResearcher(ReActResearcher):\n",
    "\n",
    "    def _react_system_prompt(self) -> str:\n",
    "        return \"\"\"\\\n",
    "# Role\n",
    "You answer questions through iterative cycles of reasoning and acting.\n",
    "\n",
    "# Instruction\n",
    "You answer questions by first thinking about the question, then call on tools retrieve information. Afterwards, you think about the retrieved information, and continue this process iteratively. When you have found an answer, you finish the task by generating FINISH[answer]. Unless it is the final FINISH action, always call a tool after each thought. Always respond with a thought.\n",
    "\n",
    "# Output Format\n",
    "- Always respond with an action at the end, and call on a tool.\n",
    "- Only respond with one new action at a time.\n",
    "\n",
    "# Example\n",
    "\n",
    "## Example 1\n",
    "\n",
    "### User\n",
    "What is the capital of France?\n",
    "\n",
    "### Assistant Response 1\n",
    "#### Message\n",
    "\"Thought 1: I need to find the capital of France.\n",
    "Action 1: I will call the get_capital tool to find the capital of France.\"\n",
    "\n",
    "#### Tool Calls\n",
    "get_capital(country=\"France)\n",
    "\n",
    "### Assistant Response 2\n",
    "#### Message\n",
    "\"Observation 1: Paris\n",
    "Thought 2: The tool call returned Paris. So, the capital of France is paris.\n",
    "Action 2: FINISH[Paris]\"\n",
    "\"\"\"\n",
    "\n",
    "    def _react_user_prompt(self, query: str) -> str:\n",
    "        return query"
   ]
  },
  {
   "cell_type": "code",
   "execution_count": null,
   "id": "3722bdaa",
   "metadata": {},
   "outputs": [],
   "source": [
    "from kruppe.models import Document\n",
    "\n",
    "\n",
    "class CountryHub(BaseTool):\n",
    "    def get_capital(self, country: str) -> str:\n",
    "        capitals = {\n",
    "            \"France\": \"Paris\",\n",
    "            \"Germany\": \"Berlin\",\n",
    "            \"Spain\": \"Madrid\",\n",
    "            \"China\": \"Beijing\",\n",
    "        }\n",
    "        return capitals.get(country, \"Unknown\"), [Document(text=\"Trust me\", metadata={})]\n",
    "\n",
    "    def get_continent(self, country: str) -> str:\n",
    "        continents = {\n",
    "            \"France\": \"Europe\",\n",
    "            \"Germany\": \"Europe\",\n",
    "            \"Spain\": \"Europe\",\n",
    "            \"China\": \"Asia\",\n",
    "        }\n",
    "        return continents.get(country, \"Unknown\"), [Document(text=\"Trust me\", metadata={})]\n",
    "\n",
    "    def get_capital_schema(self):\n",
    "        return {\n",
    "            \"type\": \"function\",\n",
    "            \"function\": {\n",
    "                \"name\": \"get_capital\",\n",
    "                \"description\": \"Get the capital of a country\",\n",
    "                \"parameters\": {\n",
    "                    \"type\": \"object\",\n",
    "                    \"properties\": {\n",
    "                        \"country\": {\"type\": \"string\", \"description\": \"The name of the country\"},\n",
    "                    },\n",
    "                    \"required\": [\"country\"],\n",
    "                    \"additionalProperties\": False\n",
    "                },\n",
    "                \"strict\": True\n",
    "            }\n",
    "        }\n",
    "    \n",
    "    def get_continent_schema(self):\n",
    "        return {\n",
    "            \"type\": \"function\",\n",
    "            \"function\": {\n",
    "                \"name\": \"get_continent\",\n",
    "                \"description\": \"Get the continent of a country\",\n",
    "                \"parameters\": {\n",
    "                    \"type\": \"object\",\n",
    "                    \"properties\": {\n",
    "                        \"country\": {\"type\": \"string\", \"description\": \"The name of the country\"},\n",
    "                    },\n",
    "                    \"required\": [\"country\"],\n",
    "                    \"additionalProperties\": False\n",
    "                },\n",
    "                \"strict\": True\n",
    "            }\n",
    "        }\n",
    "\n"
   ]
  },
  {
   "cell_type": "code",
   "execution_count": null,
   "id": "1c3bb84b",
   "metadata": {},
   "outputs": [],
   "source": [
    "toolhub1 = CountryHub()\n",
    "\n",
    "researcher = ExampleReActResearcher(\n",
    "    llm=OpenAILLM(model=\"gpt-4.1\"),\n",
    "    toolkit=[\n",
    "        toolhub1.get_capital,\n",
    "        toolhub1.get_continent\n",
    "    ]\n",
    ")"
   ]
  },
  {
   "cell_type": "code",
   "execution_count": null,
   "id": "46452d3d",
   "metadata": {},
   "outputs": [],
   "source": [
    "query = \"What is the capital and continent of China?\"\n",
    "researcher._messages = [\n",
    "    {\"role\": \"system\", \"content\": researcher._react_system_prompt()},\n",
    "    {\"role\": \"user\", \"content\": researcher._react_user_prompt(query)}\n",
    "]\n",
    "\n",
    "reason_messages, action = await researcher.reason(1)\n",
    "print(reason_messages)\n",
    "print(action)"
   ]
  },
  {
   "cell_type": "code",
   "execution_count": null,
   "id": "311ba1b0",
   "metadata": {},
   "outputs": [],
   "source": [
    "tool_messages, obs, sources = await researcher.act(action)\n",
    "print(tool_messages)\n",
    "print(obs)\n",
    "print(sources)"
   ]
  },
  {
   "cell_type": "code",
   "execution_count": null,
   "id": "95eb8b62",
   "metadata": {},
   "outputs": [],
   "source": [
    "await researcher.execute(query)"
   ]
  },
  {
   "cell_type": "markdown",
   "id": "6d6aa13e",
   "metadata": {},
   "source": [
    "## Toolkit"
   ]
  },
  {
   "cell_type": "code",
   "execution_count": null,
   "id": "e606bac8",
   "metadata": {},
   "outputs": [],
   "source": [
    "from kruppe.llm import OpenAILLM, OpenAIEmbeddingModel\n",
    "from kruppe.functional.docstore.mongo_store import MongoDBStore\n",
    "from kruppe.functional.rag.vectorstore.chroma import ChromaVectorStore\n",
    "from kruppe.functional.rag.index.vectorstore_index import VectorStoreIndex\n",
    "from kruppe.functional.rag.retriever.simple_retriever import SimpleRetriever\n",
    "\n",
    "reset_db=False\n",
    "\n",
    "db_name = \"kruppe_librarian\"\n",
    "collection_name = \"playground_3\"\n",
    "\n",
    "# Create doc store\n",
    "unique_indices = [['title', 'datasource']] # NOTE: this is important to avoid duplicates\n",
    "docstore = await MongoDBStore.acreate_db(\n",
    "    db_name=db_name,\n",
    "    collection_name=collection_name,\n",
    "    unique_indices=unique_indices,\n",
    "    reset_db=reset_db\n",
    ")\n",
    "\n",
    "# Create vectorstore index\n",
    "embedding_model = OpenAIEmbeddingModel()\n",
    "vectorstore = ChromaVectorStore(\n",
    "    embedding_model=embedding_model,\n",
    "    collection_name=collection_name,\n",
    "    persist_path='/Volumes/Lexar/Daniel Liu/vectorstores/kruppe_librarian'\n",
    ")\n",
    "\n",
    "if reset_db:\n",
    "    vectorstore.clear()\n",
    "    \n",
    "index = VectorStoreIndex(vectorstore=vectorstore)\n",
    "\n",
    "retriever = SimpleRetriever(index=index)"
   ]
  },
  {
   "cell_type": "code",
   "execution_count": null,
   "id": "3085b952",
   "metadata": {},
   "outputs": [],
   "source": [
    "from kruppe.functional.ragquery import RagQuery\n",
    "from kruppe.functional.llmquery import LLMQuery\n",
    "from kruppe.functional.newshub import NewsHub\n",
    "from kruppe.functional.finhub import FinHub\n",
    "\n",
    "from kruppe.data_source.news.nyt import NewYorkTimesData\n",
    "from kruppe.data_source.news.ft import FinancialTimesData\n",
    "from kruppe.data_source.news.newsapi import NewsAPIData\n",
    "\n",
    "from kruppe.data_source.finance.yfin import YFinanceData\n",
    "\n",
    "rag_query_engine = RagQuery(\n",
    "    retriever = retriever,\n",
    "    llm = OpenAILLM()\n",
    ")\n",
    "\n",
    "llm_query_engine = LLMQuery(\n",
    "    llm = OpenAILLM()\n",
    ")\n",
    "\n",
    "news_hub = NewsHub(news_sources=[\n",
    "    NewYorkTimesData(headers_path=\"../../.nyt-headers.json\"),\n",
    "    FinancialTimesData(headers_path=\"../../.ft-headers.json\"),\n",
    "    NewsAPIData()\n",
    "])\n",
    "\n",
    "fin_hub = FinHub(\n",
    "    fin_source = YFinanceData(),\n",
    "    llm = OpenAILLM()\n",
    ")\n",
    "\n",
    "toolkit = [\n",
    "    rag_query_engine.rag_query,\n",
    "    llm_query_engine.llm_query,\n",
    "    news_hub.news_search,\n",
    "    news_hub.news_recent,\n",
    "    news_hub.news_archive,\n",
    "    fin_hub.get_company_background,\n",
    "    fin_hub.get_company_income_stmt,\n",
    "    fin_hub.get_company_balance_sheet,\n",
    "    fin_hub.analyze_company_financial_stmts\n",
    "]"
   ]
  },
  {
   "cell_type": "markdown",
   "id": "9d238c55",
   "metadata": {},
   "source": [
    "## Librarian Agent (more like ReAct agent at this point)"
   ]
  },
  {
   "cell_type": "code",
   "execution_count": null,
   "id": "242fa07d",
   "metadata": {},
   "outputs": [],
   "source": [
    "from kruppe.algorithm.librarian import Librarian\n",
    "\n",
    "librarian = Librarian(\n",
    "    llm=OpenAILLM(model=\"gpt-4.1\"),\n",
    "    docstore=docstore,\n",
    "    index=index,\n",
    "    toolkit = toolkit\n",
    ")\n",
    "\n"
   ]
  },
  {
   "cell_type": "code",
   "execution_count": null,
   "id": "7167da90",
   "metadata": {},
   "outputs": [],
   "source": [
    "query = \"Who made more in revenue last year, NVIDIA or Tesla?\""
   ]
  },
  {
   "cell_type": "code",
   "execution_count": null,
   "id": "76c7e5f4",
   "metadata": {},
   "outputs": [],
   "source": [
    "librarian._messages = [\n",
    "    {\"role\": \"system\", \"content\": librarian._react_system_prompt()},\n",
    "    {\"role\": \"user\", \"content\": librarian._react_user_prompt(query)}\n",
    "]\n",
    "\n",
    "reason_messages, action = await librarian.reason(1)\n",
    "print(reason_messages)\n",
    "print(action)"
   ]
  },
  {
   "cell_type": "code",
   "execution_count": null,
   "id": "17dee6ac",
   "metadata": {},
   "outputs": [],
   "source": [
    "librarian._messages.extend(reason_messages)\n",
    "tool_call_messages, obs, sources = await librarian.act(1)\n",
    "print(tool_call_messages)\n",
    "print(obs)\n",
    "print(sources)"
   ]
  },
  {
   "cell_type": "code",
   "execution_count": null,
   "id": "cc5faa66",
   "metadata": {},
   "outputs": [],
   "source": [
    "result = await librarian.execute(query, to_print=True)\n",
    "result"
   ]
  },
  {
   "cell_type": "code",
   "execution_count": null,
   "id": "4105aa03",
   "metadata": {},
   "outputs": [],
   "source": [
    "query = \"I want a preliminary background report on Tesla, including its recent news and financials.\"\n",
    "response = await librarian.execute(query, to_print=True)"
   ]
  },
  {
   "cell_type": "code",
   "execution_count": null,
   "id": "2bf509aa",
   "metadata": {},
   "outputs": [],
   "source": [
    "print(response.text)\n",
    "print('='*80)\n",
    "for doc in response.sources:\n",
    "    print(doc.text)\n",
    "    print(doc.metadata)\n",
    "    print(\"-\" * 80)"
   ]
  },
  {
   "cell_type": "markdown",
   "id": "01d166a9",
   "metadata": {},
   "source": [
    "## Coordinator"
   ]
  },
  {
   "cell_type": "code",
   "execution_count": null,
   "id": "101e2521",
   "metadata": {},
   "outputs": [],
   "source": [
    "from kruppe.algorithm.coordinator import Coordinator\n",
    "\n",
    "coordinator_llm = OpenAILLM(model=\"gpt-4.1-mini\")\n",
    "\n",
    "coordinator = Coordinator(\n",
    "    llm=coordinator_llm,\n",
    "    librarian=librarian\n",
    ")"
   ]
  },
  {
   "cell_type": "code",
   "execution_count": null,
   "id": "6a5276a5",
   "metadata": {},
   "outputs": [],
   "source": [
    "query = \"I want a preliminary background report on Tesla, including its recent news and financials.\""
   ]
  },
  {
   "cell_type": "code",
   "execution_count": null,
   "id": "1a938fd7",
   "metadata": {},
   "outputs": [],
   "source": [
    "# skip this cell to run coordinator fully;\n",
    "# im just going to paste in the background report that has already been generated.\n",
    "\n",
    "from kruppe.models import Response\n",
    "\n",
    "bkg_report = Response(\n",
    "    text=\"\"\"preliminary background report on tesla, inc.\n",
    "\n",
    "1. company overview\n",
    "tesla, inc. (tsla) designs, develops, manufactures, leases, and sells electric vehicles, as well as energy generation and storage systems in the united states, china, and internationally. founded in 2003 and headquartered in austin, texas, tesla operates through two main segments: automotive (electric vehicles and related services) and energy generation and storage (solar energy and battery products). as of the latest data, tesla employs over 125,000 people globally.\n",
    "\n",
    "2. recent news\n",
    "a targeted search for recent news about tesla over the past 30 days did not return any relevant articles in the available news databases. this may be due to limited coverage or the scope of the datasets searched.\n",
    "\n",
    "3. financial overview & analysis (past 3 years)\n",
    "- tesla saw modest revenue growth in 2024, but profitability margins contracted amid rising operating expenses and a significant tax charge.\n",
    "- the company maintains a strong liquidity position, highlighted by increasing cash and short-term investments, and current and quick ratios above industry norms.\n",
    "- active capital investments point to ongoing capacity and innovation expansion, underpinned by consistent r&d spending.\n",
    "- although long-term debt rose, tesla's debt-to-equity ratio and earnings power suggest manageable financial risk.\n",
    "- operationally, inventory turnover improved, while receivables turnover fell, highlighting a potential area for closer management.\n",
    "- overall, tesla demonstrates balanced growth, innovation, and financial stability, though it faces short-term challenges in profitability.\n",
    "\n",
    "this report provides a concise snapshot of tesla’s business, recent developments, and financial health as of 2024.\n",
    "\"\"\",\n",
    "    sources=[]\n",
    ")\n",
    "\n",
    "coordinator._background_report = bkg_report"
   ]
  },
  {
   "cell_type": "code",
   "execution_count": null,
   "id": "5b9373f8",
   "metadata": {},
   "outputs": [],
   "source": [
    "domain_experts = await coordinator.generate_domain_experts(query)\n",
    "filtered_domain_experts = await coordinator.filter_domain_experts(query, domain_experts,\n",
    "                                                                  n_experts=5)\n",
    "\n",
    "for expert, desc in domain_experts.items():\n",
    "    print(f\"{expert}: {desc}\")\n",
    "\n",
    "print(\"=\"*80)\n",
    "\n",
    "for expert, desc in filtered_domain_experts.items():\n",
    "    print(f\"{expert}: {desc}\")"
   ]
  },
  {
   "cell_type": "code",
   "execution_count": null,
   "id": "0b2fad7e",
   "metadata": {},
   "outputs": [],
   "source": [
    "# next is just initialize research forest, which doesnt require much testing\n",
    "# going to test hypothesis researcher next."
   ]
  },
  {
   "cell_type": "markdown",
   "id": "d00b9ae2",
   "metadata": {},
   "source": [
    "## Hypothesis Researcher"
   ]
  },
  {
   "cell_type": "code",
   "execution_count": null,
   "id": "49bc3754",
   "metadata": {},
   "outputs": [],
   "source": [
    "from kruppe.algorithm.hypothesis import HypothesisResearcher\n",
    "from kruppe.llm import OpenAILLM\n",
    "\n",
    "logger = logging.getLogger(\"kruppe.llm\")\n",
    "logger.setLevel(logging.INFO)\n",
    "logger.addHandler(handler)\n",
    "\n",
    "hyp_llm = OpenAILLM(model=\"gpt-4.1-mini\")\n",
    "expert_title = \"Regulatory Affairs Specialist in Automotive and Energy Sectors\"\n",
    "expert_desc = \"The Regulatory Affairs Specialist understands the complex regulatory frameworks impacting electric vehicle manufacturers and clean energy companies worldwide. This expert assesses how changing laws and policies influence Tesla’s operations and strategy.\"\n",
    "\n",
    "hyp_researcher = HypothesisResearcher(\n",
    "    role=expert_title,\n",
    "    role_description=expert_desc,\n",
    "    max_degree=2,\n",
    "    max_depth=10,\n",
    "    llm=hyp_llm,\n",
    "    toolkit = toolkit\n",
    ")\n",
    "\n",
    "hyp_researcher"
   ]
  },
  {
   "cell_type": "code",
   "execution_count": null,
   "id": "66839e20",
   "metadata": {},
   "outputs": [],
   "source": [
    "query = \"How will the recent changes in US EV tax credits impact Tesla's sales in 2024?\"\n",
    "\n",
    "background = \"\"\"preliminary background report on tesla, inc.\n",
    "\n",
    "1. company overview\n",
    "tesla, inc. (tsla) designs, develops, manufactures, leases, and sells electric vehicles, as well as energy generation and storage systems in the united states, china, and internationally. founded in 2003 and headquartered in austin, texas, tesla operates through two main segments: automotive (electric vehicles and related services) and energy generation and storage (solar energy and battery products). as of the latest data, tesla employs over 125,000 people globally.\n",
    "\n",
    "2. recent news\n",
    "a targeted search for recent news about tesla over the past 30 days did not return any relevant articles in the available news databases. this may be due to limited coverage or the scope of the datasets searched.\n",
    "\n",
    "3. financial overview & analysis (past 3 years)\n",
    "- tesla saw modest revenue growth in 2024, but profitability margins contracted amid rising operating expenses and a significant tax charge.\n",
    "- the company maintains a strong liquidity position, highlighted by increasing cash and short-term investments, and current and quick ratios above industry norms.\n",
    "- active capital investments point to ongoing capacity and innovation expansion, underpinned by consistent r&d spending.\n",
    "- although long-term debt rose, tesla's debt-to-equity ratio and earnings power suggest manageable financial risk.\n",
    "- operationally, inventory turnover improved, while receivables turnover fell, highlighting a potential area for closer management.\n",
    "- overall, tesla demonstrates balanced growth, innovation, and financial stability, though it faces short-term challenges in profitability.\n",
    "\n",
    "this report provides a concise snapshot of tesla’s business, recent developments, and financial health as of 2024.\n",
    "\"\"\""
   ]
  },
  {
   "cell_type": "code",
   "execution_count": null,
   "id": "35c6e4a9",
   "metadata": {},
   "outputs": [],
   "source": [
    "root_node = await hyp_researcher.init_starting_node(query, background)\n"
   ]
  },
  {
   "cell_type": "code",
   "execution_count": null,
   "id": "22b5bd98",
   "metadata": {},
   "outputs": [],
   "source": [
    "root_node.__dict__"
   ]
  },
  {
   "cell_type": "code",
   "execution_count": null,
   "id": "903c1404",
   "metadata": {},
   "outputs": [],
   "source": [
    "response = await hyp_researcher.dfs_research(root_node)"
   ]
  },
  {
   "cell_type": "code",
   "execution_count": null,
   "id": "3751aa25",
   "metadata": {},
   "outputs": [],
   "source": []
  }
 ],
 "metadata": {
  "kernelspec": {
   "display_name": "experimental",
   "language": "python",
   "name": "python3"
  },
  "language_info": {
   "codemirror_mode": {
    "name": "ipython",
    "version": 3
   },
   "file_extension": ".py",
   "mimetype": "text/x-python",
   "name": "python",
   "nbconvert_exporter": "python",
   "pygments_lexer": "ipython3",
   "version": "3.13.2"
  }
 },
 "nbformat": 4,
 "nbformat_minor": 5
}
