{
 "cells": [
  {
   "cell_type": "code",
   "execution_count": 1,
   "metadata": {},
   "outputs": [],
   "source": [
    "import os\n",
    "from lexisnexisapi import webservices\n",
    "from lexisnexisapi import credentials"
   ]
  },
  {
   "cell_type": "code",
   "execution_count": 22,
   "metadata": {},
   "outputs": [
    {
     "name": "stdout",
     "output_type": "stream",
     "text": [
      "Credentials located at /Users/danielliu/.lnapi/.cred\n"
     ]
    },
    {
     "data": {
      "text/plain": [
       "{'WSAPI_CLIENT_ID': 'F8PT8FS9PXXRBR78RMZFJ25J8T526P',\n",
       " 'WSAPI_SECRET': 'FPMJP84Q772GWHZ727M2STGPQ84MJ69MNPKS983H'}"
      ]
     },
     "execution_count": 22,
     "metadata": {},
     "output_type": "execute_result"
    }
   ],
   "source": [
    "credentials.cred_file_path()\n",
    "\n",
    "print(f\"Credentials located at {credentials.cred_file_path()}\")\n",
    "credentials.get_Credentials()\n"
   ]
  },
  {
   "cell_type": "code",
   "execution_count": 23,
   "metadata": {},
   "outputs": [],
   "source": [
    "token = webservices.token()\n"
   ]
  },
  {
   "cell_type": "markdown",
   "metadata": {},
   "source": [
    "*Refer to the LexisNexis Developer Portal: [News API](https://dev.lexisnexis.com/dev-portal/documentation/News#/News%20API/get_News) for guidance on using parameters \\$search, \\$expand, \\$top, and \\$orderby.*"
   ]
  },
  {
   "cell_type": "code",
   "execution_count": 26,
   "metadata": {},
   "outputs": [],
   "source": [
    "#Replace Substitute 'Olympics 2024' with your desired search term(s)\n",
    "search_string = '\"2024 Olympics\"'    #Use quotation marks \"search string\" if the search string is a phrase, e.g.,\"Olympics 2024\"\n",
    "\n",
    "parameters ={\n",
    "            '$search':search_string,\n",
    "            '$expand':'Document', #A navigation property name which will be included with the current result set.\n",
    "            '$top':'3',  #Sets the maximum number of results to receive for this request.\n",
    "            #Filter with two conditions\n",
    "            '$filter': \"Language eq LexisNexis.ServicesApi.Language'English' and year(Date) eq 2023\",\n",
    "            '$select': 'WordLength,People,Subject',\n",
    "            # '$orderby': 'Date asc'\n",
    "           }"
   ]
  },
  {
   "cell_type": "code",
   "execution_count": 44,
   "metadata": {},
   "outputs": [
    {
     "name": "stdout",
     "output_type": "stream",
     "text": [
      "Error occurred in function: 'call_api'\n",
      "error: 429 Client Error:  for url: https://services-api.lexisnexis.com/v1/News?%24search=%222024+Olympics%22&%24expand=Document&%24top=3&%24filter=Language+eq+LexisNexis.ServicesApi.Language%27English%27+and+year%28Date%29+eq+2023&%24select=WordLength%2CPeople%2CSubject\n",
      "args:()\n",
      "kwargs:{'access_token': 'ODA4NzcwMTktNGEwZS00MjhjLWIyZGMtNTI0ZWIxNDgyNzkw', 'endpoint': 'News', 'params': {'$search': '\"2024 Olympics\"', '$expand': 'Document', '$top': '3', '$filter': \"Language eq LexisNexis.ServicesApi.Language'English' and year(Date) eq 2023\", '$select': 'WordLength,People,Subject'}}\n",
      "429\n"
     ]
    }
   ],
   "source": [
    "from requests import HTTPError\n",
    "try:\n",
    "    data = webservices.call_api(access_token=token,endpoint='News',params=parameters)  #Set endpoint='News'\n",
    "    data # response in json\n",
    "except HTTPError as e:\n",
    "    print(e.response.status_code)\n"
   ]
  },
  {
   "cell_type": "code",
   "execution_count": null,
   "metadata": {},
   "outputs": [],
   "source": []
  }
 ],
 "metadata": {
  "kernelspec": {
   "display_name": "env",
   "language": "python",
   "name": "python3"
  },
  "language_info": {
   "codemirror_mode": {
    "name": "ipython",
    "version": 3
   },
   "file_extension": ".py",
   "mimetype": "text/x-python",
   "name": "python",
   "nbconvert_exporter": "python",
   "pygments_lexer": "ipython3",
   "version": "3.11.4"
  }
 },
 "nbformat": 4,
 "nbformat_minor": 2
}
