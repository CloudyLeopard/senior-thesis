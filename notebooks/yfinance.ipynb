{
 "cells": [
  {
   "cell_type": "markdown",
   "metadata": {},
   "source": [
    "https://pypi.org/project/yfinance/"
   ]
  },
  {
   "cell_type": "code",
   "execution_count": 1,
   "metadata": {},
   "outputs": [
    {
     "data": {
      "text/plain": [
       "yfinance.Ticker object <TSLA>"
      ]
     },
     "execution_count": 1,
     "metadata": {},
     "output_type": "execute_result"
    }
   ],
   "source": [
    "import yfinance as yf\n",
    "\n",
    "msft = yf.Ticker(\"TSLA\")\n",
    "msft"
   ]
  },
  {
   "cell_type": "code",
   "execution_count": 2,
   "metadata": {},
   "outputs": [
    {
     "data": {
      "text/plain": [
       "[{'uuid': '29c92e28-b5ab-392e-8f22-ae525864f9e8',\n",
       "  'title': 'Tesla Stock Soars On Trump Victory; Rival BYD Eyes BEV Crown',\n",
       "  'publisher': \"Investor's Business Daily\",\n",
       "  'link': 'https://finance.yahoo.com/m/29c92e28-b5ab-392e-8f22-ae525864f9e8/tesla-stock-soars-on-trump.html',\n",
       "  'providerPublishTime': 1732052578,\n",
       "  'type': 'STORY',\n",
       "  'thumbnail': {'resolutions': [{'url': 'https://s.yimg.com/uu/api/res/1.2/TRRFX_Ri7mYoBvu40jaqTg--~B/aD01OTk7dz0xMDYwO2FwcGlkPXl0YWNoeW9u/https://media.zenfs.com/en/ibd.com/ff7ec626a5ec66fe2a88ea8b53174623',\n",
       "     'width': 1060,\n",
       "     'height': 599,\n",
       "     'tag': 'original'},\n",
       "    {'url': 'https://s.yimg.com/uu/api/res/1.2/5S8JSNv69O8jzZVs1gKRwQ--~B/Zmk9ZmlsbDtoPTE0MDtweW9mZj0wO3c9MTQwO2FwcGlkPXl0YWNoeW9u/https://media.zenfs.com/en/ibd.com/ff7ec626a5ec66fe2a88ea8b53174623',\n",
       "     'width': 140,\n",
       "     'height': 140,\n",
       "     'tag': '140x140'}]},\n",
       "  'relatedTickers': ['TSLA', 'BYDDY']},\n",
       " {'uuid': '20b143f6-b886-385a-956b-5d8687c146c0',\n",
       "  'title': 'Tesla Stock Climbs Again. Is Kim Kardashian Helping?',\n",
       "  'publisher': 'Barrons.com',\n",
       "  'link': 'https://finance.yahoo.com/m/20b143f6-b886-385a-956b-5d8687c146c0/tesla-stock-climbs-again.-is.html',\n",
       "  'providerPublishTime': 1732050780,\n",
       "  'type': 'STORY',\n",
       "  'thumbnail': {'resolutions': [{'url': 'https://s.yimg.com/uu/api/res/1.2/bJ0l3cSgXSEXFLtIM_GCwA--~B/aD02NDA7dz0xMjgwO2FwcGlkPXl0YWNoeW9u/https://media.zenfs.com/en/Barrons.com/adda3c2c7c2812a735a154507ef5f582',\n",
       "     'width': 1280,\n",
       "     'height': 640,\n",
       "     'tag': 'original'},\n",
       "    {'url': 'https://s.yimg.com/uu/api/res/1.2/9QXHNqfYizo65gEmUm9LIA--~B/Zmk9ZmlsbDtoPTE0MDtweW9mZj0wO3c9MTQwO2FwcGlkPXl0YWNoeW9u/https://media.zenfs.com/en/Barrons.com/adda3c2c7c2812a735a154507ef5f582',\n",
       "     'width': 140,\n",
       "     'height': 140,\n",
       "     'tag': '140x140'}]},\n",
       "  'relatedTickers': ['TSLA']},\n",
       " {'uuid': 'f9a9db72-33a3-36c2-b591-fa0a0ef47385',\n",
       "  'title': 'Trump Administration to Fast-Track Self-Driving Car Regulations',\n",
       "  'publisher': 'Oilprice.com',\n",
       "  'link': 'https://finance.yahoo.com/news/trump-administration-fast-track-self-210000037.html',\n",
       "  'providerPublishTime': 1732050000,\n",
       "  'type': 'STORY',\n",
       "  'thumbnail': {'resolutions': [{'url': 'https://s.yimg.com/uu/api/res/1.2/XizXbcjToYeBnOBd1t57NA--~B/aD00OTI7dz05MDA7YXBwaWQ9eXRhY2h5b24-/https://media.zenfs.com/en/oilprice.com/e0c71f6fdf81fd30a4ee89af1dac8a3e',\n",
       "     'width': 900,\n",
       "     'height': 492,\n",
       "     'tag': 'original'},\n",
       "    {'url': 'https://s.yimg.com/uu/api/res/1.2/TTBtUotN53HqquruPqsCoQ--~B/Zmk9ZmlsbDtoPTE0MDtweW9mZj0wO3c9MTQwO2FwcGlkPXl0YWNoeW9u/https://media.zenfs.com/en/oilprice.com/e0c71f6fdf81fd30a4ee89af1dac8a3e',\n",
       "     'width': 140,\n",
       "     'height': 140,\n",
       "     'tag': '140x140'}]},\n",
       "  'relatedTickers': ['TSLA']},\n",
       " {'uuid': 'f565c25c-638b-3314-81ed-eecf68d7380b',\n",
       "  'title': \"Kim Kardashian experiences Tesla's robot, cybercab firsthand\",\n",
       "  'publisher': 'Fox Business',\n",
       "  'link': 'https://finance.yahoo.com/m/f565c25c-638b-3314-81ed-eecf68d7380b/kim-kardashian-experiences.html',\n",
       "  'providerPublishTime': 1732049720,\n",
       "  'type': 'STORY',\n",
       "  'thumbnail': {'resolutions': [{'url': 'https://s.yimg.com/uu/api/res/1.2/NH58HOLrW5FQSMeHu6B53g--~B/aD03MjA7dz0xMjgwO2FwcGlkPXl0YWNoeW9u/https://media.zenfs.com/en/fox_business_text_367/4bc44973080b5ef2726abcd18b368fd4',\n",
       "     'width': 1280,\n",
       "     'height': 720,\n",
       "     'tag': 'original'},\n",
       "    {'url': 'https://s.yimg.com/uu/api/res/1.2/DGzXg6ZHW8TvsWfGFKRZQw--~B/Zmk9ZmlsbDtoPTE0MDtweW9mZj0wO3c9MTQwO2FwcGlkPXl0YWNoeW9u/https://media.zenfs.com/en/fox_business_text_367/4bc44973080b5ef2726abcd18b368fd4',\n",
       "     'width': 140,\n",
       "     'height': 140,\n",
       "     'tag': '140x140'}]},\n",
       "  'relatedTickers': ['TSLA']},\n",
       " {'uuid': '653caacb-8356-3ecb-8817-cab656d36f0e',\n",
       "  'title': 'Musk-Led Panel Considers Mobile Tax-Filing App Under Trump Administration',\n",
       "  'publisher': 'GuruFocus.com',\n",
       "  'link': 'https://finance.yahoo.com/news/musk-led-panel-considers-mobile-201544350.html',\n",
       "  'providerPublishTime': 1732047344,\n",
       "  'type': 'STORY',\n",
       "  'thumbnail': {'resolutions': [{'url': 'https://s.yimg.com/uu/api/res/1.2/mLJ6img0BTIOSFVkivCTTA--~B/aD0yODI7dz00MjY7YXBwaWQ9eXRhY2h5b24-/https://media.zenfs.com/en/us.finance.gurufocus/883cc95aa6e3f76ef6848e7953fc65d4',\n",
       "     'width': 426,\n",
       "     'height': 282,\n",
       "     'tag': 'original'},\n",
       "    {'url': 'https://s.yimg.com/uu/api/res/1.2/P4fowZsfA2VNRW1f.XILKg--~B/Zmk9ZmlsbDtoPTE0MDtweW9mZj0wO3c9MTQwO2FwcGlkPXl0YWNoeW9u/https://media.zenfs.com/en/us.finance.gurufocus/883cc95aa6e3f76ef6848e7953fc65d4',\n",
       "     'width': 140,\n",
       "     'height': 140,\n",
       "     'tag': '140x140'}]},\n",
       "  'relatedTickers': ['TSLA']},\n",
       " {'uuid': '85ac63d3-14bd-31e6-99fd-5b9ca5a56df3',\n",
       "  'title': 'EVgo Expands Charging Network in Midwest with $1.05 Billion DOE Loan Guarantee',\n",
       "  'publisher': 'GuruFocus.com',\n",
       "  'link': 'https://finance.yahoo.com/news/evgo-expands-charging-network-midwest-194220481.html',\n",
       "  'providerPublishTime': 1732045340,\n",
       "  'type': 'STORY',\n",
       "  'thumbnail': {'resolutions': [{'url': 'https://s.yimg.com/uu/api/res/1.2/zhbtRq_UNryUMPWq4I3onA--~B/aD0zNzQ0O3c9NTYxNjthcHBpZD15dGFjaHlvbg--/https://media.zenfs.com/en/us.finance.gurufocus/d00165a45b4a0b827507c779e7f734bd',\n",
       "     'width': 5616,\n",
       "     'height': 3744,\n",
       "     'tag': 'original'},\n",
       "    {'url': 'https://s.yimg.com/uu/api/res/1.2/NNH3xZZWKYxWPvOGteakfA--~B/Zmk9ZmlsbDtoPTE0MDtweW9mZj0wO3c9MTQwO2FwcGlkPXl0YWNoeW9u/https://media.zenfs.com/en/us.finance.gurufocus/d00165a45b4a0b827507c779e7f734bd',\n",
       "     'width': 140,\n",
       "     'height': 140,\n",
       "     'tag': '140x140'}]},\n",
       "  'relatedTickers': ['TSLA']},\n",
       " {'uuid': 'b1aa8e9b-c323-3e52-8969-28b69b60db66',\n",
       "  'title': 'Investors Bet on a Surge in Tesla Shares',\n",
       "  'publisher': 'The Wall Street Journal',\n",
       "  'link': 'https://finance.yahoo.com/m/b1aa8e9b-c323-3e52-8969-28b69b60db66/investors-bet-on-a-surge-in.html',\n",
       "  'providerPublishTime': 1732044871,\n",
       "  'type': 'STORY',\n",
       "  'thumbnail': {'resolutions': [{'url': 'https://s.yimg.com/uu/api/res/1.2/Fwf5HL4GsEGPbDfR3MJBPg--~B/aD02MzA7dz0xMjAwO2FwcGlkPXl0YWNoeW9u/https://media.zenfs.com/en/wsj.com/7b2c285183be07ca3c4e8242b25a59a8',\n",
       "     'width': 1200,\n",
       "     'height': 630,\n",
       "     'tag': 'original'},\n",
       "    {'url': 'https://s.yimg.com/uu/api/res/1.2/zIJaagDuCJitt1Cvcwyc7A--~B/Zmk9ZmlsbDtoPTE0MDtweW9mZj0wO3c9MTQwO2FwcGlkPXl0YWNoeW9u/https://media.zenfs.com/en/wsj.com/7b2c285183be07ca3c4e8242b25a59a8',\n",
       "     'width': 140,\n",
       "     'height': 140,\n",
       "     'tag': '140x140'}]},\n",
       "  'relatedTickers': ['TSLA']},\n",
       " {'uuid': '881a2bd3-ccdc-3b68-8008-5abc923f157d',\n",
       "  'title': 'Tesla Is Selling a Toy Bot. Musk’s Life-Size Version Is a Long Way Off.',\n",
       "  'publisher': 'Barrons.com',\n",
       "  'link': 'https://finance.yahoo.com/m/881a2bd3-ccdc-3b68-8008-5abc923f157d/tesla-is-selling-a-toy-bot..html',\n",
       "  'providerPublishTime': 1732040640,\n",
       "  'type': 'STORY',\n",
       "  'thumbnail': {'resolutions': [{'url': 'https://s.yimg.com/uu/api/res/1.2/GEtGKocjX7N3Te3a0seHeQ--~B/aD02NDA7dz0xMjgwO2FwcGlkPXl0YWNoeW9u/https://media.zenfs.com/en/Barrons.com/29ef33b565be5671fbb1dfe0c0ca77c0',\n",
       "     'width': 1280,\n",
       "     'height': 640,\n",
       "     'tag': 'original'},\n",
       "    {'url': 'https://s.yimg.com/uu/api/res/1.2/Mz1uMDzU2JTfpDN37NyZ7g--~B/Zmk9ZmlsbDtoPTE0MDtweW9mZj0wO3c9MTQwO2FwcGlkPXl0YWNoeW9u/https://media.zenfs.com/en/Barrons.com/29ef33b565be5671fbb1dfe0c0ca77c0',\n",
       "     'width': 140,\n",
       "     'height': 140,\n",
       "     'tag': '140x140'}]},\n",
       "  'relatedTickers': ['TSLA']}]"
      ]
     },
     "execution_count": 2,
     "metadata": {},
     "output_type": "execute_result"
    }
   ],
   "source": [
    "msft.news"
   ]
  },
  {
   "cell_type": "code",
   "execution_count": null,
   "metadata": {},
   "outputs": [],
   "source": []
  }
 ],
 "metadata": {
  "kernelspec": {
   "display_name": "jupyter",
   "language": "python",
   "name": "python3"
  },
  "language_info": {
   "codemirror_mode": {
    "name": "ipython",
    "version": 3
   },
   "file_extension": ".py",
   "mimetype": "text/x-python",
   "name": "python",
   "nbconvert_exporter": "python",
   "pygments_lexer": "ipython3",
   "version": "3.13.0"
  }
 },
 "nbformat": 4,
 "nbformat_minor": 2
}
