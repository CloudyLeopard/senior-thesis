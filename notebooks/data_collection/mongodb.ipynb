{
 "cells": [
  {
   "cell_type": "markdown",
   "metadata": {},
   "source": [
    "Notebook to download `documents` from MongoDB collection and put into text file. Does not store metadata.\n",
    "The goal is to put it all into NYU's RAG, which only takes text files (i.e. no metadata)"
   ]
  },
  {
   "cell_type": "code",
   "execution_count": 8,
   "metadata": {},
   "outputs": [],
   "source": [
    "from kruppe.document_store import AsyncMongoDBStore\n",
    "\n",
    "store = await AsyncMongoDBStore.create(db_name=\"FinancialNews\", collection_name=\"news_feed_2025-02-27\")"
   ]
  },
  {
   "cell_type": "code",
   "execution_count": 9,
   "metadata": {},
   "outputs": [
    {
     "name": "stdout",
     "output_type": "stream",
     "text": [
      "2118\n"
     ]
    }
   ],
   "source": [
    "documents = await store.get_all_documents()\n",
    "print(len(documents))"
   ]
  },
  {
   "cell_type": "code",
   "execution_count": 11,
   "metadata": {},
   "outputs": [
    {
     "name": "stdout",
     "output_type": "stream",
     "text": [
      "Text: Advertisement\n",
      "Some in a special unit of 50 lawyers and staff members that had been assigned to regulate cryptocurrency are being reassigned in the agency.\n",
      "By Matthew Goldstein Eric Lipton and David Yaffe-Bellany\n",
      "The Securities and Exchange Commission is moving to scale back a special unit of more than 50 lawyers and staff members that had been dedicated to bringing crypto enforcement actions, five people with knowledge of the matter said.\n",
      "The move is one of the first concrete steps by President Trump and his administration to pull back on the regulation of cryptocurrencies and other digital assets. One of Mr. Trump’s first executive orders was aimed at promoting the growth of crypto and “eliminating regulatory overreach” on digital assets.\n",
      "Some of the lawyers in the crypto unit are being assigned to other departments in the S.E.C., the people said. One of the unit’s top lawyers was moved out of the enforcement division. Some of the people briefed on the shake-up described that move as an unfair demotion.\n",
      "A spokesperson for the S.E.C. declined to comment.\n",
      "Mr. Trump, once a cryptocurrency critic, embraced digital assets during the 2024 presidential campaign and welcomed the support of the crypto community, which had come to see the S.E.C.’s previous chair, Gary Gensler, as its No. 1 nemesis.\n",
      "The acting chair of the commission, Mark T. Uyeda, is a Republican who has tended to be supportive of the crypto industry. He has made a slew of appointments while shaking up other top jobs at the S.E.C., which employs more than 1,000 lawyers.\n",
      "One of the first things Mr. Uyeda did was set up a team to review the S.E.C.’s approach to dealing with digital assets. The task force is led by Hester Peirce, an S.E.C. commissioner and an outspoken crypto supporter.\n",
      "In a position paper published Tuesday on the S.E.C. website, Ms. Peirce took issue with the commission’s past approach to regulating crypto and likened it to a car careening down the road.\n",
      "“The commission’s handling of crypto has been marked by legal imprecision and commercial impracticality,” Ms. Peirce wrote. She said the goal of the task force would be to come up with a regulatory framework that permits people “to experiment and build interesting things” without allowing crypto to become “a haven for fraudsters.”\n",
      "It is unclear what effect the downsizing of the crypto unit will have on pending enforcement actions. One of the more prominent cases was filed in 2023 against Coinbase, charging the crypto platform with violating federal securities laws by operating as an unregistered exchange.\n",
      "The Coinbase case is a test of Mr. Gensler’s position that most digital assets are securities contracts and subject to S.E.C. oversight, a position that Coinbase and the crypto industry adamantly reject.\n",
      "Corey Frayer, who was senior adviser to Mr. Gensler on crypto issues and recently left the agency, said on Tuesday, “What the new S.E.C. leadership proposes to do for crypto is remove the speed limits and guardrails that have made our capital markets the strongest in the world.”\n",
      "The S.E.C.’s crypto enforcement unit was created in 2017 during the first Trump administration, but it greatly expanded during Mr. Gensler’s tenure. In May 2022, the agency announced that it was nearly doubling the team’s size to 50 dedicated positions. The unit had brought more than 80 enforcement actions “related to fraudulent and unregistered crypto asset offerings and platforms,” the S.E.C. said at the time. A recent tally shows it brought more than 100 crypto-related actions during the Biden administration.\n",
      "Mr. Trump has nominated Paul Atkins, a lawyer with close ties to the crypto industry, to succeed Mr. Gensler. Mr. Atkins, who was an S.E.C. commissioner under President George W. Bush, long has favored a lighter approach to regulation and enforcement. The Senate Banking Committee has yet to schedule a date for his confirmation hearing.\n",
      "Since Mr. Trump’s victory, crypto companies have mobilized to try to punish S.E.C. officials who brought legal cases against them. Brian Armstrong, the chief executive of Coinbase, said on social media that his company would not work with law firms that hired senior S.E.C. officials who had been involved in the crypto crackdown.\n",
      "Mr. Gensler, who left the S.E.C. the day Mr. Trump was inaugurated, joined the faculty of the Massachusetts Institute of Technology, where he had taught before President Joseph R. Biden Jr. tapped him.\n",
      "After the announcement, Tyler Winklevoss, one of the founders of the Gemini crypto exchange, said his company would not hire any M.I.T. graduates, even as interns.\n",
      "Alain Delaquérière contributed research.\n",
      "Matthew Goldstein covers Wall Street and white-collar crime and housing issues. More about Matthew Goldstein\n",
      "Eric Lipton is an investigative reporter, who digs into a broad range of topics from Pentagon spending to toxic chemicals. More about Eric Lipton\n",
      "David Yaffe-Bellany writes about the crypto industry from San Francisco. He can be reached at davidyb@nytimes.com. More about David Yaffe-Bellany\n",
      "Advertisement\n",
      "Metadata: {\n",
      "  \"query\": \"\",\n",
      "  \"datasource\": \"NewYorkTimesData\",\n",
      "  \"url\": \"https://www.nytimes.com/2025/02/04/business/sec-crypto-task-force.html\",\n",
      "  \"title\": \"S.E.C. Moves to Scale Back Its Crypto Enforcement Efforts\",\n",
      "  \"description\": \"Some in a special unit of 50 lawyers and staff members that had been assigned to regulate cryptocurrency are being reassigned in the agency.\",\n",
      "  \"publication_time\": \"2025-02-04T17:42:42-05:00\",\n",
      "  \"section\": \"Business\",\n",
      "  \"document_type\": \"Article\"\n",
      "}\n"
     ]
    }
   ],
   "source": [
    "print(documents[0])"
   ]
  },
  {
   "cell_type": "code",
   "execution_count": 22,
   "metadata": {},
   "outputs": [
    {
     "name": "stderr",
     "output_type": "stream",
     "text": [
      "100%|██████████| 2118/2118 [00:07<00:00, 277.09it/s]\n"
     ]
    }
   ],
   "source": [
    "from tqdm import tqdm\n",
    "path = '/Volumes/Lexar/Daniel Liu/News/2025-february'\n",
    "\n",
    "bad_scrape_count = 0\n",
    "for doc in tqdm(documents):\n",
    "    \n",
    "    # print(doc.metadata['datasource'])\n",
    "    # print(doc.metadata['title'])\n",
    "    source = \"ft\" if doc.metadata['datasource'][0] == 'F' else \"nyt\"\n",
    "    # title = doc.metadata['title']\n",
    "    # date = doc.metadata['publication_time'].split(\"T\")[0]\n",
    "    uuid = doc.uuid\n",
    "\n",
    "    if doc.text.startswith(\"FT newspaper delivered Monday-Saturday\"):\n",
    "        bad_scrape_count += 1\n",
    "        continue\n",
    "\n",
    "    \n",
    "    with open(f\"{path}/{source}-{uuid}.txt\", \"w\") as f:\n",
    "        f.write(doc.text)"
   ]
  },
  {
   "cell_type": "code",
   "execution_count": 23,
   "metadata": {},
   "outputs": [
    {
     "name": "stdout",
     "output_type": "stream",
     "text": [
      "3\n"
     ]
    }
   ],
   "source": [
    "print(bad_scrape_count)"
   ]
  }
 ],
 "metadata": {
  "kernelspec": {
   "display_name": "experimental",
   "language": "python",
   "name": "python3"
  },
  "language_info": {
   "codemirror_mode": {
    "name": "ipython",
    "version": 3
   },
   "file_extension": ".py",
   "mimetype": "text/x-python",
   "name": "python",
   "nbconvert_exporter": "python",
   "pygments_lexer": "ipython3",
   "version": "3.10.16"
  }
 },
 "nbformat": 4,
 "nbformat_minor": 2
}
