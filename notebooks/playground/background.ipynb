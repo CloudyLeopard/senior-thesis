{
 "cells": [
  {
   "cell_type": "markdown",
   "metadata": {},
   "source": [
    "# Background Research\n",
    "\n",
    "Given a central research question, generate a report that puts the research question into the proper context. Its split into three general steps:\n",
    "1. Initialize `BackgroundResearcher` and take in research query\n",
    "2. Create information requests\n",
    "3. Answer the information requests with the help of the `Librarian`\n",
    "4. Compile background research report"
   ]
  },
  {
   "cell_type": "markdown",
   "metadata": {},
   "source": [
    "## Initialize Background Researcher\n",
    "\n",
    "A background researcher needs a couple of things:\n",
    "- `research_question`: the central research question that is being answered\n",
    "- `librarian` of the type `Librarian`\n",
    "\n",
    "Doesn't seem like a lot, but first take a look at how many parameters `librarian` needs before saying anything.\n",
    "\n",
    "Anyway here's some optional parameters:\n",
    "- `system_message`: currently set to a default one, but you can customize it\n",
    "- `history`: a list of tuples of type (str, Response). the string part being the information requests made, and the Response being the response to the information requests, and contains an attribute`sources` which are the retrieved contexts from the librarian that's used to answer the information request\n"
   ]
  },
  {
   "cell_type": "code",
   "execution_count": 1,
   "metadata": {},
   "outputs": [],
   "source": [
    "from kruppe.algorithm.background import BackgroundResearcher\n",
    "\n",
    "# the rest are all for the librarian lmao\n",
    "from kruppe.algorithm.librarian import Librarian\n",
    "from kruppe.data_source.news.nyt import NewYorkTimesData\n",
    "from kruppe.functional.rag.index.vectorstore_index import VectorStoreIndex\n",
    "from kruppe.functional.rag.vectorstore.chroma import ChromaVectorStore\n",
    "from kruppe.functional.docstore.mongo_store import MongoDBStore\n",
    "from kruppe.llm import OpenAILLM, OpenAIEmbeddingModel\n",
    "\n",
    "reset_db = True\n",
    "collection_name=\"playground_2\"\n",
    "\n",
    "llm = OpenAILLM()\n",
    "embedding_model = OpenAIEmbeddingModel()\n",
    "\n",
    "# Create doc store\n",
    "unique_indices = [['title', 'datasource']] # NOTE: this is important to avoid duplicates\n",
    "docstore = await MongoDBStore.acreate_db(\n",
    "    db_name=\"kruppe_librarian\",\n",
    "    collection_name=collection_name,\n",
    "    unique_indices=unique_indices,\n",
    "    reset_db=reset_db\n",
    ")\n",
    "\n",
    "# Create vectorstore index\n",
    "vectorstore = ChromaVectorStore(\n",
    "    embedding_model=embedding_model,\n",
    "    collection_name=collection_name,\n",
    "    persist_path='/Volumes/Lexar/Daniel Liu/vectorstores/kruppe_librarian'\n",
    ")\n",
    "if reset_db:\n",
    "    vectorstore.clear()\n",
    "    \n",
    "index = VectorStoreIndex(llm=llm, vectorstore=vectorstore)\n",
    "\n",
    "# Define news data source\n",
    "news_source = NewYorkTimesData(headers_path = \"/Users/danielliu/Workspace/fin-rag/.nyt-headers.json\")\n",
    "\n",
    "# Define librarian\n",
    "librarian_llm = OpenAILLM(model=\"gpt-4o-mini\")\n",
    "librarian = Librarian(\n",
    "    llm=librarian_llm,\n",
    "    docstore=docstore,\n",
    "    index=index,\n",
    "    news_source=news_source\n",
    ")"
   ]
  },
  {
   "cell_type": "code",
   "execution_count": 2,
   "metadata": {},
   "outputs": [],
   "source": [
    "research_question = \"What are the key developments and financial projections for Amazon's advertising business, and how is it positioning itself in the digital ad market?\"\n",
    "\n",
    "bkg_researcher_llm = OpenAILLM(model=\"gpt-4o-mini\")\n",
    "bkg_researcher = BackgroundResearcher(\n",
    "    llm=bkg_researcher_llm,\n",
    "    librarian=librarian,\n",
    "    research_question=research_question,\n",
    ")"
   ]
  },
  {
   "cell_type": "markdown",
   "metadata": {},
   "source": [
    "## Testing Individual Methods"
   ]
  },
  {
   "cell_type": "markdown",
   "metadata": {},
   "source": [
    "### `create_info_request`\n",
    "\n",
    "Given a research question, determine the information that needs to be answered to create a comprehensive background\n",
    "\n",
    "**TODO** in `librarian`: turn these `info_request`'s into `info_query` for RAG retrieval"
   ]
  },
  {
   "cell_type": "code",
   "execution_count": 6,
   "metadata": {},
   "outputs": [
    {
     "data": {
      "text/plain": [
       "[\"To answer the query comprehensively, I want to gather information about Amazon's recent earnings reports, particularly focusing on the advertising segment. This information can provide insights into revenue growth, key performance indicators, and overall contributions of the advertising sector to Amazon's total revenue, helping to paint a clear picture of current financial performance.\",\n",
       " \"I am interested in understanding the competitive landscape of the digital advertising market, specifically Amazon's position relative to its main competitors like Google and Facebook. This includes market share, unique selling propositions (USPs), and emerging trends within the industry. This context is crucial to understand how Amazon differentiates itself and adapts its strategies in an increasingly crowded market.\",\n",
       " \"I want to look into Amazon's strategic initiatives related to its advertising business, such as partnerships, technology investments, and platform enhancements. This information will help clarify how Amazon is planning to innovate and what resources it is allocating to bolster its presence in the digital ad space, thereby allowing for a better understanding of its long-term strategy.\",\n",
       " 'Additionally, I seek insights into consumer behavior trends and how they may impact advertising effectiveness on Amazon’s platforms. Understanding user engagement, preferences, and responses to advertising will inform how Amazon tailors its advertising products and services, thus affecting financial projections.',\n",
       " \"Finally, it would be beneficial to explore expert analyses and market research reports focusing on future projections for Amazon's advertising business. These analyses can provide estimates and forecasts from industry analysts or financial institutions, helping to clarify expectations and market trends that may affect Amazon's advertising revenues and strategies.\"]"
      ]
     },
     "execution_count": 6,
     "metadata": {},
     "output_type": "execute_result"
    }
   ],
   "source": [
    "info_requests = await bkg_researcher.create_info_requests()\n",
    "info_requests"
   ]
  },
  {
   "cell_type": "markdown",
   "metadata": {},
   "source": [
    "### `answer_info_request`\n",
    "\n",
    "Given an `info_request`, query the librarian to retrieve relevant contexts. Then, answer the question using the contexts (basically RAG with extra steps lol). Finally, add the `info_request` and `Response` pair into `self.history`\n",
    "\n",
    "Note: this returns a `Response` object"
   ]
  },
  {
   "cell_type": "code",
   "execution_count": null,
   "metadata": {},
   "outputs": [
    {
     "name": "stdout",
     "output_type": "stream",
     "text": [
      "Info Request:\n",
      "To answer the query comprehensively, I want to gather information about Amazon's recent earnings reports, particularly focusing on the advertising segment. This information can provide insights into revenue growth, key performance indicators, and overall contributions of the advertising sector to Amazon's total revenue, helping to paint a clear picture of current financial performance.\n",
      "\n",
      "Response:\n",
      "To gather the necessary insights regarding Amazon's advertising segment, we can turn to the company’s recent earnings reports, which provide a window into the performance of its advertising business within the broader scope of its operations. The most recent quarterly report indicated that Amazon's advertising sales reached approximately $14.3 billion, marking a slight deceleration compared to previous periods. This performance comes at a time when the company is investing significantly in its infrastructure and technological capabilities, especially within the realm of artificial intelligence (AI).\n",
      "\n",
      "In the context of Amazon's overall revenue, which totaled $187.8 billion—a year-over-year increase of 10%—the advertising segment has emerged as a notable component. Amazon’s North American retail segment, encompassing product sales, services, and advertising, saw a growth of 10%, underlining the importance of advertising as part of its diversified revenue sources. The overall profit for the company demonstrated remarkable growth too, rising 88% to $20 billion, and advertising has consistently contributed to this profitability (it surpassed $17 billion in sales in previous quarters).\n",
      "\n",
      "Notably, Andy Jassy, Amazon's CEO, indicated that advertising is becoming increasingly central to the company's growth strategy. The recent introduction of advertisements on platforms like Prime Video illustrates Amazon's initiative to capitalize on its expansive ecosystem and customer base. This aligns with broader trends in the digital ad market, where Amazon's share is on the rise. For instance, eMarketer projects a decline in Google's search advertising market share below 50% for the first time, a trend that enhances the competitive positioning of Amazon in attracting ad dollars from marketers.\n",
      "\n",
      "However, it is important to highlight that despite its profitable performance, there are some signs of market saturation or a shift in spending patterns, particularly as heavier investments are directed toward building data centers and enhancing AI capabilities. This heavy capital expenditure has risen significantly—up 88% to $21.3 billion—reflecting the company's strategy to not only bolster its cloud services but also optimize its advertising capabilities through more effective targeting and delivery systems.\n",
      "\n",
      "In summary, Amazon's advertising segment, while experiencing robust sales, is balancing between strong growth and the implications of macroeconomic factors, such as consumer spending patterns and increased competition. The insights derived from these earnings reports will help shape the understanding of how Amazon is striving to position itself strategically within the digital ad market amidst a landscape that is rapidly evolving thanks to technological advancements.\n",
      "\n",
      " Contexts:\n",
      "The quarter included Amazon’s Prime Day in July, which generated $13.7 billion in product sales in 48 hours, according to estimates from Bank of America.\n",
      "Advertising, which has been a profitable bright spot, posted $14.3 billion in sales, showing a slight slowdown from recent quarters even as the company began offering advertisements in Prime Video, its online streaming service.\n",
      "The company is spending heavily in a number of areas — it is racing to build data centers that power A.I. and will soon launch low-earth orbit satellites to provide internet connectivity to areas off the grid. Capital expenses rose sharply to $21.3 billion, up 88 percent.\n",
      "In a call with investors, Mr. Jassy said the company would spend $75 billion in capital expenditures this year, and even more next year, largely to build data centers for A.I.\n",
      "“It is a really unusually large, maybe once-in-a-lifetime type of opportunity,” he said.\n",
      "Artificial Intelligence\n",
      "Advertisement\n",
      "Supported by\n",
      "The company’s cloud computing business showed strong growth, while a forecast for the current quarter disappointed investors.\n",
      "By Karen Weise\n",
      "Karen Weise has covered Amazon from Seattle since 2018.\n",
      "Amazon saw healthy consumer sales and a pickup in its cloud computing business in its latest quarter, but the company told investors on Thursday to expect slowing growth ahead.\n",
      "Sales from October through December hit $187.8 billion, up 10 percent from a year earlier. Profit rose 88 percent, to $20 billion. Both were roughly in line with Wall Street expectations.\n",
      "But the company signaled that 2025 would be off to a weaker start, expecting sales to grow between 5 percent and 9 percent in the current quarter, and that operating profit could potentially be lower than a year ago.\n",
      "Profit in the e-commerce giant’s core retail business has faced pressure as consumers shift their spending to lower-cost products and everyday consumable items, like shampoo or dog food, which tend to be less profitable.\n",
      "Amazon had warned investors last quarter that consumer behavior was particularly tricky to predict in the election season, as a volatile political climate can distract consumers from shopping. Sales in its North America e-commerce business grew 9 percent in the quarter. It produced $5.7 billion in operating profit.\n",
      "“As we get into the holiday season, we’re excited about what we have in store for customers,” Andy Jassy, Amazon’s chief executive, said in a statement.\n",
      "The company told investors to expect a strong holiday quarter, with estimated sales reaching as much as $188.5 billion.\n",
      "Amazon’s stock price jumped more than 5 percent in aftermarket trading.\n",
      "The tech giant’s cloud computing business picked up steam and its retail business showed resiliency.\n",
      "Amazon has been making its fulfillment and delivery network faster and more efficient, driving down its costs to fulfill orders. Credit... Stacy Kranitz for The New York Times\n",
      "Supported by\n",
      "By Karen Weise\n",
      "Karen Weise has covered Amazon since 2018.\n",
      "Amazon reported record profits on Thursday, as cloud computing sales picked up steam and its retail business showed resilience.\n",
      "Sales from July through September hit $158.9 billion, up 11 percent from the same period a year earlier. Profit rose 55 percent, to $15.3 billion. The results surpassed Wall Street’s expectations.\n",
      "Amazon’s cloud computing business is continuing to gain steam, driven partly by its artificial intelligence offerings. Amazon Web Services sales grew 19 percent, to $27.5 billion. It accounted for 60 percent of the company’s operating profit.\n",
      "Sales in Amazon’s North American retail business, which includes product sales as well as services like advertising and Prime memberships, grew 10 percent in the critical holiday shopping period. The retail industry generally reported surprisingly strong holiday sales .\n",
      "Amazon customers are buying more as the company offers faster shipping. It has reworked its operations to put more items closer to customers, making them quicker and less expensive to deliver. Amazon delivered more than nine billion items the same or next day in 2024, up from more than seven billion in 2023.\n",
      "Amazon’s North American operating margin grew to more than 8 percent. Two years ago, it did not even break even. The company has squeezed more profits out of its North American business by making its logistics efforts more efficient and expanding the most profitable parts of the business, such as advertising, which surpassed $17 billion in sales.\n",
      "The company ended the year with 1,556,000 employees, up just 2 percent.\n",
      "Cloud computing grew 19 percent, to $28.8 billion, in the quarter. The results — seen as a sign that Amazon’s investments in artificial intelligence were paying off — were particularly strong given that the company’s top cloud competitors, Microsoft and Alphabet, recently reported results that underwhelmed investors. In the same quarter of 2023, Amazon’s cloud business grew just 13 percent.\n",
      "Investors are also focused on Amazon’s cloud computing business because it has become a profit engine for the company. Operating profit for the cloud business was $10.6 billion, which accounted for half of Amazon’s overall operating profit.\n",
      "The tech industry has been shaken by the recent release of an efficient artificial intelligence system by a Chinese start-up, DeepSeek. Amazon quickly made DeepSeek's system available for customers to use, saying it is an example of how Amazon has built its approach to let users easily mix and match different A.I. tools.\n",
      "Artificial Intelligence\n",
      "Advertisement\n",
      "Supported by\n",
      "The tech giant’s 34 percent increase in quarterly profit topped Wall Street expectations, driven by its advertising and cloud businesses.\n",
      "By Nico Grant\n",
      "Reporting from San Francisco\n",
      "Alphabet, Google’s parent company, reported strong revenue growth on Tuesday, as its business continued to excel despite tough regulatory scrutiny and growing competition.\n",
      "Alphabet reported $88.3 billion in sales for the third quarter, up 15 percent from a year earlier and above analysts’ estimate of $86.4 billion. Profit climbed 34 percent to $26.3 billion. Analysts had expected $22.9 billion.\n",
      "The results showed that Alphabet’s popular online services, led by Google’s search engine and YouTube’s video platform, remained central pathways for marketers to get their ads in front of consumers. The company has maintained huge profits in the face of government calls to break up its business and greater competition for advertisers from TikTok, Amazon and others.\n",
      "On a call with investors, Andy Jassy, Amazon’s chief executive, said A.I. should follow the pattern of other technological trends: As the systems becomes less expensive to deploy, customers will “ get excited about what else they could build that they always thought was cost prohibitive before, and they usually end up spending a lot more in total.”\n",
      "The company spent $26 billion building out data centers, warehouses and other capital expenses in the quarter, bringing its annual total to more than $77 billion. Mr. Jassy said Amazon could have sold more cloud computing if it had more data center capacity, especially chips for A.I.\n",
      "Amazon told investors that the current rate of capital investments would continue throughout 2025, implying it could surpass $100 billion this year.\n",
      "Despite all of the investments, for the first time Amazon ended the year with more than $82 billion in cash.\n",
      "Amazon’s share price was down more than 4 percent in after-hours trading.\n",
      "On Wednesday, Meta said its increased revenue and profit for the fourth quarter were driven largely by advancements in its systems for advertisement targeting and suggesting relevant posts and videos to users. Those improvements came from its continued investments in artificial intelligence, the company said.\n",
      "Revenue for the fourth quarter was $48.4 billion, up from $40.1 billion a year earlier and above Wall Street estimates of $47 billion, according to data compiled by FactSet, a market analysis firm. Profit was $20.8 billion, up from $14 billion a year earlier.\n",
      "But the Silicon Valley company also said it expected revenue in the current quarter to come in at $39.5 billion to $41.8 billion. The low end of the forecast was below analyst expectations of $41.7 billion.\n",
      "“Some of the early proposals from the D.O.J., et cetera, have been far-reaching,” he told analysts. “They could have unintended consequences, particularly to the dynamic tech sector and the American leadership there.”\n",
      "Next year, Google’s share of the search advertising market is expected to fall below 50 percent, as Amazon and TikTok increase search ad sales, according to eMarketer , a research group that tracks online markets. It would be the first time that Google dipped below the threshold since eMarketer began tracking the metric in 2008.\n",
      "Nonetheless, Google’s search engine, its largest business, continues to record strong revenue growth. Revenue from the search engine rose 12 percent to $49.4 billion in the third quarter, narrowly higher than analysts’ estimate of $49 billion.\n",
      "The growth was driven by insurance ads and retail ads, Philipp Schindler, Google’s chief business officer, said during the call.\n"
     ]
    }
   ],
   "source": [
    "info_request = info_requests[0]\n",
    "response = await bkg_researcher.answer_info_request(info_request)\n",
    "\n",
    "print(\"Info Request:\")\n",
    "print(info_request)\n",
    "print(\"\\nResponse:\")\n",
    "print(response.text)\n",
    "print(\"\\nContexts:\")\n",
    "print(\"\\n\\n\".join(doc.text for doc in response.sources))"
   ]
  },
  {
   "cell_type": "markdown",
   "metadata": {},
   "source": [
    "### `compile_report`\n",
    "\n",
    "Puts everything in `self.history` together to answer the research question, but with an explicit instruction that the report should focus on constructing a report on **background research**\n",
    "\n",
    "Note: this returns a `Response` object"
   ]
  },
  {
   "cell_type": "code",
   "execution_count": 10,
   "metadata": {},
   "outputs": [],
   "source": [
    "# im p sure im right so imma just skip this :)"
   ]
  },
  {
   "cell_type": "markdown",
   "metadata": {},
   "source": [
    "## `execute`\n",
    "\n",
    "Aight let's see if the whole thing works :)"
   ]
  },
  {
   "cell_type": "code",
   "execution_count": null,
   "metadata": {},
   "outputs": [
    {
     "name": "stdout",
     "output_type": "stream",
     "text": [
      "Creating info requests...\n",
      "Created 6 info requests\n"
     ]
    },
    {
     "name": "stderr",
     "output_type": "stream",
     "text": [
      "  0%|          | 0/6 [00:00<?, ?it/s]Retrieving from library for info request: To answer the query comprehens...\n",
      " 17%|█▋        | 1/6 [00:54<04:34, 54.90s/it]WARNING:kruppe.algorithm.librarian:Retrieving from library for info request: I am interested in Amazon's cu...\n",
      " 33%|███▎      | 2/6 [01:37<03:11, 47.88s/it]WARNING:kruppe.algorithm.librarian:Retrieving from library for info request: It would be beneficial to gath...\n",
      "100%|██████████| 6/6 [03:26<00:00, 34.36s/it]\n"
     ]
    },
    {
     "name": "stdout",
     "output_type": "stream",
     "text": [
      "Compiling report...\n",
      "\n",
      "===== Response =====\n",
      "# Background Report: Key Developments and Financial Projections for Amazon's Advertising Business\n",
      "\n",
      "## Introduction \n",
      "Amazon's foray into the digital advertising market has marked a significant turning point in the broader advertising landscape. As traditional forms of advertising evolve and consumer behavior shifts towards online platforms, understanding the key developments and financial projections for Amazon's advertising business provides essential insights into its competitive position and future prospects.\n",
      "\n",
      "## Recent Market Trends in Digital Advertising\n",
      "The digital advertising industry is rapidly growing, with projections indicating a global market valued at over $650 billion by 2025, representing a compound annual growth rate (CAGR) of approximately 10% from 2023 onwards. Various factors are driving this growth, including increased internet penetration, the rise of e-commerce, and the growing preference for online advertising among consumers.\n",
      "\n",
      "1. **Market Growth**: The digital ad market is expanding as businesses increasingly pivot to online advertising strategies. This shift fosters an environment ripe for companies like Amazon to make substantial inroads into advertising revenue.\n",
      "\n",
      "2. **Shift Towards Programmatic Advertising**: Programmatic advertising has become a dominant force in the industry, comprising over 85% of all digital ad spending. Leveraging data analytics and machine learning is critical for optimizing ad placements, and Amazon's access to a vast trove of consumer data positions it to capitalize on this trend.\n",
      "\n",
      "3. **Integration with Retail and E-commerce**: Amazon's dual role as a marketplace and an advertising platform offers a unique advantage, as advertisers gain access to valuable insights derived from consumer behavior on its platform. This integration enhances the effectiveness of ad campaigns and directly correlates advertising dollars with sales performance.\n",
      "\n",
      "4. **Emerging Video Advertising Segment**: Video content is gaining popularity, with projected spending reaching $200 billion by 2025. Amazon’s investment in video advertising through its streaming services positions it to capture a larger share of this lucrative segment.\n",
      "\n",
      "5. **Challenges**: Amazon faces challenges, including regulatory scrutiny regarding data privacy and antitrust issues. Competition from established players like Google and Meta further complicates its market dynamics. \n",
      "\n",
      "## Current Market Share and Competitive Positioning\n",
      "As of 2023, Amazon holds a digital advertising market share of approximately 6.9%. While this figure lag behind major competitors such as Google (28.6%) and Meta (21.2%), Amazon's advertising division has been growing at a commendable pace, fueled by its extensive e-commerce ecosystem and superior access to consumer data. This growth invites scrutiny and signals a burgeoning competitive stance within the industry.\n",
      "\n",
      "Amazon's strategic integration of advertising with its retail operations enhances its value proposition to advertisers, offering targeted advertising solutions that directly address consumer purchasing behaviors. Furthermore, regulatory challenges faced by competitors like Google may inadvertently create opportunities for Amazon to capture additional market share as brands seek alternative advertising avenues.\n",
      "\n",
      "## Investments and Innovations in Advertising\n",
      "Amazon is actively investing in various technology platforms, partnerships, and tools to elevate its advertising capabilities. Key strategies include:\n",
      "\n",
      "1. **Investment in AI and Data Analytics**: Recently investing $4 billion in AI startup Anthropic reflects Amazon's commitment to utilizing advanced technologies to refine its advertising solutions. By adopting generative AI, the company can enhance targeting and improve ad performance metrics.\n",
      "\n",
      "2. **Monetizing Streaming Platforms**: The introduction of advertising on Prime Video is a significant move that diversifies Amazon's revenue streams and utilizes consumer engagement on its streaming platform to attract advertisers wishing to reach specific audiences.\n",
      "\n",
      "3. **Focus on Partnerships**: Prior investments have shifted towards acquiring licenses for technology that complements its advertising offerings, showcasing Amazon's focus on building a robust technological infrastructure rather than engaging in large-scale acquisitions.\n",
      "\n",
      "4. **Innovative Ad Formats**: Amazon is developing unique ad formats that blend traditional display ads with performance-driven models, providing advertisers with a seamless way to reach customers during their shopping journey.\n",
      "\n",
      "## Financial Projections\n",
      "Analysts project that Amazon's advertising revenue will grow significantly, with expectations for it to reach approximately $41 billion by 2025. This growth is supported by Amazon's ability to use consumer insights effectively, attracting brands eager to find new ways to engage customers and drive conversions through targeted advertising.\n",
      "\n",
      "Several key factors underpinning these projections include:\n",
      "- The effectiveness of Amazon's ad-targeting data made possible through its extensive retail platform.\n",
      "- The integration of cutting-edge technologies like AI and machine learning into their advertising practices.\n",
      "- A general upswing in advertiser confidence as the broader digital ad market rebounds.\n",
      "\n",
      "## Regulatory Challenges and Privacy Concerns\n",
      "In the face of expanding regulatory scrutiny regarding data privacy, Amazon's advertising operations may face considerable challenges. Noteworthy issues include:\n",
      "\n",
      "1. **Antitrust Investigations**: Increasing scrutiny in both the U.S. and Europe regarding the company's market dominance may impose stringent guidelines on advertising practices.\n",
      "\n",
      "2. **Data Privacy Regulations**: New legislation in Europe and potential shifts in U.S. regulations could restrict how Amazon utilizes consumer data for targeted advertising. The apprehension surrounding privacy could lead to reputational risks and possible declines in advertiser spend if Amazon fails to adapt adequately.\n",
      "\n",
      "3. **Financial Exposure**: Failing to comply with emerging regulatory frameworks could lead to significant fines, further complicating the operational landscape and potentially impacting growth trajectories.\n",
      "\n",
      "## Conclusion\n",
      "Amazon's advertising business is strategically positioned at a critical juncture within the rapidly evolving digital advertising landscape. The convergence of positive market trends, significant anticipated revenue growth, and technologies focused on enhancing consumer targeting capabilities provides a promising outlook. However, navigating regulatory challenges and maintaining a consumer-centric approach towards data privacy will be vital for sustaining growth in the face of increasing scrutiny and competition. As Amazon continues to innovate and expand its advertising services, understanding these dynamics will remain crucial for stakeholders assessing its trajectory in the digital advertising market.\n",
      "\n",
      "===== Contexts =====\n"
     ]
    },
    {
     "ename": "NameError",
     "evalue": "name 'response' is not defined",
     "output_type": "error",
     "traceback": [
      "\u001b[0;31m---------------------------------------------------------------------------\u001b[0m",
      "\u001b[0;31mNameError\u001b[0m                                 Traceback (most recent call last)",
      "Cell \u001b[0;32mIn[3], line 6\u001b[0m\n\u001b[1;32m      4\u001b[0m \u001b[38;5;28mprint\u001b[39m(bkg_report\u001b[38;5;241m.\u001b[39mtext)\n\u001b[1;32m      5\u001b[0m \u001b[38;5;28mprint\u001b[39m(\u001b[38;5;124m\"\u001b[39m\u001b[38;5;130;01m\\n\u001b[39;00m\u001b[38;5;124m===== Contexts =====\u001b[39m\u001b[38;5;124m\"\u001b[39m)\n\u001b[0;32m----> 6\u001b[0m \u001b[38;5;28mprint\u001b[39m(\u001b[38;5;124m\"\u001b[39m\u001b[38;5;130;01m\\n\u001b[39;00m\u001b[38;5;130;01m\\n\u001b[39;00m\u001b[38;5;124m\"\u001b[39m\u001b[38;5;241m.\u001b[39mjoin(doc\u001b[38;5;241m.\u001b[39mtext \u001b[38;5;28;01mfor\u001b[39;00m doc \u001b[38;5;129;01min\u001b[39;00m \u001b[43mresponse\u001b[49m\u001b[38;5;241m.\u001b[39msources))\n",
      "\u001b[0;31mNameError\u001b[0m: name 'response' is not defined"
     ]
    }
   ],
   "source": [
    "bkg_report = await bkg_researcher.execute()\n",
    "\n",
    "print(\"\\n===== Report =====\")\n",
    "print(bkg_report.text)"
   ]
  }
 ],
 "metadata": {
  "kernelspec": {
   "display_name": "experimental",
   "language": "python",
   "name": "python3"
  },
  "language_info": {
   "codemirror_mode": {
    "name": "ipython",
    "version": 3
   },
   "file_extension": ".py",
   "mimetype": "text/x-python",
   "name": "python",
   "nbconvert_exporter": "python",
   "pygments_lexer": "ipython3",
   "version": "3.10.16"
  }
 },
 "nbformat": 4,
 "nbformat_minor": 2
}
