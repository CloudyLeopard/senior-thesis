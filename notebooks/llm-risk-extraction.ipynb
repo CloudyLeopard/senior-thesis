{
 "cells": [
  {
   "cell_type": "markdown",
   "metadata": {},
   "source": [
    "# Risk Extraction Model"
   ]
  },
  {
   "cell_type": "markdown",
   "metadata": {},
   "source": [
    "Using the prompt template from the paper \"Modeling and Detecting Company Risks from News\""
   ]
  },
  {
   "cell_type": "code",
   "execution_count": 4,
   "metadata": {},
   "outputs": [],
   "source": [
    "from rag.prompts import CustomPromptFormatter\n",
    "\n",
    "prompt_template = \"\"\"{text} \n",
    "For company {company}, does the above news mention {risk} ?\n",
    "Options: Yes, No\n",
    "Your answer is (Please only use Yes or No): \"\"\"\n",
    "\n",
    "formatter = CustomPromptFormatter(\n",
    "    system_prompt=\"You extract company risk factors from news articles\",\n",
    "    prompt_template=prompt_template,\n",
    ")"
   ]
  },
  {
   "cell_type": "markdown",
   "metadata": {},
   "source": [
    "Risk categories listed in the paper"
   ]
  },
  {
   "cell_type": "code",
   "execution_count": null,
   "metadata": {},
   "outputs": [],
   "source": [
    "risks = [\n",
    "    \"Supply Chain and Product\",\n",
    "    \"People and Management\",\n",
    "    \"Finance\",\n",
    "    \"Legal and Regulations\",\n",
    "    \"Macro\",\n",
    "    \"Markets and Consumers\",\n",
    "    \"Competition\"\n",
    "]"
   ]
  },
  {
   "cell_type": "markdown",
   "metadata": {},
   "source": [
    "# Labeling Text\n",
    "Note: their result indicated that fine-tuned language models work better than zero-shot and few-shot. For simplicity sake, I'm using zero-shot"
   ]
  },
  {
   "cell_type": "code",
   "execution_count": null,
   "metadata": {},
   "outputs": [],
   "source": [
    "from rag.generator import OpenAILLM\n",
    "llm = OpenAILLM(model=\"gpt-4o\")"
   ]
  },
  {
   "cell_type": "code",
   "execution_count": 5,
   "metadata": {},
   "outputs": [
    {
     "data": {
      "text/plain": [
       "[{'role': 'system',\n",
       "  'content': 'You extract company risk factors from news articles'},\n",
       " {'role': 'user',\n",
       "  'content': 'Apple is releasing a new iPhone \\nFor company Apple, does the above news mention security ?\\nOptions: Yes, No\\nYour answer is (Please only use Yes or No): '}]"
      ]
     },
     "execution_count": 5,
     "metadata": {},
     "output_type": "execute_result"
    }
   ],
   "source": [
    "formatter.format_messages(text=\"Apple is releasing a new iPhone\", company=\"Apple\", risk=\"security\")"
   ]
  }
 ],
 "metadata": {
  "kernelspec": {
   "display_name": "jupyter",
   "language": "python",
   "name": "python3"
  },
  "language_info": {
   "codemirror_mode": {
    "name": "ipython",
    "version": 3
   },
   "file_extension": ".py",
   "mimetype": "text/x-python",
   "name": "python",
   "nbconvert_exporter": "python",
   "pygments_lexer": "ipython3",
   "version": "3.13.0"
  }
 },
 "nbformat": 4,
 "nbformat_minor": 2
}
