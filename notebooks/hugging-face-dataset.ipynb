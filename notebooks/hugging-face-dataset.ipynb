{
 "cells": [
  {
   "cell_type": "markdown",
   "metadata": {},
   "source": [
    "# Hugging Face Dataset\n",
    "Lots of pretty neat datasets out there. Here's two I'm considering using for training or just model exploration:\n",
    "- https://huggingface.co/datasets/Shadow-Blade/financialNews\n",
    "- https://huggingface.co/datasets/KrossKinetic/SP500-Financial-News-Articles-Time-Series\n",
    "\n",
    "\n",
    "Instructions: https://huggingface.co/docs/datasets/en/access"
   ]
  },
  {
   "cell_type": "markdown",
   "metadata": {},
   "source": []
  }
 ],
 "metadata": {
  "language_info": {
   "name": "python"
  }
 },
 "nbformat": 4,
 "nbformat_minor": 2
}
