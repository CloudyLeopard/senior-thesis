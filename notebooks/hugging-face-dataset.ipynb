{
 "cells": [
  {
   "cell_type": "markdown",
   "metadata": {},
   "source": [
    "# Hugging Face Dataset\n",
    "Lots of pretty neat datasets out there. Here's two I'm considering using for training or just model exploration:\n",
    "- https://huggingface.co/datasets/Shadow-Blade/financialNews\n",
    "- https://huggingface.co/datasets/KrossKinetic/SP500-Financial-News-Articles-Time-Series\n",
    "\n",
    "\n",
    "Instructions: https://huggingface.co/docs/datasets/en/access"
   ]
  },
  {
   "cell_type": "code",
   "execution_count": 37,
   "metadata": {},
   "outputs": [
    {
     "data": {
      "text/plain": [
       "DatasetDict({\n",
       "    train: Dataset({\n",
       "        features: ['datetime', 'title', 'description', 'ticker', 'company', 'sector', 'industry', 'change_pct'],\n",
       "        num_rows: 95459\n",
       "    })\n",
       "})"
      ]
     },
     "execution_count": 37,
     "metadata": {},
     "output_type": "execute_result"
    }
   ],
   "source": [
    "from datasets import load_dataset\n",
    "fin_news_dataset = load_dataset(\"Shadow-Blade/financialNews\")\n",
    "fin_news_dataset"
   ]
  },
  {
   "cell_type": "code",
   "execution_count": 38,
   "metadata": {},
   "outputs": [
    {
     "data": {
      "application/vnd.jupyter.widget-view+json": {
       "model_id": "8fafb290209c48f19db47119a92ee9b2",
       "version_major": 2,
       "version_minor": 0
      },
      "text/plain": [
       "Filter:   0%|          | 0/95459 [00:00<?, ? examples/s]"
      ]
     },
     "metadata": {},
     "output_type": "display_data"
    },
    {
     "data": {
      "text/plain": [
       "DatasetDict({\n",
       "    train: Dataset({\n",
       "        features: ['datetime', 'title', 'description', 'ticker', 'company', 'sector', 'industry', 'change_pct'],\n",
       "        num_rows: 30066\n",
       "    })\n",
       "})"
      ]
     },
     "execution_count": 38,
     "metadata": {},
     "output_type": "execute_result"
    }
   ],
   "source": [
    "from datetime import datetime, timedelta\n",
    "\n",
    "earliest_time = datetime.now() - timedelta(days=1.5*365)  # Approximation for 1.5 years\n",
    "fin_news_dataset = fin_news_dataset.filter(lambda row: datetime.strptime(row[\"datetime\"], \"%a %d %b %Y, %I:%M%p\") >= earliest_time)\n",
    "fin_news_dataset"
   ]
  },
  {
   "cell_type": "code",
   "execution_count": 45,
   "metadata": {},
   "outputs": [
    {
     "name": "stdout",
     "output_type": "stream",
     "text": [
      "AAPL dataset row count: 1392\n",
      "MSFT dataset row count: 1499\n",
      "NVDA dataset row count: 1375\n"
     ]
    }
   ],
   "source": [
    "appl_dataset = fin_news_dataset.filter(lambda row: row[\"ticker\"] == \"AAPL\")\n",
    "msft_dataset = fin_news_dataset.filter(lambda row: row[\"ticker\"] == \"MSFT\")\n",
    "nvda_dataset = fin_news_dataset.filter(lambda row: row[\"ticker\"] == \"NVDA\")\n",
    "print(\"AAPL dataset row count:\", appl_dataset[\"train\"].num_rows)\n",
    "print(\"MSFT dataset row count:\", msft_dataset[\"train\"].num_rows)\n",
    "print(\"NVDA dataset row count:\", nvda_dataset[\"train\"].num_rows)"
   ]
  },
  {
   "cell_type": "code",
   "execution_count": null,
   "metadata": {},
   "outputs": [],
   "source": []
  }
 ],
 "metadata": {
  "kernelspec": {
   "display_name": "Python 3 (ipykernel)",
   "language": "python",
   "name": "python3"
  },
  "language_info": {
   "codemirror_mode": {
    "name": "ipython",
    "version": 3
   },
   "file_extension": ".py",
   "mimetype": "text/x-python",
   "name": "python",
   "nbconvert_exporter": "python",
   "pygments_lexer": "ipython3",
   "version": "3.10.15"
  }
 },
 "nbformat": 4,
 "nbformat_minor": 4
}
