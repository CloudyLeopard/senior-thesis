{
 "cells": [
  {
   "cell_type": "markdown",
   "metadata": {},
   "source": [
    "# Scrape FT Times Newsfeed\n",
    "\n",
    "My `scraper/ft.py` file has approximately the same code for link off https://www.ft.com/news-feed, and then scraping them into a `List[Document]`. But because I want to mass download a bunch, I figured it's best to just download the xml into a directory first - this way if I mess up the `Document` conversion, I don't have to redo anything. Plus, I'm basically making a database."
   ]
  },
  {
   "cell_type": "markdown",
   "metadata": {},
   "source": [
    "## Scraping Links"
   ]
  },
  {
   "cell_type": "code",
   "execution_count": 4,
   "metadata": {},
   "outputs": [],
   "source": [
    "import asyncio\n",
    "import httpx\n",
    "import json\n",
    "from datetime import datetime\n",
    "from bs4 import BeautifulSoup\n",
    "from tqdm.asyncio import tqdm\n",
    "from tqdm.notebook import tqdm as tqdm_notebook\n",
    "\n",
    "with open(\"../../.ft-headers.json\") as f:\n",
    "    headers = json.load(f)\n",
    "\n",
    "HTTPX_CONNECTION_LIMITS = httpx.Limits(max_keepalive_connections=50, max_connections=400)"
   ]
  },
  {
   "cell_type": "code",
   "execution_count": 2,
   "metadata": {},
   "outputs": [],
   "source": [
    "# modififed `fetch_news_feed` that fetches 400 pages of news feed\n",
    "async def fetch_news_feed(headers, max_pages = 400):\n",
    "    links = []\n",
    "    client = httpx.AsyncClient(timeout=10.0, headers=headers)\n",
    "    url = \"https://www.ft.com/news-feed\"\n",
    "\n",
    "    async def send_requests_for_links(page):\n",
    "        try:\n",
    "            params = {\"page\": page}\n",
    "            response = await client.get(url, params=params)\n",
    "            response.raise_for_status()\n",
    "            html = response.text\n",
    "            soup = BeautifulSoup(html, \"lxml\")\n",
    "\n",
    "            a_tags = soup.find_all(\"a\", class_=\"js-teaser-heading-link\")\n",
    "            return [\"https://www.ft.com\" + a_tag.get(\"href\") for a_tag in a_tags]\n",
    "        except Exception as e:\n",
    "            print(f\"Error fetching news feed at page {page}: {e}\")\n",
    "            return []\n",
    "\n",
    "\n",
    "    try:\n",
    "        # for start_page in range(1, max_pages+1, HTTPX_CONNECTION_LIMITS.max_connections):\n",
    "        #     tasks = []\n",
    "        #     for page in range(start_page, min(start_page+HTTPX_CONNECTION_LIMITS.max_connections, max_pages+1)):\n",
    "        #         tasks.append(send_requests_for_links(page))\n",
    "        #     links.extend(await tqdm.gather(*tasks))\n",
    "        links = await tqdm.gather(*(send_requests_for_links(page) for page in range(1, max_pages + 1)))\n",
    "    finally:\n",
    "        await client.aclose()\n",
    "    return links"
   ]
  },
  {
   "cell_type": "code",
   "execution_count": null,
   "metadata": {},
   "outputs": [],
   "source": [
    "links = await fetch_news_feed(headers)\n",
    "links = [link for sublist in links for link in sublist] # flatten list\n",
    "print(f\"Fetched {len(links)} links from Financial Times news feed\")"
   ]
  },
  {
   "cell_type": "markdown",
   "metadata": {},
   "source": [
    "## Scrape HTML and store them\n",
    "yea i have no idea if i missed a few articles but i think i got everything\n",
    "got like `9986` articles\n",
    "\n",
    "note to self: i also moved where i stored the ft data - its now in a hard-drive rather than in wherever the directory is written down below"
   ]
  },
  {
   "cell_type": "code",
   "execution_count": 2,
   "metadata": {},
   "outputs": [],
   "source": [
    "async def async_scrape_link(url, client, retries = 3, backoff = 0.5):\n",
    "    for attempt in range(retries):\n",
    "        try:\n",
    "            r = await client.get(url)\n",
    "            r.raise_for_status()\n",
    "            return r.text\n",
    "        except Exception as e:\n",
    "            await asyncio.sleep(backoff * 2 ** attempt)\n",
    "    print(f\"Failed to fetch {url} after {retries} attempts\")\n",
    "    return None"
   ]
  },
  {
   "cell_type": "code",
   "execution_count": null,
   "metadata": {},
   "outputs": [],
   "source": [
    "directory = \"/Users/danielliu/Workspace/fin-rag/data/ft\" # location moved\n",
    "\n",
    "client = httpx.AsyncClient(timeout=10.0, headers=headers, limits=HTTPX_CONNECTION_LIMITS)\n",
    "f_meta = open(f\"{directory}/ft_scrape_info.txt\", \"w\")\n",
    "try:\n",
    "    f_meta.write(\"id\\turl\\tscraped_at\\n\")\n",
    "    for i in tqdm_notebook(range(0, len(links), HTTPX_CONNECTION_LIMITS.max_connections), desc=\"Async scraping links\"):\n",
    "        link_subset = links[i:i+HTTPX_CONNECTION_LIMITS.max_connections]\n",
    "        tasks = [async_scrape_link(link, client) for link in link_subset]\n",
    "        htmls = await asyncio.gather(*tasks)\n",
    "\n",
    "        scraped_at = datetime.now().isoformat()\n",
    "        for link, html in zip(link_subset, htmls):\n",
    "            if html is None:\n",
    "                continue\n",
    "            id = link.split(\"/\")[-1]\n",
    "            f_meta.write(f\"{id}\\t{link}\\t{scraped_at}\\n\")\n",
    "            with open(f\"{directory}/{id}.html\", \"w\") as f:\n",
    "                f.write(html)\n",
    "finally:\n",
    "    f_meta.close()\n",
    "    await client.aclose()"
   ]
  },
  {
   "cell_type": "code",
   "execution_count": null,
   "metadata": {},
   "outputs": [],
   "source": []
  }
 ],
 "metadata": {
  "kernelspec": {
   "display_name": "experimental",
   "language": "python",
   "name": "python3"
  },
  "language_info": {
   "codemirror_mode": {
    "name": "ipython",
    "version": 3
   },
   "file_extension": ".py",
   "mimetype": "text/x-python",
   "name": "python",
   "nbconvert_exporter": "python",
   "pygments_lexer": "ipython3",
   "version": "3.10.15"
  }
 },
 "nbformat": 4,
 "nbformat_minor": 2
}
