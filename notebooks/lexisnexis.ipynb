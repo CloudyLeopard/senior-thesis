{
 "cells": [
  {
   "cell_type": "markdown",
   "metadata": {},
   "source": [
    "Documentation: https://devportal.api-prod.route53.lexis.com/api?spec=NewsAPI.yml"
   ]
  },
  {
   "cell_type": "code",
   "execution_count": 1,
   "metadata": {},
   "outputs": [],
   "source": [
    "from lexisnexisapi import webservices\n",
    "from lexisnexisapi import credentials"
   ]
  },
  {
   "cell_type": "code",
   "execution_count": 2,
   "metadata": {},
   "outputs": [
    {
     "name": "stdout",
     "output_type": "stream",
     "text": [
      "Credentials located at /Users/danielliu/.lnapi/.cred\n"
     ]
    },
    {
     "data": {
      "text/plain": [
       "{'WSAPI_CLIENT_ID': 'F8PT8FS9PXXRBR78RMZFJ25J8T526P',\n",
       " 'WSAPI_SECRET': 'FPMJP84Q772GWHZ727M2STGPQ84MJ69MNPKS983H',\n",
       " 'Metabase_Search_Key': ''}"
      ]
     },
     "execution_count": 2,
     "metadata": {},
     "output_type": "execute_result"
    }
   ],
   "source": [
    "credentials.cred_file_path()\n",
    "\n",
    "print(f\"Credentials located at {credentials.cred_file_path()}\")\n",
    "credentials.get_Credentials()\n"
   ]
  },
  {
   "cell_type": "code",
   "execution_count": 3,
   "metadata": {},
   "outputs": [],
   "source": [
    "token = webservices.token()"
   ]
  },
  {
   "cell_type": "markdown",
   "metadata": {},
   "source": [
    "*Refer to the LexisNexis Developer Portal: [News API](https://dev.lexisnexis.com/dev-portal/documentation/News#/News%20API/get_News) for guidance on using parameters \\$search, \\$expand, \\$top, and \\$orderby.*"
   ]
  },
  {
   "cell_type": "code",
   "execution_count": 23,
   "metadata": {},
   "outputs": [],
   "source": [
    "#Replace Substitute 'Olympics 2024' with your desired search term(s)\n",
    "search_string = 'Trump'    #Use quotation marks \"search string\" if the search string is a phrase, e.g.,\"Olympics 2024\"\n",
    "\n",
    "parameters ={\n",
    "            '$search':search_string,\n",
    "            '$expand':'Document', #A navigation property name which will be included with the current result set.\n",
    "            # '$top':'5',  #Sets the maximum number of results to receive for this request.\n",
    "            # #Filter with two conditions\n",
    "            # '$filter': \"Language eq LexisNexis.ServicesApi.Language'English' and year(Date) eq 2024\",\n",
    "            '$select': 'ResultId, Title, Source',\n",
    "            '$orderby': 'Date asc'\n",
    "           }"
   ]
  },
  {
   "cell_type": "code",
   "execution_count": 22,
   "metadata": {},
   "outputs": [
    {
     "name": "stdout",
     "output_type": "stream",
     "text": [
      "Error occurred in function: 'call_api'\n",
      "error: 429 Client Error:  for url: https://services-api.lexisnexis.com/v1/News?%24search=Trump&%24expand=Document&%24select=ResultId%2C+Title%2C+Source&%24orderby=Date+asc\n",
      "args:()\n",
      "kwargs:{'access_token': 'NDc2MmU1NzMtNmJhMy00OTQyLTg4OGYtMWZlM2NkYjQwMjRj', 'endpoint': 'News', 'params': {'$search': 'Trump', '$expand': 'Document', '$select': 'ResultId, Title, Source', '$orderby': 'Date asc'}}\n",
      "STATUS CODE\n",
      "429\n"
     ]
    }
   ],
   "source": [
    "from requests import HTTPError\n",
    "try:\n",
    "    data = webservices.call_api(access_token=token,endpoint='News',params=parameters)  #Set endpoint='News'\n",
    "    data # response in json\n",
    "except HTTPError as e:\n",
    "    print(\"STATUS CODE\")\n",
    "    print(e.response.status_code)\n"
   ]
  },
  {
   "cell_type": "code",
   "execution_count": 9,
   "metadata": {},
   "outputs": [
    {
     "name": "stdout",
     "output_type": "stream",
     "text": [
      "{'@odata.context': 'https://services-api.lexisnexis.com/v1/$metadata#News(ResultId,Title,Source)', '@odata.count': 15493579, 'value': [{'ResultId': 'urn:contentItem:48B1-1JK0-01K9-04R7-00000-00', 'Title': 'Denial of elective franchise in South Carolina at election of 1876, pt. 1', 'Source': {'Id': '', 'Name': 'Primary Sources in U.S. Presidential History', 'ContentType': 'News'}}, {'ResultId': 'urn:contentItem:47DJ-HG40-01K9-003V-00000-00', 'Title': 'Address Before the 15th General Assembly of the United Nations, New York City', 'Source': {'Id': '', 'Name': 'Primary Sources in U.S. Presidential History', 'ContentType': 'News'}}, {'ResultId': 'urn:contentItem:6BM3-50R1-JBMY-H1NM-00000-00', 'Title': 'Chinese Mediation on the Eve of Modernization', 'Source': {'Id': '', 'Name': 'Journal of Asian and African Studies', 'ContentType': 'News'}}, {'ResultId': 'urn:contentItem:47DJ-HJK0-01K9-019G-00000-00', 'Title': 'Remarks in Morgantown at a Dinner Honoring Representative Harley O. Staggers of West Virginia .', 'Source': {'Id': '', 'Name': 'Primary Sources in U.S. Presidential History', 'ContentType': 'News'}}, {'ResultId': 'urn:contentItem:6BM3-05F1-DY41-72PR-00000-00', 'Title': 'Women in Business—Still a Difficult Climb', 'Source': {'Id': '', 'Name': 'Compensation & Benefits Review', 'ContentType': 'News'}}, {'ResultId': 'urn:contentItem:5TXJ-HVM1-F064-948V-00000-00', 'Title': 'No Headline In Original', 'Source': {'Id': '', 'Name': 'Tribune Content Agency - Tribune Photo Service', 'ContentType': 'News'}}, {'ResultId': 'urn:contentItem:5YDG-V831-JCR2-K2N9-00000-00', 'Title': 'No Headline In Original', 'Source': {'Id': '', 'Name': 'Tribune Content Agency - Tribune Photo Service', 'ContentType': 'News'}}, {'ResultId': 'urn:contentItem:5TXR-NGT1-JCR2-K1G3-00000-00', 'Title': 'No Headline In Original', 'Source': {'Id': '', 'Name': 'Tribune Content Agency - Tribune Photo Service', 'ContentType': 'News'}}, {'ResultId': 'urn:contentItem:5YF9-NR91-F064-94FD-00000-00', 'Title': 'No Headline In Original', 'Source': {'Id': '', 'Name': 'Tribune Content Agency - Tribune Photo Service', 'ContentType': 'News'}}, {'ResultId': 'urn:contentItem:63GS-7B31-JBYT-H444-00000-00', 'Title': 'Still Crazy About Trump', 'Source': {'Id': '', 'Name': 'Power Line', 'ContentType': 'News'}}], '@odata.nextLink': 'https://services-api.lexisnexis.com/v1/News?$search=Trump&$select=ResultId,%20Title,%20Source&$orderby=Date%20asc&$expand=Source&$skip=10'}\n"
     ]
    }
   ],
   "source": [
    "print(data)"
   ]
  },
  {
   "cell_type": "code",
   "execution_count": 10,
   "metadata": {},
   "outputs": [
    {
     "name": "stdout",
     "output_type": "stream",
     "text": [
      "ResultId : urn:contentItem:6D4C-9VV1-JCH9-G10D-00000-00\n",
      "Jurisdiction : International\n",
      "Location : International\n",
      "ContentType : News\n",
      "Byline : None\n",
      "WordLength : 702\n",
      "WebNewsUrl : None\n",
      "Geography : None\n",
      "NegativeNews : None\n",
      "Language : None\n",
      "Industry : None\n",
      "People : None\n",
      "Subject : None\n",
      "Section : None\n",
      "Company : None\n",
      "PublicationType : None\n",
      "Publisher : None\n",
      "GroupDuplicates : None\n",
      "InternationalLocation : None\n",
      "LEI : []\n",
      "CompanyName : []\n",
      "LNGI : []\n",
      "SearchWithinResults : None\n",
      "Exclusions : None\n",
      "ApprovedForAdvancedAIUsage : None\n",
      "SearchType : NaturalLanguageAnd\n",
      "Date : 2024-10-06T00:00:00Z\n",
      "Keyword : None\n",
      "Title : Meet five homegrown athletes who competed in Paris 2024 Olympics\n",
      "DocumentContent@odata.mediaReadLink : Documents(DocumentId='%2fshared%2fdocument%2fnews%2furn%3acontentItem%3a6D4C-9VV1-JCH9-G10D-00000-00',DocumentIdType='DocFullPath')/$value?ind=n\n",
      "DocumentContent@odata.mediaContentType : application/atom+xml\n",
      "Overview : Business Day, 702words\n",
      "Extracts : [{'Type': 'Extract', 'SummaryText': '<div><xhtml:span id=\"hits-1-TmlnZXJpYSBtYXkgaGF2ZSBtaXNzZWQgb3V0IG9mIHRoZSBtZWRhbCB0YWJsZXMgYXQgdGhl\" class=\"hits-fragment\" xmlns:xhtml=\"http://www.w3.org/1999/xhtml\">... Nigeria may have missed out of the medal tables at the recently concluded Paris <xhtml:span class=\"hit\">2024 Olympics</xhtml:span>. However, it is not an all-round glum for the sporting industry and participating athletes at the Olympics. For many of the participating athletes, it was an opportunity to showcase their talents on the world stage, especially for homegrown athletes. Among the positive takeaway for Nigeria is the age bracket of many of the athletes who represented Nigeria at the games. Many of these athletes in their... </xhtml:span></div>'}]\n",
      "IsCitationMatch : False\n",
      "SourcePath : n\n",
      "Source : {'Id': '', 'Name': 'Business Day', 'ContentType': 'News'}\n"
     ]
    }
   ],
   "source": [
    "for k in data[\"value\"][0].keys():\n",
    "    print(k, \":\", data[\"value\"][0][k])"
   ]
  },
  {
   "cell_type": "code",
   "execution_count": 7,
   "metadata": {},
   "outputs": [
    {
     "data": {
      "text/plain": [
       "'<entry xmlns=\"http://www.w3.org/2005/Atom\"><id>urn:contentItem:6D4C-9VV1-JCH9-G10D-00000-00</id><title>Meet five homegrown athletes who competed in Paris 2024 Olympics</title><published>2024-10-06T00:00:00Z</published><updated>2024-11-01T03:40:22Z</updated><author><name>LexisNexis</name></author><content type=\"application/xml\"><!--Transformation version 1.25--><articleDoc xmlns=\"\" xmlns:xsi=\"http://www.w3.org/2001/XMLSchema-instance\" xsi:noNamespaceSchemaLocation=\"http://www.lexisnexis.com/xmlschemas/content/public/articledoc/1/\" schemaVersion=\"1.8\" xml:lang=\"en\"><articleDocHead><itemInfo/></articleDocHead><nitf:body xmlns:nitf=\"http://iptc.org/std/NITF/2006-10-18/\"><nitf:body.head><nitf:hedline><nitf:hl1>Meet five homegrown athletes who competed in Paris 2024 Olympics</nitf:hl1></nitf:hedline></nitf:body.head><nitf:body.content><bodyText><p nitf:lede=\"true\">Nigeria may have missed out of the medal tables at the recently concluded Paris 2024 Olympics. However, it is not an all-round glum for the sporting industry and participating athletes at the Olympics.</p><p nitf:lede=\"true\">For many of the participating athletes, it was an opportunity to showcase their talents on the world stage, especially for homegrown athletes.</p><p nitf:lede=\"true\">Among the positive takeaway for Nigeria is the age bracket of many of the athletes who represented Nigeria at the games. Many of these athletes in their 20s competed on the global stage for the first time.</p><p>Among the shining stars were five athletes, all part of the MTN Champs Ambassadors, whose journeys from participating in the national, Pan-African championships and Olympics are nothing short of inspiring.</p><p>These athletes not only carried the hopes of a nation but also represented the success of homegrown initiatives like MTN Champs, which has been pivotal in nurturing Nigerian talent and advancing grassroots sports development.</p><p>Meet the five MTN Champs Ambassador who pushed boundaries, broke barriers to compete on the global stage:</p><p>Udodi Onwuzurike - 200m Sprint:</p><p>Onwuzurike was one of Nigeria\\'s leading sprinters at the Paris 2024 Olympics, competing in the 200m sprint. Known for his speed and agility, Udodi had previously represented Nigeria at major international events, earning his place among the world\\'s top sprinters. With a promising collegiate track record, including a gold medal at the World Athletics U20 Championships, Udodi represented Nigeria during the Olympics. As an MTN Champs Ambassador, his participation reflects the success of grassroots programs like MTN Champs in developing elite athletes for Nigeria.</p><p>Favour Ashe - 100m Sprint:</p><p>Ashe, another prominent MTN Champs Ambassador, competed in the 100m sprint at the Paris 2024 Olympics. Known for his lightning-fast starts, Ashe has quickly become one of Nigeria\\'s promising sprinters, and has consistently delivered strong performances on the track, having competed in global competitions leading up to the Games. His performance in Paris marked a significant step in his career, after emerging a semi-finalist during the 100m sprint. He continues to inspire young athletes through his journey.</p><p>Usheoritse Itsekiri - 100m Sprint:</p><p>Itsekiri brought his talent to the global stage at the 100m relay event in the Paris 2024 Olympics. He had previously represented Nigeria in the Tokyo 2020 Olympics and other international meets. As an MTN Champs Ambassador, he demonstrated the dedication and hard work required to succeed in one of the most competitive events in track and field. His experience and achievements position him as an important figure in Nigeria\\'s sprinting category.</p><p>Ruth Usoro - Triple Jump and Long Jump:</p><p>Usoro showcased her talents in both the triple jump and long jump events at the Paris 2024 Olympics. A key figure in Nigerian athletics, Usoro has consistently been among the best in these field events, and her participation in multiple events underlines her versatility. As an MTN Champs Ambassador, she became a role model for young Nigerian athletes, especially those venturing into field events. She highlights the program\\'s support for athletes across a variety of disciplines.</p><p>Chukwuebuka Enekwechi - Shot Put:</p><p>Enekwechi, representing Nigeria in the shot-put event, returned to the Paris 2024 Olympics following his impressive performance in the Tokyo 2020 Games. Making history as Africa\\'s second-best finisher in the shot put category. Enekwechi continues to push boundaries and inspire the next generation of athletes. As an MTN Champs Ambassador, he exemplifies the growth of Nigeria\\'s presence in field sports on the global stage.</p><p>While the Paris 2024 Olympics is long over, the accomplishments of these five MTN Champs Ambassadors are testaments to Nigeria\\'s growing presence in track and field. Their dedication, strength, and passion for their disciplines remind us that the future of Nigerian athletics is brighter than ever.</p><p>These athletes showed that with the right support and opportunities, anything is possible in track and field. As we celebrate their achievements, we look forward to seeing what the next generation of MTN Champs will bring to the world stage.</p></bodyText></nitf:body.content></nitf:body><metadata><dc:metadata xmlns:dc=\"http://purl.org/dc/elements/1.1/\"><dc:identifier identifierScheme=\"DOC-ID\">BUSDAY-BUSSDAY0610202400010032</dc:identifier><dc:source sourceScheme=\"royaltyReportingKey\">BUSDAY2024</dc:source><dc:identifier identifierScheme=\"PGUID\">urn:contentItem:6D4C-9VV1-JCH9-G10D-00000-00</dc:identifier><dc:source sourceScheme=\"productContentSetIdentifier\">436445</dc:source><dc:date dateType=\"last-updated\">2024-10-07</dc:date></dc:metadata><wordCount number=\"702\"/><publicationInfo><copyright>Copyright 2024 Business Day All Rights Reserved</copyright><publicationName><br/>Business Day</publicationName><publicationLogo><logo><inlineObject><locator><locatorKey><keyName name=\"object-key\"/><keyValue value=\"47543\"/></locatorKey><locatorParameters><parameter name=\"object-type\" value=\"201\"/><parameter name=\"object-smi\" value=\"LOGOS\"/><parameter name=\"componentseq\" value=\"1\"/></locatorParameters></locator></inlineObject></logo></publicationLogo><publicationDate day=\"06\" month=\"10\" year=\"2024\"><dateText>October 6, 2024 Sunday</dateText></publicationDate><classification classificationScheme=\"publicationtype\"><classificationItem><className>Newspaper</className></classificationItem></classification><classification classificationScheme=\"publicationtype\"><classificationItem><className>Industry Trade Press</className></classificationItem></classification></publicationInfo><classification classificationScheme=\"language\"><classificationItem classificationScheme=\"lang.english\"><className>English US</className></classificationItem></classification><classificationGroup classificationScheme=\"indexing-terms\"><classification classificationScheme=\"subject\"><classificationItem score=\"92\"><classCode>ST000DSJQ</classCode><className>2024 PARIS SUMMER OLYMPICS</className></classificationItem><classificationItem score=\"90\"><classCode>STX000327</classCode><className>COLLEGE &amp; UNIVERSITY SPORTS</className></classificationItem><classificationItem score=\"90\"><classCode>STX001246</classCode><className>OLYMPICS</className></classificationItem><classificationItem score=\"90\"><classCode>STX001615</classCode><className>SPORTS &amp; RECREATION</className></classificationItem><classificationItem score=\"90\"><classCode>ST0009U2J</classCode><className>SPORTS &amp; RECREATION EVENTS</className></classificationItem><classificationItem score=\"89\"><classCode>ST000A0G2</classCode><className>SUMMER OLYMPICS</className></classificationItem><classificationItem score=\"78\"><classCode>ST000DOCS</classCode><className>2020 TOKYO SUMMER OLYMPICS</className></classificationItem><classificationItem score=\"78\"><classCode>ST000CNT2</classCode><className>RUNNING</className></classificationItem><classificationItem score=\"78\"><classCode>ST0009IRB</classCode><className>SPORTS AWARDS</className></classificationItem><classificationItem score=\"78\"><classCode>STX001529</classCode><className>TRACK &amp; FIELD</className></classificationItem><classificationItem score=\"77\"><classCode>STX001970</classCode><className>TRENDS &amp; EVENTS</className></classificationItem><classificationItem score=\"74\"><classCode>N928120JM</classCode><className>EMBASSIES &amp; CONSULATES</className></classificationItem></classification><classification classificationScheme=\"industry\"><classificationItem score=\"90\"><classCode>STX000327</classCode><className>COLLEGE &amp; UNIVERSITY SPORTS</className></classificationItem></classification><classification classificationScheme=\"country\"><classificationItem score=\"96\"><classCode>GC334</classCode><className>NIGERIA</className></classificationItem><classificationItem score=\"79\"><classCode>GT111</classCode><className>AFRICA</className></classificationItem><classificationItem score=\"73\"><classCode>GC317</classCode><className>FRANCE</className></classificationItem></classification></classificationGroup></metadata></articleDoc></content></entry>'"
      ]
     },
     "execution_count": 7,
     "metadata": {},
     "output_type": "execute_result"
    }
   ],
   "source": [
    "top_result_data = data[\"value\"][0][\"Document\"][\"Content\"]\n",
    "top_result_data"
   ]
  },
  {
   "cell_type": "markdown",
   "metadata": {},
   "source": [
    "# Display"
   ]
  },
  {
   "cell_type": "code",
   "execution_count": 8,
   "metadata": {},
   "outputs": [
    {
     "name": "stderr",
     "output_type": "stream",
     "text": [
      "/var/folders/39/kgsx4rgd2sj8dwffgf80cfgr0000gq/T/ipykernel_81817/625531025.py:1: DeprecationWarning: Importing display from IPython.core.display is deprecated since IPython 7.14, please import from IPython.display\n",
      "  from IPython.core.display import display, HTML\n"
     ]
    },
    {
     "data": {
      "text/html": [
       "<entry xmlns=\"http://www.w3.org/2005/Atom\"><id>urn:contentItem:6D4C-9VV1-JCH9-G10D-00000-00</id><title>Meet five homegrown athletes who competed in Paris 2024 Olympics</title><published>2024-10-06T00:00:00Z</published><updated>2024-11-01T03:40:22Z</updated><author><name>LexisNexis</name></author><content type=\"application/xml\"><!--Transformation version 1.25--><articleDoc xmlns=\"\" xmlns:xsi=\"http://www.w3.org/2001/XMLSchema-instance\" xsi:noNamespaceSchemaLocation=\"http://www.lexisnexis.com/xmlschemas/content/public/articledoc/1/\" schemaVersion=\"1.8\" xml:lang=\"en\"><articleDocHead><itemInfo/></articleDocHead><nitf:body xmlns:nitf=\"http://iptc.org/std/NITF/2006-10-18/\"><nitf:body.head><nitf:hedline><nitf:hl1>Meet five homegrown athletes who competed in Paris 2024 Olympics</nitf:hl1></nitf:hedline></nitf:body.head><nitf:body.content><bodyText><p nitf:lede=\"true\">Nigeria may have missed out of the medal tables at the recently concluded Paris 2024 Olympics. However, it is not an all-round glum for the sporting industry and participating athletes at the Olympics.</p><p nitf:lede=\"true\">For many of the participating athletes, it was an opportunity to showcase their talents on the world stage, especially for homegrown athletes.</p><p nitf:lede=\"true\">Among the positive takeaway for Nigeria is the age bracket of many of the athletes who represented Nigeria at the games. Many of these athletes in their 20s competed on the global stage for the first time.</p><p>Among the shining stars were five athletes, all part of the MTN Champs Ambassadors, whose journeys from participating in the national, Pan-African championships and Olympics are nothing short of inspiring.</p><p>These athletes not only carried the hopes of a nation but also represented the success of homegrown initiatives like MTN Champs, which has been pivotal in nurturing Nigerian talent and advancing grassroots sports development.</p><p>Meet the five MTN Champs Ambassador who pushed boundaries, broke barriers to compete on the global stage:</p><p>Udodi Onwuzurike - 200m Sprint:</p><p>Onwuzurike was one of Nigeria's leading sprinters at the Paris 2024 Olympics, competing in the 200m sprint. Known for his speed and agility, Udodi had previously represented Nigeria at major international events, earning his place among the world's top sprinters. With a promising collegiate track record, including a gold medal at the World Athletics U20 Championships, Udodi represented Nigeria during the Olympics. As an MTN Champs Ambassador, his participation reflects the success of grassroots programs like MTN Champs in developing elite athletes for Nigeria.</p><p>Favour Ashe - 100m Sprint:</p><p>Ashe, another prominent MTN Champs Ambassador, competed in the 100m sprint at the Paris 2024 Olympics. Known for his lightning-fast starts, Ashe has quickly become one of Nigeria's promising sprinters, and has consistently delivered strong performances on the track, having competed in global competitions leading up to the Games. His performance in Paris marked a significant step in his career, after emerging a semi-finalist during the 100m sprint. He continues to inspire young athletes through his journey.</p><p>Usheoritse Itsekiri - 100m Sprint:</p><p>Itsekiri brought his talent to the global stage at the 100m relay event in the Paris 2024 Olympics. He had previously represented Nigeria in the Tokyo 2020 Olympics and other international meets. As an MTN Champs Ambassador, he demonstrated the dedication and hard work required to succeed in one of the most competitive events in track and field. His experience and achievements position him as an important figure in Nigeria's sprinting category.</p><p>Ruth Usoro - Triple Jump and Long Jump:</p><p>Usoro showcased her talents in both the triple jump and long jump events at the Paris 2024 Olympics. A key figure in Nigerian athletics, Usoro has consistently been among the best in these field events, and her participation in multiple events underlines her versatility. As an MTN Champs Ambassador, she became a role model for young Nigerian athletes, especially those venturing into field events. She highlights the program's support for athletes across a variety of disciplines.</p><p>Chukwuebuka Enekwechi - Shot Put:</p><p>Enekwechi, representing Nigeria in the shot-put event, returned to the Paris 2024 Olympics following his impressive performance in the Tokyo 2020 Games. Making history as Africa's second-best finisher in the shot put category. Enekwechi continues to push boundaries and inspire the next generation of athletes. As an MTN Champs Ambassador, he exemplifies the growth of Nigeria's presence in field sports on the global stage.</p><p>While the Paris 2024 Olympics is long over, the accomplishments of these five MTN Champs Ambassadors are testaments to Nigeria's growing presence in track and field. Their dedication, strength, and passion for their disciplines remind us that the future of Nigerian athletics is brighter than ever.</p><p>These athletes showed that with the right support and opportunities, anything is possible in track and field. As we celebrate their achievements, we look forward to seeing what the next generation of MTN Champs will bring to the world stage.</p></bodyText></nitf:body.content></nitf:body><metadata><dc:metadata xmlns:dc=\"http://purl.org/dc/elements/1.1/\"><dc:identifier identifierScheme=\"DOC-ID\">BUSDAY-BUSSDAY0610202400010032</dc:identifier><dc:source sourceScheme=\"royaltyReportingKey\">BUSDAY2024</dc:source><dc:identifier identifierScheme=\"PGUID\">urn:contentItem:6D4C-9VV1-JCH9-G10D-00000-00</dc:identifier><dc:source sourceScheme=\"productContentSetIdentifier\">436445</dc:source><dc:date dateType=\"last-updated\">2024-10-07</dc:date></dc:metadata><wordCount number=\"702\"/><publicationInfo><copyright>Copyright 2024 Business Day All Rights Reserved</copyright><publicationName><br/>Business Day</publicationName><publicationLogo><logo><inlineObject><locator><locatorKey><keyName name=\"object-key\"/><keyValue value=\"47543\"/></locatorKey><locatorParameters><parameter name=\"object-type\" value=\"201\"/><parameter name=\"object-smi\" value=\"LOGOS\"/><parameter name=\"componentseq\" value=\"1\"/></locatorParameters></locator></inlineObject></logo></publicationLogo><publicationDate day=\"06\" month=\"10\" year=\"2024\"><dateText>October 6, 2024 Sunday</dateText></publicationDate><classification classificationScheme=\"publicationtype\"><classificationItem><className>Newspaper</className></classificationItem></classification><classification classificationScheme=\"publicationtype\"><classificationItem><className>Industry Trade Press</className></classificationItem></classification></publicationInfo><classification classificationScheme=\"language\"><classificationItem classificationScheme=\"lang.english\"><className>English US</className></classificationItem></classification><classificationGroup classificationScheme=\"indexing-terms\"><classification classificationScheme=\"subject\"><classificationItem score=\"92\"><classCode>ST000DSJQ</classCode><className>2024 PARIS SUMMER OLYMPICS</className></classificationItem><classificationItem score=\"90\"><classCode>STX000327</classCode><className>COLLEGE &amp; UNIVERSITY SPORTS</className></classificationItem><classificationItem score=\"90\"><classCode>STX001246</classCode><className>OLYMPICS</className></classificationItem><classificationItem score=\"90\"><classCode>STX001615</classCode><className>SPORTS &amp; RECREATION</className></classificationItem><classificationItem score=\"90\"><classCode>ST0009U2J</classCode><className>SPORTS &amp; RECREATION EVENTS</className></classificationItem><classificationItem score=\"89\"><classCode>ST000A0G2</classCode><className>SUMMER OLYMPICS</className></classificationItem><classificationItem score=\"78\"><classCode>ST000DOCS</classCode><className>2020 TOKYO SUMMER OLYMPICS</className></classificationItem><classificationItem score=\"78\"><classCode>ST000CNT2</classCode><className>RUNNING</className></classificationItem><classificationItem score=\"78\"><classCode>ST0009IRB</classCode><className>SPORTS AWARDS</className></classificationItem><classificationItem score=\"78\"><classCode>STX001529</classCode><className>TRACK &amp; FIELD</className></classificationItem><classificationItem score=\"77\"><classCode>STX001970</classCode><className>TRENDS &amp; EVENTS</className></classificationItem><classificationItem score=\"74\"><classCode>N928120JM</classCode><className>EMBASSIES &amp; CONSULATES</className></classificationItem></classification><classification classificationScheme=\"industry\"><classificationItem score=\"90\"><classCode>STX000327</classCode><className>COLLEGE &amp; UNIVERSITY SPORTS</className></classificationItem></classification><classification classificationScheme=\"country\"><classificationItem score=\"96\"><classCode>GC334</classCode><className>NIGERIA</className></classificationItem><classificationItem score=\"79\"><classCode>GT111</classCode><className>AFRICA</className></classificationItem><classificationItem score=\"73\"><classCode>GC317</classCode><className>FRANCE</className></classificationItem></classification></classificationGroup></metadata></articleDoc></content></entry>"
      ],
      "text/plain": [
       "<IPython.core.display.HTML object>"
      ]
     },
     "metadata": {},
     "output_type": "display_data"
    }
   ],
   "source": [
    "from IPython.core.display import display, HTML\n",
    "display(HTML(top_result_data))"
   ]
  },
  {
   "cell_type": "code",
   "execution_count": 18,
   "metadata": {},
   "outputs": [
    {
     "name": "stdout",
     "output_type": "stream",
     "text": [
      "Nigeria may have missed out of the medal tables at the recently concluded Paris 2024 Olympics. However, it is not an all-round glum for the sporting industry and participating athletes at the Olympics.\n",
      "For many of the participating athletes, it was an opportunity to showcase their talents on the world stage, especially for homegrown athletes.\n",
      "Among the positive takeaway for Nigeria is the age bracket of many of the athletes who represented Nigeria at the games. Many of these athletes in their 20s competed on the global stage for the first time.\n",
      "Among the shining stars were five athletes, all part of the MTN Champs Ambassadors, whose journeys from participating in the national, Pan-African championships and Olympics are nothing short of inspiring.\n",
      "These athletes not only carried the hopes of a nation but also represented the success of homegrown initiatives like MTN Champs, which has been pivotal in nurturing Nigerian talent and advancing grassroots sports development.\n",
      "Meet the five MTN Champs Ambassador who pushed boundaries, broke barriers to compete on the global stage:\n",
      "Udodi Onwuzurike - 200m Sprint:\n",
      "Onwuzurike was one of Nigeria's leading sprinters at the Paris 2024 Olympics, competing in the 200m sprint. Known for his speed and agility, Udodi had previously represented Nigeria at major international events, earning his place among the world's top sprinters. With a promising collegiate track record, including a gold medal at the World Athletics U20 Championships, Udodi represented Nigeria during the Olympics. As an MTN Champs Ambassador, his participation reflects the success of grassroots programs like MTN Champs in developing elite athletes for Nigeria.\n",
      "Favour Ashe - 100m Sprint:\n",
      "Ashe, another prominent MTN Champs Ambassador, competed in the 100m sprint at the Paris 2024 Olympics. Known for his lightning-fast starts, Ashe has quickly become one of Nigeria's promising sprinters, and has consistently delivered strong performances on the track, having competed in global competitions leading up to the Games. His performance in Paris marked a significant step in his career, after emerging a semi-finalist during the 100m sprint. He continues to inspire young athletes through his journey.\n",
      "Usheoritse Itsekiri - 100m Sprint:\n",
      "Itsekiri brought his talent to the global stage at the 100m relay event in the Paris 2024 Olympics. He had previously represented Nigeria in the Tokyo 2020 Olympics and other international meets. As an MTN Champs Ambassador, he demonstrated the dedication and hard work required to succeed in one of the most competitive events in track and field. His experience and achievements position him as an important figure in Nigeria's sprinting category.\n",
      "Ruth Usoro - Triple Jump and Long Jump:\n",
      "Usoro showcased her talents in both the triple jump and long jump events at the Paris 2024 Olympics. A key figure in Nigerian athletics, Usoro has consistently been among the best in these field events, and her participation in multiple events underlines her versatility. As an MTN Champs Ambassador, she became a role model for young Nigerian athletes, especially those venturing into field events. She highlights the program's support for athletes across a variety of disciplines.\n",
      "Chukwuebuka Enekwechi - Shot Put:\n",
      "Enekwechi, representing Nigeria in the shot-put event, returned to the Paris 2024 Olympics following his impressive performance in the Tokyo 2020 Games. Making history as Africa's second-best finisher in the shot put category. Enekwechi continues to push boundaries and inspire the next generation of athletes. As an MTN Champs Ambassador, he exemplifies the growth of Nigeria's presence in field sports on the global stage.\n",
      "While the Paris 2024 Olympics is long over, the accomplishments of these five MTN Champs Ambassadors are testaments to Nigeria's growing presence in track and field. Their dedication, strength, and passion for their disciplines remind us that the future of Nigerian athletics is brighter than ever.\n",
      "These athletes showed that with the right support and opportunities, anything is possible in track and field. As we celebrate their achievements, we look forward to seeing what the next generation of MTN Champs will bring to the world stage.\n"
     ]
    }
   ],
   "source": [
    "from bs4 import BeautifulSoup\n",
    "\n",
    "BS = BeautifulSoup(top_result_data, \"lxml\")\n",
    "\n",
    "text = \"\\n\".join([p.get_text(\" \", strip=True) for p in BS.find_all(\"p\")])\n",
    "print(text)"
   ]
  },
  {
   "cell_type": "code",
   "execution_count": null,
   "metadata": {},
   "outputs": [],
   "source": []
  }
 ],
 "metadata": {
  "kernelspec": {
   "display_name": "jupyter",
   "language": "python",
   "name": "python3"
  },
  "language_info": {
   "codemirror_mode": {
    "name": "ipython",
    "version": 3
   },
   "file_extension": ".py",
   "mimetype": "text/x-python",
   "name": "python",
   "nbconvert_exporter": "python",
   "pygments_lexer": "ipython3",
   "version": "3.13.0"
  }
 },
 "nbformat": 4,
 "nbformat_minor": 2
}
