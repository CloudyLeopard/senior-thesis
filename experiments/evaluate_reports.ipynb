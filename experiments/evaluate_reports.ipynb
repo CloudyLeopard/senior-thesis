{
 "cells": [
  {
   "cell_type": "markdown",
   "metadata": {},
   "source": [
    "## Evaluate Reports\n",
    "\n",
    "Head-to-head comparison by LLM between all the reports"
   ]
  },
  {
   "cell_type": "code",
   "execution_count": 1,
   "metadata": {},
   "outputs": [],
   "source": [
    "import json\n",
    "import asyncio\n",
    "from kruppe.llm import OpenAILLM\n",
    "from kruppe.prompts.experiments import EVALUATE_REPORT_USER, EVALUATE_REPORT_SYSTEM\n",
    "\n",
    "llm = OpenAILLM(model=\"gpt-4.1\")\n"
   ]
  },
  {
   "cell_type": "markdown",
   "metadata": {},
   "source": [
    "## Definen Evaluate Report Method"
   ]
  },
  {
   "cell_type": "code",
   "execution_count": 2,
   "metadata": {},
   "outputs": [],
   "source": [
    "async def evaluate_reports(query: str, report1_loc: str, report2_loc: str):\n",
    "    # assuming report 1 is kruppe's\n",
    "    with open(report1_loc, \"r\") as f:\n",
    "        data = json.load(f)\n",
    "        reports_1 = data['research_reports']\n",
    "\n",
    "    # report 2 is the vanillas or human report, so we just pick one of them\n",
    "    if report2_loc.endswith(\".txt\"):\n",
    "        with open(report2_loc, \"r\") as f:\n",
    "            report_2_txt = f.read()\n",
    "    else:\n",
    "        with open(report2_loc, \"r\") as f:\n",
    "            data = json.load(f)\n",
    "            reports_2 = data['research_reports']\n",
    "            report_2 = reports_2[0]\n",
    "            report_2_txt = report_2['text']\n",
    "        \n",
    "    # assuming report 1 is kruppe's\n",
    "\n",
    "    async with asyncio.TaskGroup() as tg:\n",
    "        tasks = []\n",
    "        for report_1 in reports_1:\n",
    "\n",
    "            user_message=EVALUATE_REPORT_USER.format(\n",
    "                query=query,\n",
    "                answer1=report_1['text'],\n",
    "                answer2=report_2_txt\n",
    "            )\n",
    "\n",
    "            messages = [\n",
    "                {\"role\": \"system\", \"content\": EVALUATE_REPORT_SYSTEM},\n",
    "                {\"role\": \"user\", \"content\": user_message},\n",
    "            ]\n",
    "\n",
    "            task = tg.create_task(llm.async_generate(messages))\n",
    "            tasks.append(task)\n",
    "\n",
    "    results = [task.result() for task in tasks]\n",
    "\n",
    "    \n",
    "    return {\n",
    "        \"query\": query,\n",
    "        \"evals\": [result.text for result in results],\n",
    "    }"
   ]
  },
  {
   "cell_type": "code",
   "execution_count": 3,
   "metadata": {},
   "outputs": [
    {
     "data": {
      "text/plain": [
       "{'query': 'How is ConocoPhillips positioned to deliver sustained free cash flow growth and shareholder returns in the coming years amid its current investment cycle and market conditions?',\n",
       " 'evals': ['{\\n    \"Empowerment\": { \\n        \"Winner\": \"Answer 2\", \\n        \"Explanation\": \"Answer 2 most effectively empowers the reader by clearly breaking down ConocoPhillips’ positioning into key themes and sub-components (asset portfolio, capital allocation, shareholder returns, risk management) with concise supporting evidence and industry context. The direct use of metrics, references to management actions and external validations, as well as links to primary sources, make it easier for the reader to internalize the information and form an informed judgment about the company’s outlook. Answer 1, while thorough and insightful, is written in a more abstract, narrative style and is slightly less actionable for non-expert readers seeking a quick but robust understanding.\" \\n    },\\n    \"Cohesiveness\": { \\n        \"Winner\": \"Answer 2\", \\n        \"Explanation\": \"Answer 2 follows a logical and easily traceable structure, progressing from portfolio strengths through capital discipline and shareholder returns, to overall risk management and conclusion. Each section builds upon the last and supports the overall thesis, resulting in a coherent narrative thread. By contrast, Answer 1, while possessing a clear hypothesis and analytic flow, is somewhat denser: the organization is less modular, with details embedded throughout rather than compartmentalized, sometimes making it harder to track the main argument’s development.\" \\n    },\\n    \"Comprehensiveness\": { \\n        \"Winner\": \"Answer 2\", \\n        \"Explanation\": \"Both answers are strong, but Answer 2 covers more bases with specific, up-to-date data (e.g., break-even prices, production guidance, explicit reference to major deals), a broader discussion of operational and financial metrics, programmatic capital allocation, and reference to external validations like credit ratings and analyst calls. It further addresses shareholder return models, environmental/transition strategies, and even specific cost controls. Answer 1 is comprehensive in diagnosis, but somewhat more generalist and less granular regarding recent financial/operational updates.\" \\n    },\\n    \"Diversity\": { \\n        \"Winner\": \"Answer 2\", \\n        \"Explanation\": \"Answer 2 provides greater diversity by integrating multiple perspectives—company strategy, peer benchmarking, analyst and ratings agency viewpoints, and the macro/energy transition angle—alongside quantitative and qualitative elements. It references several external sources directly, offering richness of insight and enabling the reader to see the issue from various vantage points, including investor, analyst, and management. Answer 1, while analytical, relies more on an internal narrative and combined synthesis, with fewer disparate viewpoints or external validations.\" \\n    },\\n    \"Overall Winner\": { \\n        \"Winner\": \"Answer 2\", \\n        \"Explanation\": \"Answer 2 is the overall winner as it consistently outperforms Answer 1 across all criteria. It provides a clear, well-structured, and comprehensive assessment by integrating quantitative data, external views, and detailed, up-to-date company specifics. This multifaceted approach simultaneously empowers readers with actionable insights, presents a cohesive analysis, covers a wider range of issues, and brings in diverse perspectives that culminate in a persuasive, authoritative evaluation of ConocoPhillips’ positioning.\" \\n    }\\n}',\n",
       "  '{\\n    \"Empowerment\": { \\n        \"Winner\": \"Answer 2\", \\n        \"Explanation\": \"Answer 2 provides a well-structured framework that helps readers understand not only what ConocoPhillips is doing, but also why these actions position the company well for sustained free cash flow growth and shareholder returns. The use of concrete data points (break-even prices, FCF metrics, CapEx guidance), recent events, analyst commentary, and explicit risk factors empowers the reader to make informed judgments. Answer 1, while sound conceptually, is more limited in actionable specifics and less transparent in its evidence base.\" \\n    },\\n    \"Cohesiveness\": { \\n        \"Winner\": \"Answer 2\", \\n        \"Explanation\": \"Answer 2 follows a clear, logical structure, presenting the case in discrete, well-labeled sections that all tie back to the central thesis. Each section builds on the previous point and is supported by relevant data and references, culminating in a conclusion that effectively synthesizes the narrative. Answer 1, while maintaining a central hypothesis and summarizing main points, is more fragmented due to repeated references to research limitations and process rather than weaving a complete story of ConocoPhillips’ positioning.\" \\n    },\\n    \"Comprehensiveness\": { \\n        \"Winner\": \"Answer 2\", \\n        \"Explanation\": \"Answer 2 covers all major facets of the question: asset portfolio quality, investment discipline, financial position, shareholder return mechanisms, risk management, and even sustainability initiatives. The answer draws on recent data, company guidance, market context, and external analyst perspectives. Answer 1, on the other hand, is less comprehensive, often referencing unavailable data and focusing more on general strategies without as much depth on execution, data, or the broader operating context.\" \\n    },\\n    \"Diversity\": { \\n        \"Winner\": \"Answer 2\", \\n        \"Explanation\": \"Answer 2 offers a broader diversity of perspectives by integrating not just ConocoPhillips’ strategies but also referencing industry analysts, credit rating agencies, and macroeconomic risks. It discusses both traditional oil & gas and the energy transition, as well as specific regional plays and shareholder distribution strategies. Answer 1, though it mentions several asset classes and market risks, is primarily framed from an internal/corporate angle and less rich in third-party or external perspectives.\" \\n    },\\n    \"Overall Winner\": { \\n        \"Winner\": \"Answer 2\", \\n        \"Explanation\": \"Answer 2 consistently outperforms across all evaluated criteria. It provides a cohesive narrative, robust data-supported insights, diverse perspectives (including external validation), and empowers the reader by synthesizing company strategy, financials, and risk factors into a well-rounded evaluation. Answer 1, while competent, is weaker in terms of direct evidence, narrative cohesion, and breadth.\" \\n    }\\n}',\n",
       "  '{\\n    \"Empowerment\": {\\n        \"Winner\": \"Answer 2\",\\n        \"Explanation\": \"Answer 2 clearly empowers the reader by explicitly laying out the company\\'s strategy, providing industry context, and enumerating potential risks and mitigations in an accessible manner. The structure of the answer—with distinct sections and bullet points—helps the reader understand not just the \\'what,\\' but also the \\'why\\' behind ConocoPhillips’ positioning, enabling more informed judgments about its long-term prospects.\"\\n    },\\n    \"Cohesiveness\": {\\n        \"Winner\": \"Answer 2\",\\n        \"Explanation\": \"Answer 2 is more cohesive, following a logical and narrative progression through ConocoPhillips’ asset quality, capital allocation, shareholder returns policy, and risk management. Each section connects seamlessly, supporting the central thesis, and the use of structured headings and ordered points ensures clarity and flow throughout the analysis. Answer 1, though logically paced, feels more like a sequence of findings rather than a unified story.\"\\n    },\\n    \"Comprehensiveness\": {\\n        \"Winner\": \"Answer 2\",\\n        \"Explanation\": \"Answer 2 covers a broader array of aspects relevant to the question, including operational strengths, capital allocation, return of capital initiatives, M&A activity, cost discipline, and approaches to both cyclical and structural risks like the energy transition. It references supporting evidence and industry sources, providing a more complete picture. Answer 1 is thorough in its financial and operational review, but does not address some important dimensions like capital returns specificity, energy transition, risk factors, or recent M&A activity.\"\\n    },\\n    \"Diversity\": {\\n        \"Winner\": \"Answer 2\",\\n        \"Explanation\": \"Answer 2 stands out for diversity—it draws on multiple analytical angles (financials, operations, strategy, M&A, risk, ESG, peer comparison), provides qualitative and quantitative evidence, and incorporates perspectives from management commentary, credit ratings, external analyst outlooks, and industry context. Answer 1, while solid on internal financial and operational data, lacks such breadth of perspectives and contextual variety.\"\\n    },\\n    \"Overall Winner\": {\\n        \"Winner\": \"Answer 2\",\\n        \"Explanation\": \"Answer 2 is the overall winner. It excels in empowering the reader to understand both the strengths and risks of ConocoPhillips’ positioning, offers a cohesive narrative, is more comprehensive in addressing the multi-faceted question, and consistently draws on diverse sources, perspectives, and industry insights. Answer 1 presents a solid, data-driven analysis but falls short of the breadth, narrative clarity, and actionable empowerment offered by Answer 2.\"\\n    }\\n}',\n",
       "  '{\\n    \"Empowerment\": { \\n        \"Winner\": \"Answer 2\", \\n        \"Explanation\": \"Answer 2 does a better job at providing actionable, focused arguments about the company\\'s positioning. It translates financial and strategic details into reader-friendly judgments and highlights the essential factors (like low break-evens, FCF flexibility, and capital distribution policies) that readers should monitor. By tying insights directly to shareholder considerations and market conditions, Answer 2 equips readers to make more informed judgments on ConocoPhillips\\' prospects and risks.\" \\n    },\\n    \"Cohesiveness\": { \\n        \"Winner\": \"Answer 2\", \\n        \"Explanation\": \"Answer 2 offers a clear, logical flow, starting with the company\\'s asset base, moving through financial discipline, returns policies, and risk management, and finishing with a succinct conclusion. Each section builds upon the previous, with direct supporting evidence and referenced sources tying the narrative together. In contrast, Answer 1, while comprehensive, is more sectioned and sometimes repetitive, lacking a clearly unified story from start to finish.\" \\n    },\\n    \"Comprehensiveness\": { \\n        \"Winner\": \"Answer 1\", \\n        \"Explanation\": \"Answer 1 delves deeply into a wide range of financial metrics (income, EBITDA, ROCE, dividend policy, capital intensity, debt, etc.) and covers both qualitative and quantitative factors. It even recommends further research directions, offering more detailed underlying analysis and perspective. Answer 2, while thorough in its strategic arguments, condenses granular financial data into higher-level takeaways and is less granular in financial details.\" \\n    },\\n    \"Diversity\": { \\n        \"Winner\": \"Answer 2\", \\n        \"Explanation\": \"Answer 2 excels at bringing in multiple perspectives: it references management guidance, external credit ratings, peer benchmarks, strategic initiatives on energy transition, risk mitigation tactics, and market and regulatory considerations. Answer 1 is more internally-focused on ConocoPhillips’ direct financials and capital allocation, with less incorporation of external viewpoints, peer context, or broader industry dynamics.\" \\n    },\\n    \"Overall Winner\": { \\n        \"Winner\": \"Answer 2\", \\n        \"Explanation\": \"Answer 2 emerges as the overall winner due to its strong empowerment of the reader, a highly cohesive structure and narrative, and greater diversity of perspectives and external validation. While Answer 1 is more comprehensive concerning raw financial analysis, Answer 2 delivers a more digestible and multifaceted account that ties the elements together in a way that is accessible and actionable for decision-makers or investors.\" \\n    }\\n}',\n",
       "  '{\\n    \"Empowerment\": { \\n        \"Winner\": \"Answer 2\", \\n        \"Explanation\": \"Answer 2 does a better job of educating the reader about the key factors impacting ConocoPhillips’ performance, such as break-even price, capital allocation discipline, risk factors, and energy transition strategy. It also offers actionable frameworks (e.g., monitoring commodity prices, capital discipline). This empowers readers to form informed judgments by providing both qualitative and quantitative support. The clear breakdowns under each section and explicit references further aid in understanding.\" \\n    },\\n    \"Cohesiveness\": { \\n        \"Winner\": \"Answer 2\", \\n        \"Explanation\": \"Answer 2’s structure flows logically, from assets to capital allocation to returns and risk management, concluding with a clear synthesis and references. Each section builds upon the last, contributing to a unified narrative that addresses the question from a central thesis and maintains alignment throughout. By contrast, Answer 1, while following a narrative, sometimes jumps between details (e.g., acquisition specifics, hypothecation of financial results) and lacks explicit section breaks that make the argument digestible as a connected whole.\" \\n    },\\n    \"Comprehensiveness\": { \\n        \"Winner\": \"Answer 2\", \\n        \"Explanation\": \"Answer 2 covers all relevant aspects in detail: asset base, investment/capital discipline, shareholder returns, risk management, and forward-looking strategies (like energy transition and inflation mitigation). It also contextualizes the company amidst peers and industry trends and provides supporting evidence from multiple sources. Answer 1, while thorough on acquisition impacts and capital allocation, is more limited in its exploration of risk and lacks as much explicit discussion of industry context or capital discipline frameworks.\" \\n    },\\n    \"Diversity\": { \\n        \"Winner\": \"Answer 2\", \\n        \"Explanation\": \"Answer 2 brings in diverse perspectives and dimensions—such as transition risk, global context, balance sheet and credit ratings, supply chain/inflation, and various types of shareholder return mechanisms. It references multiple types of evidence (management commentary, ratings agencies, analyst research, EIA data), which adds both richness and variety to the answer. Answer 1, though strong on merger integration and financial performance, focuses primarily on internal strategy and less on broader market or stakeholder perspectives.\" \\n    },\\n    \"Overall Winner\": { \\n        \"Winner\": \"Answer 2\", \\n        \"Explanation\": \"Answer 2 is superior across all four criteria: it most effectively empowers readers, offers the most cohesive and comprehensible narrative, covers the broadest spectrum of relevant factors and risks, and brings in the largest diversity of perspectives and insights. Its organization, clarity, and integration of multiple viewpoints make it the most robust and useful response to the question of ConocoPhillips’ positioning for future free cash flow growth and shareholder returns.\" \\n    }\\n}',\n",
       "  '{\\n    \"Empowerment\": { \\n        \"Winner\": \"Answer 2\", \\n        \"Explanation\": \"Answer 2 does a superior job in equipping the reader to make informed judgments about ConocoPhillips’ positioning. It distills strategic drivers (low-cost assets, active capital allocation, resilient cash return strategies) and explicitly connects actions to results. The answer consistently references current and forward-looking data, provides industry benchmarks, and highlights risks (energy transition, price volatility), allowing readers to weigh the company’s strengths against ongoing uncertainties. References to reputable sources further empower readers to investigate and validate statements.\" \\n    },\\n    \"Cohesiveness\": { \\n        \"Winner\": \"Answer 2\", \\n        \"Explanation\": \"Answer 2 is organized around clearly defined pillars—assets, capital allocation, shareholder return, risk management—moving smoothly through each with supportive evidence and logical transitions. A central narrative of disciplined strategy supporting FCF and shareholder returns runs throughout. Each section builds upon the previous one, making the argument easy to follow. In contrast, Answer 1, while structurally sound, is somewhat segmented and oscillates between data presentation and narrative without tightly integrating them around a unifying storyline.\" \\n    },\\n    \"Comprehensiveness\": { \\n        \"Winner\": \"Answer 2\", \\n        \"Explanation\": \"Answer 2 covers all aspects of the question thoroughly: it examines asset quality, production growth, capital allocation, dividends and buybacks, market/industry context, risk adaptation, and even touches on ESG (environmental, social, and governance) and energy transition activities. It supports claims with specific examples and current metrics. Answer 1, while detailed and methodical in its financial analysis, is more tentative (e.g., caveats about unavailable data) and omits some forward-looking strategic elements (like ESG and transition plans) that are critical for sustained performance in the sector.\"\\n    },\\n    \"Diversity\": { \\n        \"Winner\": \"Answer 2\", \\n        \"Explanation\": \"Answer 2 brings in a variety of perspectives: company financials, management strategy, M&A activity, operational flexibility, market/industry context, credit agency views, and sell-side analyst opinions. It also considers risks, opportunities (energy transition), and wider sectoral benchmarks. Answer 1’s diversity is more limited—it largely revolves around financial statements, with briefer reference to external market dynamics and less attention to strategic adaptation or external validation.\" \\n    },\\n    \"Overall Winner\": { \\n        \"Winner\": \"Answer 2\", \\n        \"Explanation\": \"Answer 2 is the overall winner because it excels across all criteria: it tells a cohesive, empowering story that integrates financial, strategic, and market perspectives, giving readers a comprehensive and nuanced outlook on ConocoPhillips’ positioning. Its use of robust supporting evidence and diversified viewpoints deepens the analysis, while its structure enhances clarity and logical flow. Answer 1 is solid but more narrowly focused and less confident or expansive on forward-looking and strategic factors.\" \\n    }\\n}']}"
      ]
     },
     "execution_count": 3,
     "metadata": {},
     "output_type": "execute_result"
    }
   ],
   "source": [
    "await evaluate_reports(\n",
    "    \"How is ConocoPhillips positioned to deliver sustained free cash flow growth and shareholder returns in the coming years amid its current investment cycle and market conditions?\",\n",
    "    \"./kruppe_report/report_0.json\",\n",
    "    \"./vanilla_report_4.1/report_0.json\",\n",
    ")"
   ]
  },
  {
   "cell_type": "markdown",
   "metadata": {},
   "source": [
    "## Pair Up Comparison"
   ]
  },
  {
   "cell_type": "code",
   "execution_count": 3,
   "metadata": {},
   "outputs": [
    {
     "data": {
      "text/html": [
       "<div>\n",
       "<style scoped>\n",
       "    .dataframe tbody tr th:only-of-type {\n",
       "        vertical-align: middle;\n",
       "    }\n",
       "\n",
       "    .dataframe tbody tr th {\n",
       "        vertical-align: top;\n",
       "    }\n",
       "\n",
       "    .dataframe thead th {\n",
       "        text-align: right;\n",
       "    }\n",
       "</style>\n",
       "<table border=\"1\" class=\"dataframe\">\n",
       "  <thead>\n",
       "    <tr style=\"text-align: right;\">\n",
       "      <th></th>\n",
       "      <th>category</th>\n",
       "      <th>human_report_loc</th>\n",
       "      <th>question</th>\n",
       "    </tr>\n",
       "  </thead>\n",
       "  <tbody>\n",
       "    <tr>\n",
       "      <th>0</th>\n",
       "      <td>Energy (Oil)</td>\n",
       "      <td>/Users/danielliu/Workspace/fin-rag/experiments...</td>\n",
       "      <td>How is ConocoPhillips positioned to deliver su...</td>\n",
       "    </tr>\n",
       "    <tr>\n",
       "      <th>1</th>\n",
       "      <td>Energy (Oil)</td>\n",
       "      <td>/Users/danielliu/Workspace/fin-rag/experiments...</td>\n",
       "      <td>What is the outlook for Chevron Corporation’s ...</td>\n",
       "    </tr>\n",
       "    <tr>\n",
       "      <th>2</th>\n",
       "      <td>Energy (Oil)</td>\n",
       "      <td>/Users/danielliu/Workspace/fin-rag/experiments...</td>\n",
       "      <td>What are the updated financial prospects and i...</td>\n",
       "    </tr>\n",
       "    <tr>\n",
       "      <th>3</th>\n",
       "      <td>Energy (Oil)</td>\n",
       "      <td>/Users/danielliu/Workspace/fin-rag/experiments...</td>\n",
       "      <td>What is the investment outlook for Exxon Mobil...</td>\n",
       "    </tr>\n",
       "    <tr>\n",
       "      <th>4</th>\n",
       "      <td>Energy (Oil)</td>\n",
       "      <td>/Users/danielliu/Workspace/fin-rag/experiments...</td>\n",
       "      <td>What is the investment outlook for ConocoPhill...</td>\n",
       "    </tr>\n",
       "    <tr>\n",
       "      <th>...</th>\n",
       "      <td>...</td>\n",
       "      <td>...</td>\n",
       "      <td>...</td>\n",
       "    </tr>\n",
       "    <tr>\n",
       "      <th>68</th>\n",
       "      <td>NVDA</td>\n",
       "      <td>/Users/danielliu/Workspace/fin-rag/experiments...</td>\n",
       "      <td>What are the key expectations, product announc...</td>\n",
       "    </tr>\n",
       "    <tr>\n",
       "      <th>69</th>\n",
       "      <td>NVDA</td>\n",
       "      <td>/Users/danielliu/Workspace/fin-rag/experiments...</td>\n",
       "      <td>What are the current trends, risks, and invest...</td>\n",
       "    </tr>\n",
       "    <tr>\n",
       "      <th>70</th>\n",
       "      <td>NVDA</td>\n",
       "      <td>/Users/danielliu/Workspace/fin-rag/experiments...</td>\n",
       "      <td>What is the current and projected financial an...</td>\n",
       "    </tr>\n",
       "    <tr>\n",
       "      <th>71</th>\n",
       "      <td>NVDA</td>\n",
       "      <td>/Users/danielliu/Workspace/fin-rag/experiments...</td>\n",
       "      <td>What are the current trends, challenges, and o...</td>\n",
       "    </tr>\n",
       "    <tr>\n",
       "      <th>72</th>\n",
       "      <td>NVDA</td>\n",
       "      <td>/Users/danielliu/Workspace/fin-rag/experiments...</td>\n",
       "      <td>What are the key factors and developments that...</td>\n",
       "    </tr>\n",
       "  </tbody>\n",
       "</table>\n",
       "<p>73 rows × 3 columns</p>\n",
       "</div>"
      ],
      "text/plain": [
       "        category                                   human_report_loc  \\\n",
       "0   Energy (Oil)  /Users/danielliu/Workspace/fin-rag/experiments...   \n",
       "1   Energy (Oil)  /Users/danielliu/Workspace/fin-rag/experiments...   \n",
       "2   Energy (Oil)  /Users/danielliu/Workspace/fin-rag/experiments...   \n",
       "3   Energy (Oil)  /Users/danielliu/Workspace/fin-rag/experiments...   \n",
       "4   Energy (Oil)  /Users/danielliu/Workspace/fin-rag/experiments...   \n",
       "..           ...                                                ...   \n",
       "68          NVDA  /Users/danielliu/Workspace/fin-rag/experiments...   \n",
       "69          NVDA  /Users/danielliu/Workspace/fin-rag/experiments...   \n",
       "70          NVDA  /Users/danielliu/Workspace/fin-rag/experiments...   \n",
       "71          NVDA  /Users/danielliu/Workspace/fin-rag/experiments...   \n",
       "72          NVDA  /Users/danielliu/Workspace/fin-rag/experiments...   \n",
       "\n",
       "                                             question  \n",
       "0   How is ConocoPhillips positioned to deliver su...  \n",
       "1   What is the outlook for Chevron Corporation’s ...  \n",
       "2   What are the updated financial prospects and i...  \n",
       "3   What is the investment outlook for Exxon Mobil...  \n",
       "4   What is the investment outlook for ConocoPhill...  \n",
       "..                                                ...  \n",
       "68  What are the key expectations, product announc...  \n",
       "69  What are the current trends, risks, and invest...  \n",
       "70  What is the current and projected financial an...  \n",
       "71  What are the current trends, challenges, and o...  \n",
       "72  What are the key factors and developments that...  \n",
       "\n",
       "[73 rows x 3 columns]"
      ]
     },
     "execution_count": 3,
     "metadata": {},
     "output_type": "execute_result"
    }
   ],
   "source": [
    "import pandas as pd\n",
    "\n",
    "df = pd.read_csv(\"./reports.csv\", index_col=False)\n",
    "df"
   ]
  },
  {
   "cell_type": "code",
   "execution_count": 4,
   "metadata": {},
   "outputs": [],
   "source": [
    "async with asyncio.TaskGroup() as tg:\n",
    "    kruppe_4o_tasks = []\n",
    "    kruppe_41_tasks = []\n",
    "    kruppe_o3_tasks = []\n",
    "    kruppe_human_tasks = []\n",
    "    kruppe_41_mini_tasks = []\n",
    "    kruppe_4o_mini_tasks = []\n",
    "\n",
    "    for i, row in df.iterrows():\n",
    "        kruppe_loc = f\"./kruppe_report/report_{i}.json\"\n",
    "        # vanilla_4o_loc = f\"./vanilla_report_4o_search/report_{i}.json\"\n",
    "        # vanilla_41_loc = f\"./vanilla_report_4.1/report_{i}.json\"\n",
    "        # vanilla_o3_loc = f\"./vanilla_report_o3/report_{i}.json\"\n",
    "        # human_loc = row[\"human_report_loc\"]\n",
    "        vanilla_41_mini_loc = f\"./vanilla_report_4.1-mini/report_{i}.json\"\n",
    "        vanilla_4o_mini_loc = f\"./vanilla_report_4o-mini_search/report_{i}.json\"\n",
    "\n",
    "        # kruppe_4o_task = tg.create_task(evaluate_reports(row[\"question\"], kruppe_loc, vanilla_4o_loc))\n",
    "        # kruppe_4o_tasks.append(kruppe_4o_task)\n",
    "        \n",
    "        # kruppe_41_task = tg.create_task(evaluate_reports(row[\"question\"], kruppe_loc, vanilla_41_loc))\n",
    "        # kruppe_41_tasks.append(kruppe_41_task)\n",
    "        \n",
    "        # kruppe_o3_task = tg.create_task(evaluate_reports(row[\"question\"], kruppe_loc, vanilla_o3_loc))\n",
    "        # kruppe_o3_tasks.append(kruppe_o3_task)\n",
    "        \n",
    "        # kruppe_human_task = tg.create_task(evaluate_reports(row[\"question\"], kruppe_loc, human_loc))\n",
    "        # kruppe_human_tasks.append(kruppe_human_task)\n",
    "\n",
    "        kruppe_41_mini_task = tg.create_task(evaluate_reports(row[\"question\"], kruppe_loc, vanilla_41_mini_loc))\n",
    "        kruppe_41_mini_tasks.append(kruppe_41_mini_task)\n",
    "\n",
    "        kruppe_4o_mini_task = tg.create_task(evaluate_reports(row[\"question\"], kruppe_loc, vanilla_4o_mini_loc))\n",
    "        kruppe_4o_mini_tasks.append(kruppe_4o_mini_task)\n",
    "        \n",
    "\n",
    "# kruppe_4o_results = [task.result() for task in kruppe_4o_tasks]\n",
    "# kruppe_41_results = [task.result() for task in kruppe_41_tasks]\n",
    "# kruppe_o3_results = [task.result() for task in kruppe_o3_tasks]\n",
    "# kruppe_human_results = [task.result() for task in kruppe_human_tasks]\n",
    "\n",
    "# Save the results to a JSON file\n",
    "# with open(\"kruppe_4o_results.json\", \"w\") as f:\n",
    "#     json.dump(kruppe_4o_results, f, indent=4)\n",
    "# with open(\"kruppe_41_results.json\", \"w\") as f:\n",
    "#     json.dump(kruppe_41_results, f, indent=4)\n",
    "# with open(\"kruppe_o3_results.json\", \"w\") as f:\n",
    "#     json.dump(kruppe_o3_results, f, indent=4)\n",
    "# with open(\"kruppe_human_results.json\", \"w\") as f:\n",
    "#     json.dump(kruppe_human_results, f, indent=4)\n",
    "with open(\"kruppe_41_mini_results.json\", \"w\") as f:\n",
    "    kruppe_41_mini_results = [task.result() for task in kruppe_41_mini_tasks]\n",
    "    json.dump(kruppe_41_mini_results, f, indent=4)\n",
    "with open(\"kruppe_4o_mini_results.json\", \"w\") as f:\n",
    "    kruppe_4o_mini_results = [task.result() for task in kruppe_4o_mini_tasks]\n",
    "    json.dump(kruppe_4o_mini_results, f, indent=4)\n"
   ]
  },
  {
   "cell_type": "markdown",
   "metadata": {},
   "source": [
    "### Turn into JSON"
   ]
  },
  {
   "cell_type": "code",
   "execution_count": 5,
   "metadata": {},
   "outputs": [],
   "source": [
    "# with open(\"kruppe_4o_results.json\", \"r\") as f:\n",
    "#     kruppe_4o_results = json.load(f)\n",
    "#     for item in kruppe_4o_results:\n",
    "#         new_evals = []\n",
    "#         for eval in item[\"evals\"]:\n",
    "#             new_eval = json.loads(eval)\n",
    "#             new_evals.append(new_eval)\n",
    "#         item[\"evals\"] = new_evals\n",
    "# with open(\"kruppe_4o_results.json\", \"w\") as f:\n",
    "#     json.dump(kruppe_4o_results, f, indent=4)\n",
    "\n",
    "# with open(\"kruppe_41_results.json\", \"r\") as f:\n",
    "#     kruppe_41_results = json.load(f)\n",
    "#     for item in kruppe_41_results:\n",
    "#         new_evals = []\n",
    "#         for eval in item[\"evals\"]:\n",
    "#             new_eval = json.loads(eval)\n",
    "#             new_evals.append(new_eval)\n",
    "#         item[\"evals\"] = new_evals\n",
    "# with open(\"kruppe_41_results.json\", \"w\") as f:\n",
    "#     json.dump(kruppe_41_results, f, indent=4)\n",
    "\n",
    "# with open(\"kruppe_o3_results.json\", \"r\") as f:\n",
    "#     kruppe_o3_results = json.load(f)\n",
    "#     for item in kruppe_o3_results:\n",
    "#         new_evals = []\n",
    "#         for eval in item[\"evals\"]:\n",
    "#             new_eval = json.loads(eval)\n",
    "#             new_evals.append(new_eval)\n",
    "#         item[\"evals\"] = new_evals\n",
    "# with open(\"kruppe_o3_results.json\", \"w\") as f:\n",
    "#     json.dump(kruppe_o3_results, f, indent=4)\n",
    "\n",
    "# with open(\"kruppe_human_results.json\", \"r\") as f:\n",
    "#     kruppe_human_results = json.load(f)\n",
    "#     for item in kruppe_human_results:\n",
    "#         new_evals = []\n",
    "#         for eval in item[\"evals\"]:\n",
    "#             print(eval)\n",
    "#             new_eval = json.loads(eval)\n",
    "#             new_evals.append(new_eval)\n",
    "#         item[\"evals\"] = new_evals\n",
    "# with open(\"kruppe_human_results.json\", \"w\") as f:\n",
    "#     json.dump(kruppe_human_results, f, indent=4)\n",
    "\n",
    "with open(\"kruppe_41_mini_results.json\", \"r\") as f:\n",
    "    kruppe_41_mini_results = json.load(f)\n",
    "    for item in kruppe_41_mini_results:\n",
    "        new_evals = []\n",
    "        for eval in item[\"evals\"]:\n",
    "            new_eval = json.loads(eval)\n",
    "            new_evals.append(new_eval)\n",
    "        item[\"evals\"] = new_evals\n",
    "with open(\"kruppe_41_mini_results.json\", \"w\") as f:\n",
    "    json.dump(kruppe_41_mini_results, f, indent=4)\n",
    "\n",
    "with open(\"kruppe_4o_mini_results.json\", \"r\") as f:\n",
    "    kruppe_4o_mini_results = json.load(f)\n",
    "    for item in kruppe_4o_mini_results:\n",
    "        new_evals = []\n",
    "        for eval in item[\"evals\"]:\n",
    "            new_eval = json.loads(eval)\n",
    "            new_evals.append(new_eval)\n",
    "        item[\"evals\"] = new_evals\n",
    "with open(\"kruppe_4o_mini_results.json\", \"w\") as f:\n",
    "    json.dump(kruppe_4o_mini_results, f, indent=4)"
   ]
  },
  {
   "cell_type": "markdown",
   "metadata": {},
   "source": [
    "## Count Winners"
   ]
  },
  {
   "cell_type": "code",
   "execution_count": 6,
   "metadata": {},
   "outputs": [],
   "source": [
    "def count_winners(results):\n",
    "    for item in results:\n",
    "        query = item[\"query\"]\n",
    "        evals = item[\"evals\"]\n",
    "\n",
    "        wincounts = {\n",
    "            \"Empowerment\": {},\n",
    "            \"Cohesiveness\": {},\n",
    "            \"Comprehensiveness\": {},\n",
    "            \"Diversity\": {},\n",
    "            \"Overall Winner\": {},\n",
    "        }\n",
    "\n",
    "        for eval in evals:\n",
    "            for key, value in eval.items():\n",
    "                if \"1\" in value[\"Winner\"]:\n",
    "                    wincounts[key][\"Answer 1\"] = wincounts[key].get(\"Answer 1\", 0) + 1\n",
    "                elif \"2\" in value[\"Winner\"]:\n",
    "                    wincounts[key][\"Answer 2\"] = wincounts[key].get(\"Answer 2\", 0) + 1\n",
    "                else:\n",
    "                    wincounts[key][\"tie\"] = wincounts[key].get(\"tie\", 0) + 1\n",
    "        item[\"wincounts\"] = wincounts\n",
    "    return results"
   ]
  },
  {
   "cell_type": "code",
   "execution_count": 7,
   "metadata": {},
   "outputs": [],
   "source": [
    "# with open(\"kruppe_4o_results.json\", \"r\") as f:\n",
    "#     kruppe_4o_results = json.load(f)\n",
    "# kruppe_4o_results = count_winners(kruppe_4o_results)\n",
    "\n",
    "# with open(\"kruppe_41_results.json\", \"r\") as f:\n",
    "#     kruppe_41_results = json.load(f)\n",
    "# kruppe_41_results = count_winners(kruppe_41_results)\n",
    "\n",
    "# with open(\"kruppe_o3_results.json\", \"r\") as f:\n",
    "#     kruppe_o3_results = json.load(f)\n",
    "# kruppe_o3_results = count_winners(kruppe_o3_results)\n",
    "    \n",
    "# with open(\"kruppe_human_results.json\", \"r\") as f:\n",
    "#     kruppe_human_results = json.load(f)\n",
    "# kruppe_human_results = count_winners(kruppe_human_results)\n",
    "\n",
    "with open(\"kruppe_41_mini_results.json\", \"r\") as f:\n",
    "    kruppe_41_mini_results = json.load(f)\n",
    "kruppe_41_mini_results = count_winners(kruppe_41_mini_results)\n",
    "with open(\"kruppe_41_mini_results.json\", \"w\") as f:\n",
    "    json.dump(kruppe_41_mini_results, f, indent=4)\n",
    "\n",
    "with open(\"kruppe_4o_mini_results.json\", \"r\") as f:\n",
    "    kruppe_4o_mini_results = json.load(f)\n",
    "kruppe_4o_mini_results = count_winners(kruppe_4o_mini_results)\n",
    "with open(\"kruppe_4o_mini_results.json\", \"w\") as f:\n",
    "    json.dump(kruppe_4o_mini_results, f, indent=4)"
   ]
  },
  {
   "cell_type": "code",
   "execution_count": 8,
   "metadata": {},
   "outputs": [],
   "source": [
    "# count total winners\n",
    "def count_total_winners(results):\n",
    "    total_wincounts = {\n",
    "        \"Empowerment\": {\"Answer 1\": 0, \"Answer 2\": 0, \"tie\": 0},\n",
    "        \"Cohesiveness\": {\"Answer 1\": 0, \"Answer 2\": 0, \"tie\": 0},\n",
    "        \"Comprehensiveness\": {\"Answer 1\": 0, \"Answer 2\": 0, \"tie\": 0},\n",
    "        \"Diversity\": {\"Answer 1\": 0, \"Answer 2\": 0, \"tie\": 0},\n",
    "        \"Overall Winner\": {\"Answer 1\": 0, \"Answer 2\": 0, \"tie\": 0},\n",
    "    }\n",
    "\n",
    "    for item in results:\n",
    "        wincounts = item[\"wincounts\"]\n",
    "        for key in total_wincounts.keys():\n",
    "            total_wincounts[key][\"Answer 1\"] += wincounts[key].get(\"Answer 1\", 0)\n",
    "            total_wincounts[key][\"Answer 2\"] += wincounts[key].get(\"Answer 2\", 0)\n",
    "            total_wincounts[key][\"tie\"] += wincounts[key].get(\"tie\", 0)\n",
    "\n",
    "    return total_wincounts\n",
    "# total_4o_wincounts = count_total_winners(kruppe_4o_results)\n",
    "# total_41_wincounts = count_total_winners(kruppe_41_results)\n",
    "# total_o3_wincounts = count_total_winners(kruppe_o3_results)\n",
    "# total_human_wincounts = count_total_winners(kruppe_human_results)\n",
    "total_41_mini_wincounts = count_total_winners(kruppe_41_mini_results)\n",
    "total_4o_mini_wincounts = count_total_winners(kruppe_4o_mini_results)"
   ]
  },
  {
   "cell_type": "code",
   "execution_count": 9,
   "metadata": {},
   "outputs": [],
   "source": [
    "# count total winner, whichever has more winner, wins\n",
    "def count_total_winners_relative(results):\n",
    "    total_wincounts = {\n",
    "        \"Empowerment\": {\"Answer 1\": 0, \"Answer 2\": 0, \"tie\": 0},\n",
    "        \"Cohesiveness\": {\"Answer 1\": 0, \"Answer 2\": 0, \"tie\": 0},\n",
    "        \"Comprehensiveness\": {\"Answer 1\": 0, \"Answer 2\": 0, \"tie\": 0},\n",
    "        \"Diversity\": {\"Answer 1\": 0, \"Answer 2\": 0, \"tie\": 0},\n",
    "        \"Overall Winner\": {\"Answer 1\": 0, \"Answer 2\": 0, \"tie\": 0},\n",
    "    }\n",
    "\n",
    "    for item in results:\n",
    "        wincounts = item[\"wincounts\"]\n",
    "        for key in total_wincounts.keys():\n",
    "            if wincounts[key].get(\"Answer 1\", 0) > wincounts[key].get(\"Answer 2\", 0):\n",
    "                total_wincounts[key][\"Answer 1\"] += 1\n",
    "            elif wincounts[key].get(\"Answer 2\", 0) > wincounts[key].get(\"Answer 1\", 0):\n",
    "                total_wincounts[key][\"Answer 2\"] += 1\n",
    "            else:\n",
    "                total_wincounts[key][\"tie\"] += 1\n",
    "\n",
    "    return total_wincounts\n",
    "\n",
    "# total_4o_wincounts_relative = count_total_winners_relative(kruppe_4o_results)\n",
    "# total_41_wincounts_relative = count_total_winners_relative(kruppe_41_results)\n",
    "# total_o3_wincounts_relative = count_total_winners_relative(kruppe_o3_results)\n",
    "# total_human_wincounts_relative = count_total_winners_relative(kruppe_human_results)\n",
    "total_41_mini_wincounts_relative = count_total_winners_relative(kruppe_41_mini_results)\n",
    "total_4o_mini_wincounts_relative = count_total_winners_relative(kruppe_4o_mini_results)"
   ]
  },
  {
   "cell_type": "code",
   "execution_count": 10,
   "metadata": {},
   "outputs": [],
   "source": [
    "# count winner, as long as kruppe wins ONE, kruppe wins\n",
    "def count_total_winners_any(results):\n",
    "    total_wincounts = {\n",
    "        \"Empowerment\": {\"Answer 1\": 0, \"Answer 2\": 0, \"tie\": 0},\n",
    "        \"Cohesiveness\": {\"Answer 1\": 0, \"Answer 2\": 0, \"tie\": 0},\n",
    "        \"Comprehensiveness\": {\"Answer 1\": 0, \"Answer 2\": 0, \"tie\": 0},\n",
    "        \"Diversity\": {\"Answer 1\": 0, \"Answer 2\": 0, \"tie\": 0},\n",
    "        \"Overall Winner\": {\"Answer 1\": 0, \"Answer 2\": 0, \"tie\": 0},\n",
    "    }\n",
    "\n",
    "    for item in results:\n",
    "        wincounts = item[\"wincounts\"]\n",
    "        for key in total_wincounts.keys():\n",
    "            if wincounts[key].get(\"Answer 1\", 0) > 0:\n",
    "                total_wincounts[key][\"Answer 1\"] += 1\n",
    "            else:\n",
    "                total_wincounts[key][\"Answer 2\"] += 1\n",
    "\n",
    "    return total_wincounts\n",
    "\n",
    "# total_4o_wincounts_any = count_total_winners_any(kruppe_4o_results)\n",
    "# total_41_wincounts_any = count_total_winners_any(kruppe_41_results)\n",
    "# total_o3_wincounts_any = count_total_winners_any(kruppe_o3_results)\n",
    "# total_human_wincounts_any = count_total_winners_any(kruppe_human_results)\n",
    "total_41_mini_wincounts_any = count_total_winners_any(kruppe_41_mini_results)\n",
    "total_4o_mini_wincounts_any = count_total_winners_any(kruppe_4o_mini_results)"
   ]
  },
  {
   "cell_type": "code",
   "execution_count": 11,
   "metadata": {},
   "outputs": [],
   "source": [
    "# with open(\"kruppe_4o_results.json\", \"w\") as f:\n",
    "#     new_data = {\n",
    "#         \"results\": kruppe_4o_results,\n",
    "#         \"total_wincounts\": total_4o_wincounts,\n",
    "#         \"total_wincounts_relative\": total_4o_wincounts_relative,\n",
    "#         \"total_wincounts_any\": total_4o_wincounts_any\n",
    "#     }\n",
    "#     json.dump(new_data, f, indent=4)\n",
    "# with open(\"kruppe_41_results.json\", \"w\") as f:\n",
    "#     new_data = {\n",
    "#         \"results\": kruppe_41_results,\n",
    "#         \"total_wincounts\": total_41_wincounts,\n",
    "#         \"total_wincounts_relative\": total_41_wincounts_relative,\n",
    "#         \"total_wincounts_any\": total_41_wincounts_any\n",
    "#     }\n",
    "#     json.dump(new_data, f, indent=4)\n",
    "# with open(\"kruppe_o3_results.json\", \"w\") as f:\n",
    "#     new_data = {\n",
    "#         \"results\": kruppe_o3_results,\n",
    "#         \"total_wincounts\": total_o3_wincounts,\n",
    "#         \"total_wincounts_relative\": total_o3_wincounts_relative,\n",
    "#         \"total_wincounts_any\": total_o3_wincounts_any\n",
    "#     }\n",
    "#     json.dump(new_data, f, indent=4)\n",
    "# with open(\"kruppe_human_results.json\", \"w\") as f:\n",
    "#     new_data = {\n",
    "#         \"results\": kruppe_human_results,\n",
    "#         \"total_wincounts\": total_human_wincounts,\n",
    "#         \"total_wincounts_relative\": total_human_wincounts_relative,\n",
    "#         \"total_wincounts_any\": total_human_wincounts_any\n",
    "#     }\n",
    "#     json.dump(new_data, f, indent=4)\n",
    "with open(\"kruppe_41_mini_results.json\", \"w\") as f:\n",
    "    new_data = {\n",
    "        \"results\": kruppe_41_mini_results,\n",
    "        \"total_wincounts\": total_41_mini_wincounts,\n",
    "        \"total_wincounts_relative\": total_41_mini_wincounts_relative,\n",
    "        \"total_wincounts_any\": total_41_mini_wincounts_any\n",
    "    }\n",
    "    json.dump(new_data, f, indent=4)\n",
    "with open(\"kruppe_4o_mini_results.json\", \"w\") as f:\n",
    "    new_data = {\n",
    "        \"results\": kruppe_4o_mini_results,\n",
    "        \"total_wincounts\": total_4o_mini_wincounts,\n",
    "        \"total_wincounts_relative\": total_4o_mini_wincounts_relative,\n",
    "        \"total_wincounts_any\": total_4o_mini_wincounts_any\n",
    "    }\n",
    "    json.dump(new_data, f, indent=4)"
   ]
  },
  {
   "cell_type": "markdown",
   "metadata": {},
   "source": [
    "## Generate Explanations"
   ]
  },
  {
   "cell_type": "code",
   "execution_count": 50,
   "metadata": {},
   "outputs": [],
   "source": [
    "llm = OpenAILLM(model=\"gpt-4.1\")"
   ]
  },
  {
   "cell_type": "code",
   "execution_count": 51,
   "metadata": {},
   "outputs": [],
   "source": [
    "from textwrap import dedent\n",
    "\n",
    "async def explain_metric(metric: str, results):\n",
    "    system_message = \"You explain what makes one model's output better than the other using the explanations\"\n",
    "\n",
    "    kruppe_wins = results[\"total_wincounts\"][metric][\"Answer 1\"]\n",
    "    benchmark_wins = results[\"total_wincounts\"][metric][\"Answer 2\"]\n",
    "\n",
    "    explanations = []\n",
    "    for item in results[\"results\"]:\n",
    "        for eval in item[\"evals\"]:\n",
    "            explanation = f\"Winner: {eval[metric]['Winner']}\\nExplanation: {eval[metric]['Explanation']}\"\n",
    "            explanations.append(explanation)\n",
    "        \n",
    "    user_message = dedent(\n",
    "        f\"\"\"\\\n",
    "        Out of {kruppe_wins+benchmark_wins} games, a judge decided that, using the metric {metric}, the first model's response was better on {kruppe_wins} counts, and the second model was better on {benchmark_wins} counts.\n",
    "        Below are all the justifications that the judge made for deciding why either answer 1 or answer 2's response was better than the other. If answer 1 wins more often than answer 2, describe the qualities of answer 1 that made it better than answer 2. If answer 2 wins more often than answer 1, describe the qualities of answer 2 that made it better than answer 1. If they win equally, describe the qualities of both answers that made them equally good or bad.\n",
    "        Be concise and clear. Return a single paragraph using 1-3 sentences that summarizes the qualities of the winning answer. Get to the point quickly and avoid unnecessary details. \n",
    "        \n",
    "        ALL EXPLANATIONS:\n",
    "        {\"\\n\\n\".join(explanations)}\n",
    "        \"\"\")\n",
    "\n",
    "    messages = [\n",
    "        {\"role\": \"system\", \"content\": system_message},\n",
    "        {\"role\": \"user\", \"content\": user_message},\n",
    "    ]\n",
    "\n",
    "    llm_response = await llm.async_generate(messages)\n",
    "    llm_string = llm_response.text\n",
    "\n",
    "    return llm_string\n",
    "\n",
    "async def explain_all_metrics(results):\n",
    "    metrics = [\n",
    "        \"Empowerment\",\n",
    "        \"Cohesiveness\",\n",
    "        \"Comprehensiveness\",\n",
    "        \"Diversity\",\n",
    "        \"Overall Winner\"\n",
    "    ]\n",
    "\n",
    "    async with asyncio.TaskGroup() as tg:\n",
    "        tasks = []\n",
    "        for metric in metrics:\n",
    "            task = tg.create_task(explain_metric(metric, results))\n",
    "            tasks.append(task)\n",
    "    explanations = [task.result() for task in tasks]\n",
    "\n",
    "    return {metric: explanation for metric, explanation in zip(metrics, explanations)}"
   ]
  },
  {
   "cell_type": "markdown",
   "metadata": {},
   "source": [
    "### Kruppe 4o w/ Internet Empowerment"
   ]
  },
  {
   "cell_type": "code",
   "execution_count": 52,
   "metadata": {},
   "outputs": [],
   "source": [
    "with open(\"kruppe_4o_results.json\", \"r\") as f:\n",
    "    kruppe_4o_results = json.load(f)"
   ]
  },
  {
   "cell_type": "code",
   "execution_count": 53,
   "metadata": {},
   "outputs": [
    {
     "data": {
      "text/plain": [
       "{'Empowerment': 'Answer 1 consistently outperformed Answer 2 because it provided more empowering, analytical, and context-rich responses. Its strengths include synthesizing data with clear reasoning, interpreting why facts matter, addressing risks and strategic implications, and guiding readers to make informed and independent judgments. Answer 1 moves beyond listing information by offering critical frameworks, evaluating both upside and downside, and equipping readers with deeper understanding and actionable insights—qualities that foster genuine empowerment and critical thinking compared to the more descriptive and fact-based style of Answer 2.',\n",
       " 'Cohesiveness': 'Answer 1 overwhelmingly wins because it consistently presents a unified, cohesive narrative by starting with a clear hypothesis, logically sequencing its evidence and analysis, and tying every section back to a central thesis. Its arguments flow naturally, building upon each other to create a single, well-integrated story. In contrast, Answer 2, while often clear and well-organized, typically relies on segmented sections or bullet points, which makes its content feel more like a collection of discrete facts and limits its narrative integration. The main qualities that make Answer 1 better are its logical structure, strong narrative thread, smooth transitions, and consistent focus on weaving all points into a single, interconnected argument.',\n",
       " 'Comprehensiveness': 'Answer 1 wins more often than Answer 2. The winning qualities of Answer 1 are its greater breadth, depth, and integration across relevant topics—Answer 1 consistently offers multi-dimensional, holistic coverage by addressing both quantitative and qualitative aspects, synthesizing financials, strategy, risks, and external context, and often noting areas of uncertainty or missing information. This comprehensive approach ensures that all major facets of each question are covered, resulting in a more thorough and nuanced response.',\n",
       " 'Diversity': 'Answer 1 wins more often. Its responses consistently demonstrate greater diversity by integrating multiple perspectives—financial, operational, strategic, regulatory, competitive, and external stakeholder viewpoints. Answer 1 typically examines each topic from several angles, including industry trends, risks, peer benchmarking, qualitative and quantitative analysis, and both short- and long-term considerations, resulting in a richer and more nuanced understanding compared to Answer 2’s often narrower or more uniform approach.',\n",
       " 'Overall Winner': 'Answer 1 overwhelmingly outperformed Answer 2 because it consistently delivered more empowering, cohesive, comprehensive, and diverse analyses. Its responses provided clear, well-structured narratives that integrated facts with context, synthesized multiple perspectives, and offered actionable insights. This depth and holistic approach enabled readers to understand complex issues, make informed judgments, and appreciate the broader strategic and industry dynamics in ways that the typically fact-driven or fragmented Answer 2 could not match.'}"
      ]
     },
     "execution_count": 53,
     "metadata": {},
     "output_type": "execute_result"
    }
   ],
   "source": [
    "kruppe_4o_results_explanation = await explain_all_metrics(kruppe_4o_results)\n",
    "kruppe_4o_results_explanation"
   ]
  },
  {
   "cell_type": "code",
   "execution_count": 54,
   "metadata": {},
   "outputs": [],
   "source": [
    "for metric, explanation in kruppe_4o_results_explanation.items():\n",
    "    kruppe_4o_results['total_wincounts'][metric]['Explanation'] = explanation\n",
    "with open(\"kruppe_4o_results.json\", \"w\") as f:\n",
    "    json.dump(kruppe_4o_results, f, indent=4)"
   ]
  },
  {
   "cell_type": "code",
   "execution_count": 55,
   "metadata": {},
   "outputs": [
    {
     "name": "stdout",
     "output_type": "stream",
     "text": [
      "Empowerment\n",
      "Answer 1 consistently outperformed Answer 2 because it provided more empowering, analytical, and context-rich responses. Its strengths include synthesizing data with clear reasoning, interpreting why facts matter, addressing risks and strategic implications, and guiding readers to make informed and independent judgments. Answer 1 moves beyond listing information by offering critical frameworks, evaluating both upside and downside, and equipping readers with deeper understanding and actionable insights—qualities that foster genuine empowerment and critical thinking compared to the more descriptive and fact-based style of Answer 2.\n",
      "----------------------------------------\n",
      "Cohesiveness\n",
      "Answer 1 overwhelmingly wins because it consistently presents a unified, cohesive narrative by starting with a clear hypothesis, logically sequencing its evidence and analysis, and tying every section back to a central thesis. Its arguments flow naturally, building upon each other to create a single, well-integrated story. In contrast, Answer 2, while often clear and well-organized, typically relies on segmented sections or bullet points, which makes its content feel more like a collection of discrete facts and limits its narrative integration. The main qualities that make Answer 1 better are its logical structure, strong narrative thread, smooth transitions, and consistent focus on weaving all points into a single, interconnected argument.\n",
      "----------------------------------------\n",
      "Comprehensiveness\n",
      "Answer 1 wins more often than Answer 2. The winning qualities of Answer 1 are its greater breadth, depth, and integration across relevant topics—Answer 1 consistently offers multi-dimensional, holistic coverage by addressing both quantitative and qualitative aspects, synthesizing financials, strategy, risks, and external context, and often noting areas of uncertainty or missing information. This comprehensive approach ensures that all major facets of each question are covered, resulting in a more thorough and nuanced response.\n",
      "----------------------------------------\n",
      "Diversity\n",
      "Answer 1 wins more often. Its responses consistently demonstrate greater diversity by integrating multiple perspectives—financial, operational, strategic, regulatory, competitive, and external stakeholder viewpoints. Answer 1 typically examines each topic from several angles, including industry trends, risks, peer benchmarking, qualitative and quantitative analysis, and both short- and long-term considerations, resulting in a richer and more nuanced understanding compared to Answer 2’s often narrower or more uniform approach.\n",
      "----------------------------------------\n",
      "Overall Winner\n",
      "Answer 1 overwhelmingly outperformed Answer 2 because it consistently delivered more empowering, cohesive, comprehensive, and diverse analyses. Its responses provided clear, well-structured narratives that integrated facts with context, synthesized multiple perspectives, and offered actionable insights. This depth and holistic approach enabled readers to understand complex issues, make informed judgments, and appreciate the broader strategic and industry dynamics in ways that the typically fact-driven or fragmented Answer 2 could not match.\n",
      "----------------------------------------\n"
     ]
    }
   ],
   "source": [
    "for metric, explanation in kruppe_4o_results_explanation.items():\n",
    "    print(metric)\n",
    "    print(explanation)\n",
    "    print('--'*20)"
   ]
  },
  {
   "cell_type": "markdown",
   "metadata": {},
   "source": [
    "### Kruppe 4.1"
   ]
  },
  {
   "cell_type": "code",
   "execution_count": 56,
   "metadata": {},
   "outputs": [],
   "source": [
    "with open(\"kruppe_41_results.json\", \"r\") as f:\n",
    "    kruppe_41_results = json.load(f)"
   ]
  },
  {
   "cell_type": "code",
   "execution_count": 57,
   "metadata": {},
   "outputs": [
    {
     "data": {
      "text/plain": [
       "{'Empowerment': 'Answer 2 wins significantly more often than Answer 1. The qualities that made Answer 2 better are its clear, structured, and accessible presentation, explicit breakdown of key drivers, risks, and actionable insights, and its use of concrete data, references, and comparative analysis. Answer 2 consistently empowers readers to make informed, independent judgments by linking information directly to investment implications, balancing opportunities and threats, and providing practical frameworks and recommendations tailored for decision-making.',\n",
       " 'Cohesiveness': 'Answer 2 wins more often than Answer 1. The qualities that make Answer 2 better are its consistent use of a clear, logical structure with well-labeled and thematic sections that build seamlessly upon each other, creating a smooth, unified central narrative. Each section flows naturally into the next, maintaining focus on the main thesis, making the analysis easy to follow, minimizing fragmentation, and ensuring that all key points are tightly integrated into a cohesive story rather than appearing as segmented lists or disconnected facts.',\n",
       " 'Comprehensiveness': 'Answer 2 wins more often than Answer 1. The qualities that make Answer 2 better are its broader and more systematic coverage of each question—it consistently addresses multiple relevant dimensions, incorporates up-to-date quantitative and qualitative data, provides competitive and industry context, cites references or sources when appropriate, and often integrates both risks and opportunities for a more holistic and credible evaluation. This thoroughness and explicitness in addressing all facets of each question makes Answer 2’s responses more comprehensive and useful to the reader.',\n",
       " 'Diversity': \"Answer 2 wins far more often than Answer 1. Its responses are consistently judged better for diversity because they integrate a wider range of perspectives, including external analyst views, peer and industry benchmarking, regulatory and macroeconomic context, diverse stakeholder concerns, and both bullish and bearish scenarios. Answer 2 goes beyond internal metrics to contextualize issues with references to market trends, policy changes, competitive threats, and expert sources, providing richer, multi-dimensional insights compared to Answer 1's often narrower, internally focused approach.\",\n",
       " 'Overall Winner': 'Answer 2 wins more often than Answer 1. The qualities that make Answer 2 superior are its empowering, cohesive, comprehensive, and diverse analysis. Answer 2 consistently delivers clear, well-structured narratives that cover all relevant aspects, integrate varied perspectives, and provide actionable insights, making complex topics accessible and enabling readers to form informed, balanced judgments. Its breadth, logical flow, and practical focus create more valuable and effective responses overall.'}"
      ]
     },
     "execution_count": 57,
     "metadata": {},
     "output_type": "execute_result"
    }
   ],
   "source": [
    "kruppe_41_results_explanation = await explain_all_metrics(kruppe_41_results)\n",
    "kruppe_41_results_explanation"
   ]
  },
  {
   "cell_type": "code",
   "execution_count": 58,
   "metadata": {},
   "outputs": [],
   "source": [
    "for metric, explanation in kruppe_41_results_explanation.items():\n",
    "    kruppe_41_results['total_wincounts'][metric]['Explanation'] = explanation\n",
    "with open(\"kruppe_41_results.json\", \"w\") as f:\n",
    "    json.dump(kruppe_41_results, f, indent=4)"
   ]
  },
  {
   "cell_type": "code",
   "execution_count": 59,
   "metadata": {},
   "outputs": [
    {
     "name": "stdout",
     "output_type": "stream",
     "text": [
      "Empowerment\n",
      "Answer 2 wins significantly more often than Answer 1. The qualities that made Answer 2 better are its clear, structured, and accessible presentation, explicit breakdown of key drivers, risks, and actionable insights, and its use of concrete data, references, and comparative analysis. Answer 2 consistently empowers readers to make informed, independent judgments by linking information directly to investment implications, balancing opportunities and threats, and providing practical frameworks and recommendations tailored for decision-making.\n",
      "----------------------------------------\n",
      "Cohesiveness\n",
      "Answer 2 wins more often than Answer 1. The qualities that make Answer 2 better are its consistent use of a clear, logical structure with well-labeled and thematic sections that build seamlessly upon each other, creating a smooth, unified central narrative. Each section flows naturally into the next, maintaining focus on the main thesis, making the analysis easy to follow, minimizing fragmentation, and ensuring that all key points are tightly integrated into a cohesive story rather than appearing as segmented lists or disconnected facts.\n",
      "----------------------------------------\n",
      "Comprehensiveness\n",
      "Answer 2 wins more often than Answer 1. The qualities that make Answer 2 better are its broader and more systematic coverage of each question—it consistently addresses multiple relevant dimensions, incorporates up-to-date quantitative and qualitative data, provides competitive and industry context, cites references or sources when appropriate, and often integrates both risks and opportunities for a more holistic and credible evaluation. This thoroughness and explicitness in addressing all facets of each question makes Answer 2’s responses more comprehensive and useful to the reader.\n",
      "----------------------------------------\n",
      "Diversity\n",
      "Answer 2 wins far more often than Answer 1. Its responses are consistently judged better for diversity because they integrate a wider range of perspectives, including external analyst views, peer and industry benchmarking, regulatory and macroeconomic context, diverse stakeholder concerns, and both bullish and bearish scenarios. Answer 2 goes beyond internal metrics to contextualize issues with references to market trends, policy changes, competitive threats, and expert sources, providing richer, multi-dimensional insights compared to Answer 1's often narrower, internally focused approach.\n",
      "----------------------------------------\n",
      "Overall Winner\n",
      "Answer 2 wins more often than Answer 1. The qualities that make Answer 2 superior are its empowering, cohesive, comprehensive, and diverse analysis. Answer 2 consistently delivers clear, well-structured narratives that cover all relevant aspects, integrate varied perspectives, and provide actionable insights, making complex topics accessible and enabling readers to form informed, balanced judgments. Its breadth, logical flow, and practical focus create more valuable and effective responses overall.\n",
      "----------------------------------------\n"
     ]
    }
   ],
   "source": [
    "for metric, explanation in kruppe_41_results_explanation.items():\n",
    "    print(metric)\n",
    "    print(explanation)\n",
    "    print('--'*20)"
   ]
  },
  {
   "cell_type": "markdown",
   "metadata": {},
   "source": [
    "### o3"
   ]
  },
  {
   "cell_type": "code",
   "execution_count": 60,
   "metadata": {},
   "outputs": [],
   "source": [
    "with open(\"kruppe_o3_results.json\", \"r\") as f:\n",
    "    kruppe_o3_results = json.load(f)"
   ]
  },
  {
   "cell_type": "code",
   "execution_count": 61,
   "metadata": {},
   "outputs": [
    {
     "data": {
      "text/plain": [
       "{'Empowerment': 'Answer 2 overwhelmingly outperformed Answer 1 because it consistently offered clear, actionable, and data-driven insights—quantifying scenarios, presenting explicit risks and catalysts, and supplying concrete frameworks for independent decision-making. Its responses empowered readers to form their own judgments by breaking down complex issues into structured analyses with metrics, scenario modeling, and practical recommendations tied directly to key outcomes. This level of specificity and transparency provided readers with both the understanding and the tools needed to make well-informed, empowered decisions.',\n",
       " 'Cohesiveness': 'Answer 2 wins more often than Answer 1. Its responses are consistently described as highly structured, logically organized, and tightly focused around a central thesis. Each section in Answer 2’s outputs typically builds seamlessly on the previous one, maintaining a unified narrative thread that ties all elements—analysis, evidence, risks, and recommendations—back to the core argument. This clear, stepwise progression and strong internal linkage result in cohesive, easy-to-follow analyses, whereas Answer 1 is often characterized as more segmented, occasionally fragmented, or prone to presenting information in discrete sections without as strong a central story.',\n",
       " 'Comprehensiveness': 'Answer 2 overwhelmingly wins due to its superior comprehensiveness. Its responses consistently provide greater depth and breadth, offering detailed quantitative and qualitative analyses, scenario modeling, explicit risk breakdowns, peer comparisons, and granular coverage of all relevant financial, operational, strategic, and market factors. This thoroughness ensures a fuller, multi-dimensional understanding of each subject, leaving fewer gaps and enabling more robust, informed conclusions than Answer 1.',\n",
       " 'Diversity': 'Answer 2 wins far more often than Answer 1. The qualities that made Answer 2 better are its consistently richer diversity of perspectives and depth of analysis. Answer 2 integrates a wide variety of viewpoints (such as operational, financial, strategic, regulatory, ESG, macroeconomic, competitive, and stakeholder-based), often incorporates scenario analysis, comparative benchmarking, multiple risk types, and sources from both internal and external data. This multidimensionality allows for more nuanced, well-rounded, and insightful responses that go beyond surface-level or single-threaded analysis.',\n",
       " 'Overall Winner': 'Answer 2 is overwhelmingly superior because it consistently delivers more empowerment, comprehensiveness, and diversity of insight. It equips readers with actionable analysis, multi-perspective scenario frameworks, quantitative and qualitative depth, and explicit risk and opportunity assessments—enabling more informed, nuanced, and practical judgments. While Answer 1 is often more cohesive and smoother as a narrative, Answer 2’s richer detail, breadth of perspectives, and practical utility make it far more valuable for sophisticated analysis and decision-making.'}"
      ]
     },
     "execution_count": 61,
     "metadata": {},
     "output_type": "execute_result"
    }
   ],
   "source": [
    "kruppe_o3_results_explanation = await explain_all_metrics(kruppe_o3_results)\n",
    "kruppe_o3_results_explanation"
   ]
  },
  {
   "cell_type": "code",
   "execution_count": 62,
   "metadata": {},
   "outputs": [],
   "source": [
    "for metric, explanation in kruppe_o3_results_explanation.items():\n",
    "    kruppe_o3_results['total_wincounts'][metric]['Explanation'] = explanation\n",
    "with open(\"kruppe_o3_results.json\", \"w\") as f:\n",
    "    json.dump(kruppe_o3_results, f, indent=4)"
   ]
  },
  {
   "cell_type": "code",
   "execution_count": 63,
   "metadata": {},
   "outputs": [
    {
     "name": "stdout",
     "output_type": "stream",
     "text": [
      "Empowerment\n",
      "Answer 2 overwhelmingly outperformed Answer 1 because it consistently offered clear, actionable, and data-driven insights—quantifying scenarios, presenting explicit risks and catalysts, and supplying concrete frameworks for independent decision-making. Its responses empowered readers to form their own judgments by breaking down complex issues into structured analyses with metrics, scenario modeling, and practical recommendations tied directly to key outcomes. This level of specificity and transparency provided readers with both the understanding and the tools needed to make well-informed, empowered decisions.\n",
      "----------------------------------------\n",
      "Cohesiveness\n",
      "Answer 2 wins more often than Answer 1. Its responses are consistently described as highly structured, logically organized, and tightly focused around a central thesis. Each section in Answer 2’s outputs typically builds seamlessly on the previous one, maintaining a unified narrative thread that ties all elements—analysis, evidence, risks, and recommendations—back to the core argument. This clear, stepwise progression and strong internal linkage result in cohesive, easy-to-follow analyses, whereas Answer 1 is often characterized as more segmented, occasionally fragmented, or prone to presenting information in discrete sections without as strong a central story.\n",
      "----------------------------------------\n",
      "Comprehensiveness\n",
      "Answer 2 overwhelmingly wins due to its superior comprehensiveness. Its responses consistently provide greater depth and breadth, offering detailed quantitative and qualitative analyses, scenario modeling, explicit risk breakdowns, peer comparisons, and granular coverage of all relevant financial, operational, strategic, and market factors. This thoroughness ensures a fuller, multi-dimensional understanding of each subject, leaving fewer gaps and enabling more robust, informed conclusions than Answer 1.\n",
      "----------------------------------------\n",
      "Diversity\n",
      "Answer 2 wins far more often than Answer 1. The qualities that made Answer 2 better are its consistently richer diversity of perspectives and depth of analysis. Answer 2 integrates a wide variety of viewpoints (such as operational, financial, strategic, regulatory, ESG, macroeconomic, competitive, and stakeholder-based), often incorporates scenario analysis, comparative benchmarking, multiple risk types, and sources from both internal and external data. This multidimensionality allows for more nuanced, well-rounded, and insightful responses that go beyond surface-level or single-threaded analysis.\n",
      "----------------------------------------\n",
      "Overall Winner\n",
      "Answer 2 is overwhelmingly superior because it consistently delivers more empowerment, comprehensiveness, and diversity of insight. It equips readers with actionable analysis, multi-perspective scenario frameworks, quantitative and qualitative depth, and explicit risk and opportunity assessments—enabling more informed, nuanced, and practical judgments. While Answer 1 is often more cohesive and smoother as a narrative, Answer 2’s richer detail, breadth of perspectives, and practical utility make it far more valuable for sophisticated analysis and decision-making.\n",
      "----------------------------------------\n"
     ]
    }
   ],
   "source": [
    "for metric, explanation in kruppe_o3_results_explanation.items():\n",
    "    print(metric)\n",
    "    print(explanation)\n",
    "    print('--'*20)"
   ]
  },
  {
   "cell_type": "markdown",
   "metadata": {},
   "source": [
    "### ERP"
   ]
  },
  {
   "cell_type": "code",
   "execution_count": 64,
   "metadata": {},
   "outputs": [],
   "source": [
    "with open(\"kruppe_human_results.json\", \"r\") as f:\n",
    "    kruppe_human_results = json.load(f)"
   ]
  },
  {
   "cell_type": "code",
   "execution_count": 65,
   "metadata": {},
   "outputs": [
    {
     "data": {
      "text/plain": [
       "{'Empowerment': \"Answer 1 wins far more often than Answer 2. According to the explanations, Answer 1's superior output is characterized by its clear, accessible synthesis that transforms complex data and technical details into actionable insights and holistic narratives. Answer 1 consistently empowers readers by guiding them through the logic, context, and implications of each issue; it translates facts into understanding, explicitly relates risks and opportunities, and equips a broad audience—not just experts—with the tools and confidence to make informed, independent judgments. In contrast, Answer 2 is typically more technical and data-heavy, often overwhelming non-specialist readers and providing less interpretive guidance, context, or empowerment.\",\n",
       " 'Cohesiveness': 'Answer 1 consistently outperformed Answer 2 because it maintained a clear, logical, and unified narrative—structuring its analysis around a central hypothesis, building arguments step by step, and linking each section back to the overarching thesis. Its cohesive flow guided the reader smoothly from introduction and context through analysis and evidence to a focused conclusion, making the information accessible and integrated. In contrast, Answer 2 was frequently fragmented, presented as a collection of disjointed data points, tables, analyst notes, and disclosures, which disrupted narrative flow and made it difficult for readers to follow a single, coherent story.',\n",
       " 'Comprehensiveness': 'Answer 2 wins more often than Answer 1. The qualities that made Answer 2 better are its exceptional breadth and depth of quantitative detail, including extensive financial data, granular forecasts, scenario analyses, segment breakdowns, risk disclosures, and explicit modeling—offering a near-exhaustive coverage of all relevant facts and data points. Its responses consistently provide comprehensive, data-driven insights that leave few topics unaddressed, making it the superior choice for readers seeking thorough factual and analytical coverage, especially from a professional or technical perspective.',\n",
       " 'Diversity': \"Answer 1 wins more often than Answer 2. According to the judge's explanations, Answer 1 is consistently better because it draws from a broader and more diverse range of perspectives, blending quantitative financial analysis with qualitative viewpoints such as strategy, regulatory landscapes, peer comparisons, industry trends, risks, and stakeholder implications. This multifaceted approach offers a more holistic and nuanced understanding, integrating both internal company data and external market or societal factors, which allows for richer insight and greater diversity in its responses compared to the narrower, more internally or financially focused analyses often found in Answer 2.\",\n",
       " 'Overall Winner': \"Answer 1 wins more often than Answer 2 because it consistently offers an empowering, cohesive, and accessible narrative that synthesizes diverse perspectives and connects strategic, financial, and risk factors into a logical, actionable story. Unlike Answer 2—which often excels in raw data, comprehensiveness, or technical detail but can be fragmented, overwhelming, or less integrated—Answer 1 effectively enables readers of varied backgrounds to understand the big picture, make informed judgments, and grasp both the 'why' and 'how' behind complex topics. This emphasis on interpretive clarity and holistic integration makes Answer 1 the superior choice for most audiences and analytical purposes.\"}"
      ]
     },
     "execution_count": 65,
     "metadata": {},
     "output_type": "execute_result"
    }
   ],
   "source": [
    "kruppe_human_results_explanation = await explain_all_metrics(kruppe_human_results)\n",
    "kruppe_human_results_explanation"
   ]
  },
  {
   "cell_type": "code",
   "execution_count": 66,
   "metadata": {},
   "outputs": [],
   "source": [
    "for metric, explanation in kruppe_human_results_explanation.items():\n",
    "    kruppe_human_results['total_wincounts'][metric]['Explanation'] = explanation\n",
    "with open(\"kruppe_human_results.json\", \"w\") as f:\n",
    "    json.dump(kruppe_human_results, f, indent=4)"
   ]
  },
  {
   "cell_type": "code",
   "execution_count": 67,
   "metadata": {},
   "outputs": [
    {
     "name": "stdout",
     "output_type": "stream",
     "text": [
      "Empowerment\n",
      "Answer 1 wins far more often than Answer 2. According to the explanations, Answer 1's superior output is characterized by its clear, accessible synthesis that transforms complex data and technical details into actionable insights and holistic narratives. Answer 1 consistently empowers readers by guiding them through the logic, context, and implications of each issue; it translates facts into understanding, explicitly relates risks and opportunities, and equips a broad audience—not just experts—with the tools and confidence to make informed, independent judgments. In contrast, Answer 2 is typically more technical and data-heavy, often overwhelming non-specialist readers and providing less interpretive guidance, context, or empowerment.\n",
      "----------------------------------------\n",
      "Cohesiveness\n",
      "Answer 1 consistently outperformed Answer 2 because it maintained a clear, logical, and unified narrative—structuring its analysis around a central hypothesis, building arguments step by step, and linking each section back to the overarching thesis. Its cohesive flow guided the reader smoothly from introduction and context through analysis and evidence to a focused conclusion, making the information accessible and integrated. In contrast, Answer 2 was frequently fragmented, presented as a collection of disjointed data points, tables, analyst notes, and disclosures, which disrupted narrative flow and made it difficult for readers to follow a single, coherent story.\n",
      "----------------------------------------\n",
      "Comprehensiveness\n",
      "Answer 2 wins more often than Answer 1. The qualities that made Answer 2 better are its exceptional breadth and depth of quantitative detail, including extensive financial data, granular forecasts, scenario analyses, segment breakdowns, risk disclosures, and explicit modeling—offering a near-exhaustive coverage of all relevant facts and data points. Its responses consistently provide comprehensive, data-driven insights that leave few topics unaddressed, making it the superior choice for readers seeking thorough factual and analytical coverage, especially from a professional or technical perspective.\n",
      "----------------------------------------\n",
      "Diversity\n",
      "Answer 1 wins more often than Answer 2. According to the judge's explanations, Answer 1 is consistently better because it draws from a broader and more diverse range of perspectives, blending quantitative financial analysis with qualitative viewpoints such as strategy, regulatory landscapes, peer comparisons, industry trends, risks, and stakeholder implications. This multifaceted approach offers a more holistic and nuanced understanding, integrating both internal company data and external market or societal factors, which allows for richer insight and greater diversity in its responses compared to the narrower, more internally or financially focused analyses often found in Answer 2.\n",
      "----------------------------------------\n",
      "Overall Winner\n",
      "Answer 1 wins more often than Answer 2 because it consistently offers an empowering, cohesive, and accessible narrative that synthesizes diverse perspectives and connects strategic, financial, and risk factors into a logical, actionable story. Unlike Answer 2—which often excels in raw data, comprehensiveness, or technical detail but can be fragmented, overwhelming, or less integrated—Answer 1 effectively enables readers of varied backgrounds to understand the big picture, make informed judgments, and grasp both the 'why' and 'how' behind complex topics. This emphasis on interpretive clarity and holistic integration makes Answer 1 the superior choice for most audiences and analytical purposes.\n",
      "----------------------------------------\n"
     ]
    }
   ],
   "source": [
    "for metric, explanation in kruppe_human_results_explanation.items():\n",
    "    print(metric)\n",
    "    print(explanation)\n",
    "    print('--'*20)"
   ]
  },
  {
   "cell_type": "code",
   "execution_count": null,
   "metadata": {},
   "outputs": [],
   "source": []
  },
  {
   "cell_type": "code",
   "execution_count": null,
   "metadata": {},
   "outputs": [],
   "source": []
  }
 ],
 "metadata": {
  "kernelspec": {
   "display_name": "experimental",
   "language": "python",
   "name": "python3"
  },
  "language_info": {
   "codemirror_mode": {
    "name": "ipython",
    "version": 3
   },
   "file_extension": ".py",
   "mimetype": "text/x-python",
   "name": "python",
   "nbconvert_exporter": "python",
   "pygments_lexer": "ipython3",
   "version": "3.13.2"
  }
 },
 "nbformat": 4,
 "nbformat_minor": 2
}
