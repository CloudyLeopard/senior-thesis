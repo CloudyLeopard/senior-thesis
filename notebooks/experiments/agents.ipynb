{
 "cells": [
  {
   "cell_type": "markdown",
   "id": "69c5fd55",
   "metadata": {},
   "source": [
    "# Agents"
   ]
  },
  {
   "cell_type": "markdown",
   "id": "2a733180",
   "metadata": {},
   "source": [
    "## ReAct Agent"
   ]
  },
  {
   "cell_type": "markdown",
   "id": "5cd7c4d8",
   "metadata": {},
   "source": [
    "### Simple Example Using Rlly Simple Tools"
   ]
  },
  {
   "cell_type": "code",
   "execution_count": 1,
   "id": "98eb82c4",
   "metadata": {},
   "outputs": [],
   "source": [
    "from kruppe.llm import OpenAILLM\n",
    "from kruppe.algorithm.agents import ReActResearcher\n",
    "from kruppe.functional.base_tool import BaseTool\n",
    "\n"
   ]
  },
  {
   "cell_type": "code",
   "execution_count": null,
   "id": "366a92c0",
   "metadata": {},
   "outputs": [],
   "source": [
    "class ExampleReActResearcher(ReActResearcher):\n",
    "\n",
    "    def _react_system_prompt(self) -> str:\n",
    "        return \"\"\"\\\n",
    "# Role\n",
    "You answer questions through iterative cycles of reasoning and acting.\n",
    "\n",
    "# Instruction\n",
    "You answer questions by first thinking about the question, then call on tools retrieve information. Afterwards, you think about the retrieved information, and continue this process iteratively. When you have found an answer, you finish the task by generating FINISH[answer]. Unless it is the final FINISH action, always call a tool after each thought. Always respond with a thought.\n",
    "\n",
    "# Output Format\n",
    "- Always respond with an action at the end, and call on a tool.\n",
    "- Only respond with one new action at a time.\n",
    "\n",
    "# Example\n",
    "\n",
    "## Example 1\n",
    "\n",
    "### User\n",
    "What is the capital of France?\n",
    "\n",
    "### Assistant Response 1\n",
    "#### Message\n",
    "\"Thought 1: I need to find the capital of France.\n",
    "Action 1: I will call the get_capital tool to find the capital of France.\"\n",
    "\n",
    "#### Tool Calls\n",
    "get_capital(country=\"France)\n",
    "\n",
    "### Assistant Response 2\n",
    "#### Message\n",
    "\"Observation 1: Paris\n",
    "Thought 2: The tool call returned Paris. So, the capital of France is paris.\n",
    "Action 2: FINISH[Paris]\"\n",
    "\"\"\"\n",
    "\n",
    "    def _react_user_prompt(self, query: str) -> str:\n",
    "        return query"
   ]
  },
  {
   "cell_type": "code",
   "execution_count": 3,
   "id": "3722bdaa",
   "metadata": {},
   "outputs": [],
   "source": [
    "from kruppe.models import Document\n",
    "\n",
    "\n",
    "class CountryHub(BaseTool):\n",
    "    def get_capital(self, country: str) -> str:\n",
    "        capitals = {\n",
    "            \"France\": \"Paris\",\n",
    "            \"Germany\": \"Berlin\",\n",
    "            \"Spain\": \"Madrid\",\n",
    "            \"China\": \"Beijing\",\n",
    "        }\n",
    "        return capitals.get(country, \"Unknown\"), [Document(text=\"Trust me\", metadata={})]\n",
    "\n",
    "    def get_continent(self, country: str) -> str:\n",
    "        continents = {\n",
    "            \"France\": \"Europe\",\n",
    "            \"Germany\": \"Europe\",\n",
    "            \"Spain\": \"Europe\",\n",
    "            \"China\": \"Asia\",\n",
    "        }\n",
    "        return continents.get(country, \"Unknown\"), [Document(text=\"Trust me\", metadata={})]\n",
    "\n",
    "    def get_capital_schema(self):\n",
    "        return {\n",
    "            \"type\": \"function\",\n",
    "            \"function\": {\n",
    "                \"name\": \"get_capital\",\n",
    "                \"description\": \"Get the capital of a country\",\n",
    "                \"parameters\": {\n",
    "                    \"type\": \"object\",\n",
    "                    \"properties\": {\n",
    "                        \"country\": {\"type\": \"string\", \"description\": \"The name of the country\"},\n",
    "                    },\n",
    "                    \"required\": [\"country\"],\n",
    "                    \"additionalProperties\": False\n",
    "                },\n",
    "                \"strict\": True\n",
    "            }\n",
    "        }\n",
    "    \n",
    "    def get_continent_schema(self):\n",
    "        return {\n",
    "            \"type\": \"function\",\n",
    "            \"function\": {\n",
    "                \"name\": \"get_continent\",\n",
    "                \"description\": \"Get the continent of a country\",\n",
    "                \"parameters\": {\n",
    "                    \"type\": \"object\",\n",
    "                    \"properties\": {\n",
    "                        \"country\": {\"type\": \"string\", \"description\": \"The name of the country\"},\n",
    "                    },\n",
    "                    \"required\": [\"country\"],\n",
    "                    \"additionalProperties\": False\n",
    "                },\n",
    "                \"strict\": True\n",
    "            }\n",
    "        }\n",
    "\n"
   ]
  },
  {
   "cell_type": "code",
   "execution_count": 4,
   "id": "1c3bb84b",
   "metadata": {},
   "outputs": [],
   "source": [
    "toolhub1 = CountryHub()\n",
    "\n",
    "researcher = ExampleReActResearcher(\n",
    "    llm=OpenAILLM(model=\"gpt-4.1\"),\n",
    "    toolkit=[\n",
    "        toolhub1.get_capital,\n",
    "        toolhub1.get_continent\n",
    "    ]\n",
    ")"
   ]
  },
  {
   "cell_type": "code",
   "execution_count": 5,
   "id": "46452d3d",
   "metadata": {},
   "outputs": [
    {
     "name": "stdout",
     "output_type": "stream",
     "text": [
      "[{'role': 'assistant', 'content': 'Thought 1: I need to find both the capital city of China and the continent on which China is located.\\nAction 1: get_capital(country=\"China\")\\n'}]\n",
      "get_capital(country=\"China\")\n"
     ]
    }
   ],
   "source": [
    "query = \"What is the capital and continent of China?\"\n",
    "researcher._messages = [\n",
    "    {\"role\": \"system\", \"content\": researcher._react_system_prompt()},\n",
    "    {\"role\": \"user\", \"content\": researcher._react_user_prompt(query)}\n",
    "]\n",
    "\n",
    "reason_messages, action = await researcher.reason(1)\n",
    "print(reason_messages)\n",
    "print(action)"
   ]
  },
  {
   "cell_type": "code",
   "execution_count": 6,
   "id": "311ba1b0",
   "metadata": {},
   "outputs": [
    {
     "name": "stdout",
     "output_type": "stream",
     "text": [
      "[{'role': 'assistant', 'content': None, 'tool_calls': [{'id': 'call_5puJ6XcvJkyDpf0exwl9oyw5', 'type': 'function', 'function': {'name': 'get_capital', 'arguments': '{\"country\": \"China\"}'}}]}, {'role': 'tool', 'tool_call_id': 'call_5puJ6XcvJkyDpf0exwl9oyw5', 'content': 'Observation get_capital(country=\"China\"): Beijing\\n'}]\n",
      "Observation get_capital(country=\"China\"): Beijing\n",
      "\n",
      "[Document(text='Trust me', id=UUID('138e632d-2b98-47a4-8737-3c0c8b5349e2'), metadata={'publication_time': ''})]\n"
     ]
    }
   ],
   "source": [
    "tool_messages, obs, sources = await researcher.act(action)\n",
    "print(tool_messages)\n",
    "print(obs)\n",
    "print(sources)"
   ]
  },
  {
   "cell_type": "code",
   "execution_count": 7,
   "id": "95eb8b62",
   "metadata": {},
   "outputs": [
    {
     "name": "stdout",
     "output_type": "stream",
     "text": [
      "Thought 1: I need to find both the capital city and the continent in which China is located.\n",
      "Action 1: get_capital(country=\"China\")\n",
      "Observation 1: Beijing\n",
      "Thought 2: The capital of China is Beijing. Now I need to find out which continent China is located in.\n",
      "Action 2: get_continent(country=\"China\")\n",
      "Observation 2: Asia\n",
      "Thought 3: I now know that the capital of China is Beijing and the continent is Asia.\n",
      "Action 3: FINISH[The capital of China is Beijing and it is located on the continent of Asia.]\n"
     ]
    },
    {
     "data": {
      "text/plain": [
       "Response(text='the capital of china is beijing and it is located on the continent of asia.', sources=[Document(text='Trust me', id=UUID('59c7088a-4fc0-4e3e-beda-98f59209d385'), metadata={'publication_time': ''}), Document(text='Trust me', id=UUID('237f2de2-c606-4545-8b24-3df486f2c4c8'), metadata={'publication_time': ''})])"
      ]
     },
     "execution_count": 7,
     "metadata": {},
     "output_type": "execute_result"
    }
   ],
   "source": [
    "await researcher.execute(query)"
   ]
  },
  {
   "cell_type": "markdown",
   "id": "6d6aa13e",
   "metadata": {},
   "source": [
    "## Librarian Agent"
   ]
  },
  {
   "cell_type": "code",
   "execution_count": 1,
   "id": "e606bac8",
   "metadata": {},
   "outputs": [],
   "source": [
    "from kruppe.llm import OpenAILLM, OpenAIEmbeddingModel\n",
    "from kruppe.functional.docstore.mongo_store import MongoDBStore\n",
    "from kruppe.functional.rag.vectorstore.chroma import ChromaVectorStore\n",
    "from kruppe.functional.rag.index.vectorstore_index import VectorStoreIndex\n",
    "from kruppe.functional.rag.retriever.simple_retriever import SimpleRetriever\n",
    "\n",
    "reset_db=True\n",
    "\n",
    "\n",
    "db_name = \"kruppe_librarian\"\n",
    "collection_name = \"playground_3\"\n",
    "\n",
    "# Create doc store\n",
    "unique_indices = [['title', 'datasource']] # NOTE: this is important to avoid duplicates\n",
    "docstore = await MongoDBStore.acreate_db(\n",
    "    db_name=db_name,\n",
    "    collection_name=\"playground\",\n",
    "    unique_indices=unique_indices,\n",
    "    reset_db=reset_db\n",
    ")\n",
    "\n",
    "# Create vectorstore index\n",
    "embedding_model = OpenAIEmbeddingModel()\n",
    "vectorstore = ChromaVectorStore(\n",
    "    embedding_model=embedding_model,\n",
    "    collection_name=collection_name,\n",
    "    persist_path='/Volumes/Lexar/Daniel Liu/vectorstores/kruppe_librarian'\n",
    ")\n",
    "\n",
    "if reset_db:\n",
    "    vectorstore.clear()\n",
    "    \n",
    "index = VectorStoreIndex(vectorstore=vectorstore)\n",
    "\n",
    "retriever = SimpleRetriever(index=index)"
   ]
  },
  {
   "cell_type": "code",
   "execution_count": 2,
   "id": "3085b952",
   "metadata": {},
   "outputs": [],
   "source": [
    "from kruppe.functional.ragquery import RagQuery\n",
    "from kruppe.functional.llmquery import LLMQuery\n",
    "from kruppe.functional.newshub import NewsHub\n",
    "from kruppe.functional.finhub import FinHub\n",
    "\n",
    "from kruppe.data_source.news.nyt import NewYorkTimesData\n",
    "from kruppe.data_source.news.ft import FinancialTimesData\n",
    "from kruppe.data_source.news.newsapi import NewsAPIData\n",
    "\n",
    "from kruppe.data_source.finance.yfin import YFinanceData\n",
    "\n",
    "rag_query_engine = RagQuery(\n",
    "    retriever = retriever,\n",
    "    llm = OpenAILLM()\n",
    ")\n",
    "\n",
    "llm_query_engine = LLMQuery(\n",
    "    llm = OpenAILLM()\n",
    ")\n",
    "\n",
    "news_hub = NewsHub(news_sources=[\n",
    "    NewYorkTimesData(headers_path=\"../../.nyt-headers.json\"),\n",
    "    FinancialTimesData(headers_path=\"../../.ft-headers.json\"),\n",
    "    NewsAPIData()\n",
    "])\n",
    "\n",
    "fin_hub = FinHub(\n",
    "    fin_source = YFinanceData(),\n",
    "    llm = OpenAILLM()\n",
    ")"
   ]
  },
  {
   "cell_type": "code",
   "execution_count": 3,
   "id": "242fa07d",
   "metadata": {},
   "outputs": [],
   "source": [
    "from kruppe.algorithm.librarian import Librarian\n",
    "\n",
    "librarian = Librarian(\n",
    "    llm=OpenAILLM(model=\"gpt-4.1\"),\n",
    "    docstore=docstore,\n",
    "    index=index,\n",
    "    toolkit = [\n",
    "        rag_query_engine.rag_query,\n",
    "        llm_query_engine.llm_query,\n",
    "        news_hub.news_search,\n",
    "        news_hub.news_recent,\n",
    "        # news_hub.news_archive,\n",
    "        fin_hub.get_company_background,\n",
    "        fin_hub.get_company_income_stmt,\n",
    "        fin_hub.get_company_balance_sheet,\n",
    "        fin_hub.analyze_company_financial_stmts\n",
    "    ]\n",
    ")\n",
    "\n"
   ]
  },
  {
   "cell_type": "code",
   "execution_count": 4,
   "id": "7167da90",
   "metadata": {},
   "outputs": [],
   "source": [
    "query = \"Who made more in revenue last year, NVIDIA or Tesla?\""
   ]
  },
  {
   "cell_type": "code",
   "execution_count": 5,
   "id": "76c7e5f4",
   "metadata": {},
   "outputs": [
    {
     "name": "stdout",
     "output_type": "stream",
     "text": [
      "[{'role': 'assistant', 'content': 'Thought 1: The information request is asking which company—NVIDIA or Tesla—had higher revenue in the most recent year (\"last year\"). To answer this, I need to retrieve the latest annual revenue numbers for both companies and compare them.\\n\\nPlan:\\n1. Identify the ticker symbols for NVIDIA (NVDA) and Tesla (TSLA).\\n2. Retrieve the most recent annual revenue for both companies using their income statements.\\n3. Compare the revenue figures and identify which company had more revenue last year.\\nAction 1: Request the most recent (last year) income statements for both NVIDIA (NVDA) and Tesla (TSLA) to obtain their annual revenue.\\n'}]\n",
      "Request the most recent (last year) income statements for both NVIDIA (NVDA) and Tesla (TSLA) to obtain their annual revenue.\n"
     ]
    }
   ],
   "source": [
    "librarian._messages = [\n",
    "    {\"role\": \"system\", \"content\": librarian._react_system_prompt()},\n",
    "    {\"role\": \"user\", \"content\": librarian._react_user_prompt(query)}\n",
    "]\n",
    "\n",
    "reason_messages, action = await librarian.reason(1)\n",
    "print(reason_messages)\n",
    "print(action)"
   ]
  },
  {
   "cell_type": "code",
   "execution_count": 6,
   "id": "17dee6ac",
   "metadata": {},
   "outputs": [
    {
     "name": "stdout",
     "output_type": "stream",
     "text": [
      "[{'role': 'assistant', 'content': None, 'tool_calls': [{'id': 'call_y24eLXLGnlrJ1DpnoPR5NtWv', 'type': 'function', 'function': {'name': 'get_company_income_stmt', 'arguments': '{\"ticker\": \"NVDA\", \"years\": 1}'}}]}, {'role': 'tool', 'tool_call_id': 'call_y24eLXLGnlrJ1DpnoPR5NtWv', 'content': 'Observation 1:                                                    2025-01-31     2024-01-31 Operating Revenue                              130497000000.0  60922000000.0 Total Revenue                                  130497000000.0  60922000000.0 Cost Of Revenue                                 32639000000.0  16621000000.0 Gross Profit                                    97858000000.0  44301000000.0 Selling General And Administration               3491000000.0   2654000000.0 Research And Development                        12914000000.0   8675000000.0 Operating Expense                               16405000000.0  11329000000.0 Operating Income                                81453000000.0  32972000000.0 Interest Income Non Operating                    1786000000.0    866000000.0 Interest Expense Non Operating                    247000000.0    257000000.0 Net Non Operating Interest Income Expense        1539000000.0    609000000.0 Restructuring And Mergern Acquisition                     0.0            0.0 Special Income Charges                                    0.0            0.0 Other Non Operating Income Expenses              1034000000.0    237000000.0 Other Income Expense                             1034000000.0    237000000.0 Pretax Income                                   84026000000.0  33818000000.0 Tax Provision                                   11146000000.0   4058000000.0 Net Income Continuous Operations                72880000000.0  29760000000.0 Net Income Including Noncontrolling Interests   72880000000.0  29760000000.0 Net Income                                      72880000000.0  29760000000.0 Net Income Common Stockholders                  72880000000.0  29760000000.0 Diluted NI Availto Com Stockholders             72880000000.0  29760000000.0 Basic EPS                                                2.97           1.21 Diluted EPS                                              2.94           1.19 Basic Average Shares                            24555000000.0  24690000000.0 Diluted Average Shares                          24804000000.0  24940000000.0 EBIT                                            84273000000.0  34075000000.0 EBITDA                                          86137000000.0  35583000000.0\\n'}]\n",
      "Observation 1:                                                    2025-01-31     2024-01-31 Operating Revenue                              130497000000.0  60922000000.0 Total Revenue                                  130497000000.0  60922000000.0 Cost Of Revenue                                 32639000000.0  16621000000.0 Gross Profit                                    97858000000.0  44301000000.0 Selling General And Administration               3491000000.0   2654000000.0 Research And Development                        12914000000.0   8675000000.0 Operating Expense                               16405000000.0  11329000000.0 Operating Income                                81453000000.0  32972000000.0 Interest Income Non Operating                    1786000000.0    866000000.0 Interest Expense Non Operating                    247000000.0    257000000.0 Net Non Operating Interest Income Expense        1539000000.0    609000000.0 Restructuring And Mergern Acquisition                     0.0            0.0 Special Income Charges                                    0.0            0.0 Other Non Operating Income Expenses              1034000000.0    237000000.0 Other Income Expense                             1034000000.0    237000000.0 Pretax Income                                   84026000000.0  33818000000.0 Tax Provision                                   11146000000.0   4058000000.0 Net Income Continuous Operations                72880000000.0  29760000000.0 Net Income Including Noncontrolling Interests   72880000000.0  29760000000.0 Net Income                                      72880000000.0  29760000000.0 Net Income Common Stockholders                  72880000000.0  29760000000.0 Diluted NI Availto Com Stockholders             72880000000.0  29760000000.0 Basic EPS                                                2.97           1.21 Diluted EPS                                              2.94           1.19 Basic Average Shares                            24555000000.0  24690000000.0 Diluted Average Shares                          24804000000.0  24940000000.0 EBIT                                            84273000000.0  34075000000.0 EBITDA                                          86137000000.0  35583000000.0\n",
      "\n",
      "[]\n"
     ]
    }
   ],
   "source": [
    "librarian._messages.extend(reason_messages)\n",
    "tool_call_messages, obs, sources = await librarian.act(1)\n",
    "print(tool_call_messages)\n",
    "print(obs)\n",
    "print(sources)"
   ]
  },
  {
   "cell_type": "code",
   "execution_count": 5,
   "id": "cc5faa66",
   "metadata": {},
   "outputs": [
    {
     "name": "stdout",
     "output_type": "stream",
     "text": [
      "Thought 1: The information request is for a comparison of last year's revenue between NVIDIA and Tesla. To answer this, I need to retrieve the most recent annual revenue figures for both companies. This information can be found in the most recent income statements for each company.\n",
      "\n",
      "Plan:\n",
      "1. Obtain the most recent (last year) income statement for NVIDIA (ticker: NVDA).\n",
      "2. Obtain the most recent (last year) income statement for Tesla (ticker: TSLA).\n",
      "3. Compare the \"Revenue\" or \"Total Revenue\" figures from both statements.\n",
      "Action 1: Retrieve the most recent (last year) income statements for NVIDIA and Tesla.\n",
      "get_company_income_stmt({\"ticker\": \"NVDA\", \"years\": 1})\n",
      "Observation 1: \n",
      "                                                   2025-01-31     2024-01-31\n",
      "Operating Revenue                              130497000000.0  60922000000.0\n",
      "Total Revenue                                  130497000000.0  60922000000.0\n",
      "Cost Of Revenue                                 32639000000.0  16621000000.0\n",
      "Gross Profit                                    97858000000.0  44301000000.0\n",
      "Selling General And Administration               3491000000.0   2654000000.0\n",
      "Research And Development                        12914000000.0   8675000000.0\n",
      "Operating Expense                               16405000000.0  11329000000.0\n",
      "Operating Income                                81453000000.0  32972000000.0\n",
      "Interest Income Non Operating                    1786000000.0    866000000.0\n",
      "Interest Expense Non Operating                    247000000.0    257000000.0\n",
      "Net Non Operating Interest Income Expense        1539000000.0    609000000.0\n",
      "Restructuring And Mergern Acquisition                     0.0            0.0\n",
      "Special Income Charges                                    0.0            0.0\n",
      "Other Non Operating Income Expenses              1034000000.0    237000000.0\n",
      "Other Income Expense                             1034000000.0    237000000.0\n",
      "Pretax Income                                   84026000000.0  33818000000.0\n",
      "Tax Provision                                   11146000000.0   4058000000.0\n",
      "Net Income Continuous Operations                72880000000.0  29760000000.0\n",
      "Net Income Including Noncontrolling Interests   72880000000.0  29760000000.0\n",
      "Net Income                                      72880000000.0  29760000000.0\n",
      "Net Income Common Stockholders                  72880000000.0  29760000000.0\n",
      "Diluted NI Availto Com Stockholders             72880000000.0  29760000000.0\n",
      "Basic EPS                                                2.97           1.21\n",
      "Diluted EPS                                              2.94           1.19\n",
      "Basic Average Shares                            24555000000.0  24690000000.0\n",
      "Diluted Average Shares                          24804000000.0  24940000000.0\n",
      "EBIT                                            84273000000.0  34075000000.0\n",
      "EBITDA                                          86137000000.0  35583000000.0\n",
      "Thought 2: I have retrieved NVIDIA's most recent revenue: For the fiscal year ending January 31, 2024 (which corresponds roughly to the 2023 calendar year), NVIDIA reported total revenue of $60,922,000,000. Now, I need to retrieve the same information for Tesla to make the comparison.\n",
      "Action 2: Retrieve the most recent (last year) income statement for Tesla (TSLA).\n",
      "get_company_income_stmt({\"ticker\":\"TSLA\",\"years\":1})\n",
      "Observation 2: \n",
      "                                                  2024-12-31     2023-12-31\n",
      "Operating Revenue                              97690000000.0  96773000000.0\n",
      "Total Revenue                                  97690000000.0  96773000000.0\n",
      "Cost Of Revenue                                80240000000.0  79113000000.0\n",
      "Gross Profit                                   17450000000.0  17660000000.0\n",
      "Selling General And Administration              5150000000.0   4800000000.0\n",
      "Research And Development                        4540000000.0   3969000000.0\n",
      "Operating Expense                               9690000000.0   8769000000.0\n",
      "Operating Income                                7760000000.0   8891000000.0\n",
      "Interest Income Non Operating                   1569000000.0   1066000000.0\n",
      "Interest Expense Non Operating                   350000000.0    156000000.0\n",
      "Net Non Operating Interest Income Expense       1219000000.0    910000000.0\n",
      "Restructuring And Mergern Acquisition            684000000.0            0.0\n",
      "Special Income Charges                          -684000000.0            0.0\n",
      "Other Non Operating Income Expenses              695000000.0    172000000.0\n",
      "Other Income Expense                              11000000.0    172000000.0\n",
      "Pretax Income                                   8990000000.0   9973000000.0\n",
      "Tax Provision                                   1837000000.0  -5001000000.0\n",
      "Net Income Continuous Operations                7153000000.0  14974000000.0\n",
      "Net Income Including Noncontrolling Interests   7153000000.0  14974000000.0\n",
      "Minority Interests                               -23000000.0     25000000.0\n",
      "Net Income                                      7130000000.0  14999000000.0\n",
      "Otherunder Preferred Stock Dividend                      NaN            NaN\n",
      "Net Income Common Stockholders                  7130000000.0  14999000000.0\n",
      "Average Dilution Earnings                                0.0            0.0\n",
      "Diluted NI Availto Com Stockholders             7130000000.0  14999000000.0\n",
      "Basic EPS                                                NaN       4.725697\n",
      "Diluted EPS                                              NaN           4.31\n",
      "Basic Average Shares                                     NaN   3173500000.0\n",
      "Diluted Average Shares                                   NaN   3482750000.0\n",
      "EBIT                                            9340000000.0  10129000000.0\n",
      "EBITDA                                         14708000000.0  14796000000.0\n",
      "Thought 3: I have now retrieved the most recent annual revenues for both companies. For Tesla, for the fiscal year ending December 31, 2023, total revenue was $96,773,000,000. For NVIDIA, for the fiscal year ending January 31, 2024, total revenue was $60,922,000,000. \n",
      "\n",
      "Tesla's annual revenue for 2023 is higher than NVIDIA's for their comparable fiscal year.\n",
      "Action 3: FINISH[\n",
      "For the most recent fiscal year, Tesla made more in revenue than NVIDIA. \n",
      "- Tesla's revenue (fiscal year ended Dec 31, 2023): $96.8 billion.\n",
      "- NVIDIA's revenue (fiscal year ended Jan 31, 2024): $60.9 billion.\n",
      "]\n"
     ]
    },
    {
     "data": {
      "text/plain": [
       "Response(text=\"for the most recent fiscal year, tesla made more in revenue than nvidia. \\n- tesla's revenue (fiscal year ended dec 31, 2023): $96.8 billion.\\n- nvidia's revenue (fiscal year ended jan 31, 2024): $60.9 billion.\", sources=[])"
      ]
     },
     "execution_count": 5,
     "metadata": {},
     "output_type": "execute_result"
    }
   ],
   "source": [
    "result = await librarian.execute(query, to_print=True)\n",
    "result"
   ]
  },
  {
   "cell_type": "code",
   "execution_count": null,
   "id": "4105aa03",
   "metadata": {},
   "outputs": [],
   "source": []
  }
 ],
 "metadata": {
  "kernelspec": {
   "display_name": "experimental",
   "language": "python",
   "name": "python3"
  },
  "language_info": {
   "codemirror_mode": {
    "name": "ipython",
    "version": 3
   },
   "file_extension": ".py",
   "mimetype": "text/x-python",
   "name": "python",
   "nbconvert_exporter": "python",
   "pygments_lexer": "ipython3",
   "version": "3.13.2"
  }
 },
 "nbformat": 4,
 "nbformat_minor": 5
}
